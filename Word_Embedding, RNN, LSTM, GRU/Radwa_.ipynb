{
 "cells": [
  {
   "cell_type": "code",
   "execution_count": 1,
   "id": "f11eff73",
   "metadata": {
    "execution": {
     "iopub.execute_input": "2024-12-12T08:08:57.133637Z",
     "iopub.status.busy": "2024-12-12T08:08:57.133284Z",
     "iopub.status.idle": "2024-12-12T08:09:11.251340Z",
     "shell.execute_reply": "2024-12-12T08:09:11.250625Z"
    },
    "papermill": {
     "duration": 14.131616,
     "end_time": "2024-12-12T08:09:11.253311",
     "exception": false,
     "start_time": "2024-12-12T08:08:57.121695",
     "status": "completed"
    },
    "tags": []
   },
   "outputs": [],
   "source": [
    "import pandas as pd\n",
    "import re\n",
    "from tensorflow.keras import models\n",
    "from tensorflow.keras import layers\n",
    "from tensorflow.keras import losses\n",
    "from tensorflow.keras import metrics\n",
    "from tensorflow.keras import optimizers\n",
    "from tensorflow.keras.callbacks import EarlyStopping\n",
    "import pandas as pd\n",
    "import matplotlib.pyplot as plt\n",
    "import seaborn as sns\n",
    "import numpy as np\n",
    "\n",
    "import warnings\n",
    "warnings.filterwarnings('ignore')"
   ]
  },
  {
   "cell_type": "code",
   "execution_count": 2,
   "id": "cd743a3b",
   "metadata": {
    "execution": {
     "iopub.execute_input": "2024-12-12T08:09:11.271168Z",
     "iopub.status.busy": "2024-12-12T08:09:11.270681Z",
     "iopub.status.idle": "2024-12-12T08:09:14.428140Z",
     "shell.execute_reply": "2024-12-12T08:09:14.427453Z"
    },
    "papermill": {
     "duration": 3.168402,
     "end_time": "2024-12-12T08:09:14.430273",
     "exception": false,
     "start_time": "2024-12-12T08:09:11.261871",
     "status": "completed"
    },
    "tags": []
   },
   "outputs": [],
   "source": [
    "df=pd.read_csv(r\"/kaggle/input/biomedical-text-publication-classification/alldata_1_for_kaggle.csv\",encoding='latin1')"
   ]
  },
  {
   "cell_type": "code",
   "execution_count": 3,
   "id": "0fb16c47",
   "metadata": {
    "execution": {
     "iopub.execute_input": "2024-12-12T08:09:14.447963Z",
     "iopub.status.busy": "2024-12-12T08:09:14.447627Z",
     "iopub.status.idle": "2024-12-12T08:09:14.452062Z",
     "shell.execute_reply": "2024-12-12T08:09:14.451249Z"
    },
    "papermill": {
     "duration": 0.014937,
     "end_time": "2024-12-12T08:09:14.453729",
     "exception": false,
     "start_time": "2024-12-12T08:09:14.438792",
     "status": "completed"
    },
    "tags": []
   },
   "outputs": [
    {
     "name": "stdout",
     "output_type": "stream",
     "text": [
      "(7570, 3)\n"
     ]
    }
   ],
   "source": [
    "print(df.shape)"
   ]
  },
  {
   "cell_type": "code",
   "execution_count": 4,
   "id": "01e1b7dd",
   "metadata": {
    "execution": {
     "iopub.execute_input": "2024-12-12T08:09:14.470936Z",
     "iopub.status.busy": "2024-12-12T08:09:14.470591Z",
     "iopub.status.idle": "2024-12-12T08:09:14.485499Z",
     "shell.execute_reply": "2024-12-12T08:09:14.484642Z"
    },
    "papermill": {
     "duration": 0.025626,
     "end_time": "2024-12-12T08:09:14.487351",
     "exception": false,
     "start_time": "2024-12-12T08:09:14.461725",
     "status": "completed"
    },
    "tags": []
   },
   "outputs": [
    {
     "data": {
      "text/html": [
       "<div>\n",
       "<style scoped>\n",
       "    .dataframe tbody tr th:only-of-type {\n",
       "        vertical-align: middle;\n",
       "    }\n",
       "\n",
       "    .dataframe tbody tr th {\n",
       "        vertical-align: top;\n",
       "    }\n",
       "\n",
       "    .dataframe thead th {\n",
       "        text-align: right;\n",
       "    }\n",
       "</style>\n",
       "<table border=\"1\" class=\"dataframe\">\n",
       "  <thead>\n",
       "    <tr style=\"text-align: right;\">\n",
       "      <th></th>\n",
       "      <th>Unnamed: 0</th>\n",
       "      <th>0</th>\n",
       "      <th>a</th>\n",
       "    </tr>\n",
       "  </thead>\n",
       "  <tbody>\n",
       "    <tr>\n",
       "      <th>0</th>\n",
       "      <td>0</td>\n",
       "      <td>Thyroid_Cancer</td>\n",
       "      <td>Thyroid surgery in  children in a single insti...</td>\n",
       "    </tr>\n",
       "    <tr>\n",
       "      <th>1</th>\n",
       "      <td>1</td>\n",
       "      <td>Thyroid_Cancer</td>\n",
       "      <td>\" The adopted strategy was the same as that us...</td>\n",
       "    </tr>\n",
       "    <tr>\n",
       "      <th>2</th>\n",
       "      <td>2</td>\n",
       "      <td>Thyroid_Cancer</td>\n",
       "      <td>coronary arterybypass grafting thrombosis ï¬b...</td>\n",
       "    </tr>\n",
       "    <tr>\n",
       "      <th>3</th>\n",
       "      <td>3</td>\n",
       "      <td>Thyroid_Cancer</td>\n",
       "      <td>Solitary plasmacytoma SP of the skull is an u...</td>\n",
       "    </tr>\n",
       "    <tr>\n",
       "      <th>4</th>\n",
       "      <td>4</td>\n",
       "      <td>Thyroid_Cancer</td>\n",
       "      <td>This study aimed to investigate serum matrix ...</td>\n",
       "    </tr>\n",
       "  </tbody>\n",
       "</table>\n",
       "</div>"
      ],
      "text/plain": [
       "   Unnamed: 0               0  \\\n",
       "0           0  Thyroid_Cancer   \n",
       "1           1  Thyroid_Cancer   \n",
       "2           2  Thyroid_Cancer   \n",
       "3           3  Thyroid_Cancer   \n",
       "4           4  Thyroid_Cancer   \n",
       "\n",
       "                                                   a  \n",
       "0  Thyroid surgery in  children in a single insti...  \n",
       "1  \" The adopted strategy was the same as that us...  \n",
       "2  coronary arterybypass grafting thrombosis ï¬b...  \n",
       "3   Solitary plasmacytoma SP of the skull is an u...  \n",
       "4   This study aimed to investigate serum matrix ...  "
      ]
     },
     "execution_count": 4,
     "metadata": {},
     "output_type": "execute_result"
    }
   ],
   "source": [
    "df.head()"
   ]
  },
  {
   "cell_type": "markdown",
   "id": "76f44992",
   "metadata": {
    "papermill": {
     "duration": 0.008613,
     "end_time": "2024-12-12T08:09:14.505386",
     "exception": false,
     "start_time": "2024-12-12T08:09:14.496773",
     "status": "completed"
    },
    "tags": []
   },
   "source": [
    "# Cleaning The data"
   ]
  },
  {
   "cell_type": "markdown",
   "id": "0c0e3682",
   "metadata": {
    "papermill": {
     "duration": 0.007739,
     "end_time": "2024-12-12T08:09:14.521026",
     "exception": false,
     "start_time": "2024-12-12T08:09:14.513287",
     "status": "completed"
    },
    "tags": []
   },
   "source": [
    "**Drop uninterested columns**"
   ]
  },
  {
   "cell_type": "code",
   "execution_count": 5,
   "id": "5787c805",
   "metadata": {
    "execution": {
     "iopub.execute_input": "2024-12-12T08:09:14.538702Z",
     "iopub.status.busy": "2024-12-12T08:09:14.537962Z",
     "iopub.status.idle": "2024-12-12T08:09:14.546489Z",
     "shell.execute_reply": "2024-12-12T08:09:14.545638Z"
    },
    "papermill": {
     "duration": 0.019127,
     "end_time": "2024-12-12T08:09:14.548098",
     "exception": false,
     "start_time": "2024-12-12T08:09:14.528971",
     "status": "completed"
    },
    "tags": []
   },
   "outputs": [],
   "source": [
    "df.drop(['Unnamed: 0'],axis=1,inplace=True)"
   ]
  },
  {
   "cell_type": "markdown",
   "id": "cb626e0e",
   "metadata": {
    "papermill": {
     "duration": 0.00777,
     "end_time": "2024-12-12T08:09:14.564005",
     "exception": false,
     "start_time": "2024-12-12T08:09:14.556235",
     "status": "completed"
    },
    "tags": []
   },
   "source": [
    "**Rename columns**"
   ]
  },
  {
   "cell_type": "code",
   "execution_count": 6,
   "id": "10c968ed",
   "metadata": {
    "execution": {
     "iopub.execute_input": "2024-12-12T08:09:14.581706Z",
     "iopub.status.busy": "2024-12-12T08:09:14.580901Z",
     "iopub.status.idle": "2024-12-12T08:09:14.585024Z",
     "shell.execute_reply": "2024-12-12T08:09:14.584343Z"
    },
    "papermill": {
     "duration": 0.014766,
     "end_time": "2024-12-12T08:09:14.586649",
     "exception": false,
     "start_time": "2024-12-12T08:09:14.571883",
     "status": "completed"
    },
    "tags": []
   },
   "outputs": [],
   "source": [
    "df.columns=['label','text']"
   ]
  },
  {
   "cell_type": "markdown",
   "id": "78485ccd",
   "metadata": {
    "papermill": {
     "duration": 0.007887,
     "end_time": "2024-12-12T08:09:14.603331",
     "exception": false,
     "start_time": "2024-12-12T08:09:14.595444",
     "status": "completed"
    },
    "tags": []
   },
   "source": [
    "**Check Null values**"
   ]
  },
  {
   "cell_type": "code",
   "execution_count": 7,
   "id": "1d888202",
   "metadata": {
    "execution": {
     "iopub.execute_input": "2024-12-12T08:09:14.620498Z",
     "iopub.status.busy": "2024-12-12T08:09:14.620164Z",
     "iopub.status.idle": "2024-12-12T08:09:14.627152Z",
     "shell.execute_reply": "2024-12-12T08:09:14.626413Z"
    },
    "papermill": {
     "duration": 0.017578,
     "end_time": "2024-12-12T08:09:14.628808",
     "exception": false,
     "start_time": "2024-12-12T08:09:14.611230",
     "status": "completed"
    },
    "tags": []
   },
   "outputs": [
    {
     "data": {
      "text/plain": [
       "0"
      ]
     },
     "execution_count": 7,
     "metadata": {},
     "output_type": "execute_result"
    }
   ],
   "source": [
    "df['text'].isna().sum()"
   ]
  },
  {
   "cell_type": "markdown",
   "id": "a11593d9",
   "metadata": {
    "papermill": {
     "duration": 0.00798,
     "end_time": "2024-12-12T08:09:14.644953",
     "exception": false,
     "start_time": "2024-12-12T08:09:14.636973",
     "status": "completed"
    },
    "tags": []
   },
   "source": [
    "**Remove digits**"
   ]
  },
  {
   "cell_type": "code",
   "execution_count": 8,
   "id": "199826b1",
   "metadata": {
    "execution": {
     "iopub.execute_input": "2024-12-12T08:09:14.662054Z",
     "iopub.status.busy": "2024-12-12T08:09:14.661778Z",
     "iopub.status.idle": "2024-12-12T08:09:14.665772Z",
     "shell.execute_reply": "2024-12-12T08:09:14.665052Z"
    },
    "papermill": {
     "duration": 0.014442,
     "end_time": "2024-12-12T08:09:14.667312",
     "exception": false,
     "start_time": "2024-12-12T08:09:14.652870",
     "status": "completed"
    },
    "tags": []
   },
   "outputs": [],
   "source": [
    "def remove_digits(text):\n",
    "    return re.sub('\\d+','',text)"
   ]
  },
  {
   "cell_type": "code",
   "execution_count": 9,
   "id": "332e5478",
   "metadata": {
    "execution": {
     "iopub.execute_input": "2024-12-12T08:09:14.684296Z",
     "iopub.status.busy": "2024-12-12T08:09:14.684021Z",
     "iopub.status.idle": "2024-12-12T08:09:18.408645Z",
     "shell.execute_reply": "2024-12-12T08:09:18.407710Z"
    },
    "papermill": {
     "duration": 3.735389,
     "end_time": "2024-12-12T08:09:18.410727",
     "exception": false,
     "start_time": "2024-12-12T08:09:14.675338",
     "status": "completed"
    },
    "tags": []
   },
   "outputs": [],
   "source": [
    "df['cleaned_text']=df['text'].apply(lambda x:remove_digits(x))"
   ]
  },
  {
   "cell_type": "markdown",
   "id": "0db56812",
   "metadata": {
    "papermill": {
     "duration": 0.00782,
     "end_time": "2024-12-12T08:09:18.426967",
     "exception": false,
     "start_time": "2024-12-12T08:09:18.419147",
     "status": "completed"
    },
    "tags": []
   },
   "source": [
    "**Remove punctuations**"
   ]
  },
  {
   "cell_type": "code",
   "execution_count": 10,
   "id": "5cfe98a5",
   "metadata": {
    "execution": {
     "iopub.execute_input": "2024-12-12T08:09:18.444616Z",
     "iopub.status.busy": "2024-12-12T08:09:18.443838Z",
     "iopub.status.idle": "2024-12-12T08:09:18.447969Z",
     "shell.execute_reply": "2024-12-12T08:09:18.447132Z"
    },
    "papermill": {
     "duration": 0.014699,
     "end_time": "2024-12-12T08:09:18.449570",
     "exception": false,
     "start_time": "2024-12-12T08:09:18.434871",
     "status": "completed"
    },
    "tags": []
   },
   "outputs": [],
   "source": [
    "import string\n",
    "exclude=string.punctuation"
   ]
  },
  {
   "cell_type": "code",
   "execution_count": 11,
   "id": "fa77a911",
   "metadata": {
    "execution": {
     "iopub.execute_input": "2024-12-12T08:09:18.466834Z",
     "iopub.status.busy": "2024-12-12T08:09:18.466533Z",
     "iopub.status.idle": "2024-12-12T08:09:18.470556Z",
     "shell.execute_reply": "2024-12-12T08:09:18.469726Z"
    },
    "papermill": {
     "duration": 0.014662,
     "end_time": "2024-12-12T08:09:18.472282",
     "exception": false,
     "start_time": "2024-12-12T08:09:18.457620",
     "status": "completed"
    },
    "tags": []
   },
   "outputs": [],
   "source": [
    "def remove_punc(text):\n",
    "    for i in exclude:\n",
    "        text.replace(i,'')\n",
    "    return text   "
   ]
  },
  {
   "cell_type": "markdown",
   "id": "6c4d4bda",
   "metadata": {
    "papermill": {
     "duration": 0.007823,
     "end_time": "2024-12-12T08:09:18.488236",
     "exception": false,
     "start_time": "2024-12-12T08:09:18.480413",
     "status": "completed"
    },
    "tags": []
   },
   "source": [
    "**Remove Stopwords**"
   ]
  },
  {
   "cell_type": "code",
   "execution_count": 12,
   "id": "1cb3e584",
   "metadata": {
    "execution": {
     "iopub.execute_input": "2024-12-12T08:09:18.505633Z",
     "iopub.status.busy": "2024-12-12T08:09:18.505292Z",
     "iopub.status.idle": "2024-12-12T08:09:19.205831Z",
     "shell.execute_reply": "2024-12-12T08:09:19.204859Z"
    },
    "papermill": {
     "duration": 0.711707,
     "end_time": "2024-12-12T08:09:19.207899",
     "exception": false,
     "start_time": "2024-12-12T08:09:18.496192",
     "status": "completed"
    },
    "tags": []
   },
   "outputs": [],
   "source": [
    "from nltk.corpus import stopwords\n",
    "stopwords=stopwords.words('english')\n",
    "\n",
    "def remove_stopwords(text):\n",
    "    new=' '.join(word for word in text.split() if word.lower not in stopwords)\n",
    "    return new"
   ]
  },
  {
   "cell_type": "code",
   "execution_count": 13,
   "id": "35abf538",
   "metadata": {
    "execution": {
     "iopub.execute_input": "2024-12-12T08:09:19.225722Z",
     "iopub.status.busy": "2024-12-12T08:09:19.225413Z",
     "iopub.status.idle": "2024-12-12T08:10:48.721118Z",
     "shell.execute_reply": "2024-12-12T08:10:48.720060Z"
    },
    "papermill": {
     "duration": 89.507134,
     "end_time": "2024-12-12T08:10:48.723394",
     "exception": false,
     "start_time": "2024-12-12T08:09:19.216260",
     "status": "completed"
    },
    "tags": []
   },
   "outputs": [],
   "source": [
    "df['cleaned_text']=df['cleaned_text'].apply(lambda x:remove_stopwords(x))"
   ]
  },
  {
   "cell_type": "markdown",
   "id": "35cf6337",
   "metadata": {
    "papermill": {
     "duration": 0.007739,
     "end_time": "2024-12-12T08:10:48.739725",
     "exception": false,
     "start_time": "2024-12-12T08:10:48.731986",
     "status": "completed"
    },
    "tags": []
   },
   "source": [
    "**Remove emojis**"
   ]
  },
  {
   "cell_type": "code",
   "execution_count": 14,
   "id": "19880a71",
   "metadata": {
    "execution": {
     "iopub.execute_input": "2024-12-12T08:10:48.756600Z",
     "iopub.status.busy": "2024-12-12T08:10:48.756321Z",
     "iopub.status.idle": "2024-12-12T08:13:08.541980Z",
     "shell.execute_reply": "2024-12-12T08:13:08.541204Z"
    },
    "papermill": {
     "duration": 139.796673,
     "end_time": "2024-12-12T08:13:08.544189",
     "exception": false,
     "start_time": "2024-12-12T08:10:48.747516",
     "status": "completed"
    },
    "tags": []
   },
   "outputs": [],
   "source": [
    "import emoji\n",
    "df['cleaned_text']=df['cleaned_text'].apply(emoji.demojize)"
   ]
  },
  {
   "cell_type": "markdown",
   "id": "b47cbfee",
   "metadata": {
    "papermill": {
     "duration": 0.007689,
     "end_time": "2024-12-12T08:13:08.560436",
     "exception": false,
     "start_time": "2024-12-12T08:13:08.552747",
     "status": "completed"
    },
    "tags": []
   },
   "source": [
    "# Prepare data for the RNN Model"
   ]
  },
  {
   "cell_type": "markdown",
   "id": "97a2dca1",
   "metadata": {
    "papermill": {
     "duration": 0.007613,
     "end_time": "2024-12-12T08:13:08.575844",
     "exception": false,
     "start_time": "2024-12-12T08:13:08.568231",
     "status": "completed"
    },
    "tags": []
   },
   "source": [
    "**build vocabulary for the most appearance words**"
   ]
  },
  {
   "cell_type": "code",
   "execution_count": 15,
   "id": "89b0e016",
   "metadata": {
    "execution": {
     "iopub.execute_input": "2024-12-12T08:13:08.592997Z",
     "iopub.status.busy": "2024-12-12T08:13:08.592673Z",
     "iopub.status.idle": "2024-12-12T08:13:37.775017Z",
     "shell.execute_reply": "2024-12-12T08:13:37.774218Z"
    },
    "papermill": {
     "duration": 29.193271,
     "end_time": "2024-12-12T08:13:37.776969",
     "exception": false,
     "start_time": "2024-12-12T08:13:08.583698",
     "status": "completed"
    },
    "tags": []
   },
   "outputs": [],
   "source": [
    "# build vocabulary for the most appearance words\n",
    "from tensorflow.keras.preprocessing.text import Tokenizer\n",
    "\n",
    "vocab_sz = 10000\n",
    "\n",
    "tok = Tokenizer(num_words=vocab_sz, oov_token='UNK')\n",
    "tok.fit_on_texts(df['cleaned_text'])\n"
   ]
  },
  {
   "cell_type": "markdown",
   "id": "f1c27798",
   "metadata": {
    "papermill": {
     "duration": 0.008015,
     "end_time": "2024-12-12T08:13:37.793355",
     "exception": false,
     "start_time": "2024-12-12T08:13:37.785340",
     "status": "completed"
    },
    "tags": []
   },
   "source": [
    "**Split data**"
   ]
  },
  {
   "cell_type": "code",
   "execution_count": 16,
   "id": "3d49083e",
   "metadata": {
    "execution": {
     "iopub.execute_input": "2024-12-12T08:13:37.811046Z",
     "iopub.status.busy": "2024-12-12T08:13:37.810757Z",
     "iopub.status.idle": "2024-12-12T08:13:37.814709Z",
     "shell.execute_reply": "2024-12-12T08:13:37.813945Z"
    },
    "papermill": {
     "duration": 0.014943,
     "end_time": "2024-12-12T08:13:37.816277",
     "exception": false,
     "start_time": "2024-12-12T08:13:37.801334",
     "status": "completed"
    },
    "tags": []
   },
   "outputs": [],
   "source": [
    "x=df['cleaned_text']\n",
    "y=df['label']"
   ]
  },
  {
   "cell_type": "code",
   "execution_count": 17,
   "id": "e8953530",
   "metadata": {
    "execution": {
     "iopub.execute_input": "2024-12-12T08:13:37.833267Z",
     "iopub.status.busy": "2024-12-12T08:13:37.832981Z",
     "iopub.status.idle": "2024-12-12T08:13:37.841695Z",
     "shell.execute_reply": "2024-12-12T08:13:37.841094Z"
    },
    "papermill": {
     "duration": 0.0189,
     "end_time": "2024-12-12T08:13:37.843274",
     "exception": false,
     "start_time": "2024-12-12T08:13:37.824374",
     "status": "completed"
    },
    "tags": []
   },
   "outputs": [],
   "source": [
    "from sklearn.model_selection import train_test_split\n",
    "x_train,x_test,y_train,y_test=train_test_split(x,y,test_size=0.2,random_state=42)"
   ]
  },
  {
   "cell_type": "markdown",
   "id": "62aa5250",
   "metadata": {
    "papermill": {
     "duration": 0.007752,
     "end_time": "2024-12-12T08:13:37.858907",
     "exception": false,
     "start_time": "2024-12-12T08:13:37.851155",
     "status": "completed"
    },
    "tags": []
   },
   "source": [
    "**Encoding labels**"
   ]
  },
  {
   "cell_type": "code",
   "execution_count": 18,
   "id": "ce1eef2e",
   "metadata": {
    "execution": {
     "iopub.execute_input": "2024-12-12T08:13:37.876007Z",
     "iopub.status.busy": "2024-12-12T08:13:37.875729Z",
     "iopub.status.idle": "2024-12-12T08:13:37.881452Z",
     "shell.execute_reply": "2024-12-12T08:13:37.880753Z"
    },
    "papermill": {
     "duration": 0.016177,
     "end_time": "2024-12-12T08:13:37.882959",
     "exception": false,
     "start_time": "2024-12-12T08:13:37.866782",
     "status": "completed"
    },
    "tags": []
   },
   "outputs": [],
   "source": [
    "from sklearn.preprocessing import LabelEncoder\n",
    "\n",
    "lb = LabelEncoder()\n",
    "y_train = lb.fit_transform(y_train)\n",
    "y_test = lb.transform(y_test)"
   ]
  },
  {
   "cell_type": "markdown",
   "id": "645b1665",
   "metadata": {
    "papermill": {
     "duration": 0.007703,
     "end_time": "2024-12-12T08:13:37.898478",
     "exception": false,
     "start_time": "2024-12-12T08:13:37.890775",
     "status": "completed"
    },
    "tags": []
   },
   "source": [
    "**Word Embedding**"
   ]
  },
  {
   "cell_type": "code",
   "execution_count": 19,
   "id": "c7e0636f",
   "metadata": {
    "execution": {
     "iopub.execute_input": "2024-12-12T08:13:37.915030Z",
     "iopub.status.busy": "2024-12-12T08:13:37.914766Z",
     "iopub.status.idle": "2024-12-12T08:14:02.407081Z",
     "shell.execute_reply": "2024-12-12T08:14:02.406369Z"
    },
    "papermill": {
     "duration": 24.502863,
     "end_time": "2024-12-12T08:14:02.409069",
     "exception": false,
     "start_time": "2024-12-12T08:13:37.906206",
     "status": "completed"
    },
    "tags": []
   },
   "outputs": [],
   "source": [
    "x_train_seq = tok.texts_to_sequences(x_train)\n",
    "x_test_seq = tok.texts_to_sequences(x_test)"
   ]
  },
  {
   "cell_type": "markdown",
   "id": "a37b9e2f",
   "metadata": {
    "papermill": {
     "duration": 0.007704,
     "end_time": "2024-12-12T08:14:02.425207",
     "exception": false,
     "start_time": "2024-12-12T08:14:02.417503",
     "status": "completed"
    },
    "tags": []
   },
   "source": [
    "**calculate maxmium lengh of sequence**"
   ]
  },
  {
   "cell_type": "code",
   "execution_count": 20,
   "id": "cbb305bf",
   "metadata": {
    "execution": {
     "iopub.execute_input": "2024-12-12T08:14:02.442029Z",
     "iopub.status.busy": "2024-12-12T08:14:02.441736Z",
     "iopub.status.idle": "2024-12-12T08:15:56.294865Z",
     "shell.execute_reply": "2024-12-12T08:15:56.293860Z"
    },
    "papermill": {
     "duration": 113.86408,
     "end_time": "2024-12-12T08:15:56.297052",
     "exception": false,
     "start_time": "2024-12-12T08:14:02.432972",
     "status": "completed"
    },
    "tags": []
   },
   "outputs": [],
   "source": [
    "from nltk.tokenize import word_tokenize\n",
    "\n",
    "def get_max_len(texts):\n",
    "  return max([len(word_tokenize(text)) for text in texts])\n",
    "    \n",
    "maxlen = get_max_len(df['cleaned_text'])"
   ]
  },
  {
   "cell_type": "markdown",
   "id": "312ec8b0",
   "metadata": {
    "papermill": {
     "duration": 0.007762,
     "end_time": "2024-12-12T08:15:56.313250",
     "exception": false,
     "start_time": "2024-12-12T08:15:56.305488",
     "status": "completed"
    },
    "tags": []
   },
   "source": [
    "**Pad sequences to ensure that all input sequences have the same length**"
   ]
  },
  {
   "cell_type": "code",
   "execution_count": 21,
   "id": "b722f3d8",
   "metadata": {
    "execution": {
     "iopub.execute_input": "2024-12-12T08:15:56.330603Z",
     "iopub.status.busy": "2024-12-12T08:15:56.330030Z",
     "iopub.status.idle": "2024-12-12T08:15:57.262532Z",
     "shell.execute_reply": "2024-12-12T08:15:57.261531Z"
    },
    "papermill": {
     "duration": 0.943429,
     "end_time": "2024-12-12T08:15:57.264531",
     "exception": false,
     "start_time": "2024-12-12T08:15:56.321102",
     "status": "completed"
    },
    "tags": []
   },
   "outputs": [],
   "source": [
    "from tensorflow.keras.preprocessing.sequence import pad_sequences\n",
    "\n",
    "x_train = pad_sequences(x_train_seq, maxlen=maxlen, padding='post', truncating='post')  \n",
    "x_test = pad_sequences(x_test_seq, maxlen=maxlen, padding='post', truncating='post')"
   ]
  },
  {
   "cell_type": "markdown",
   "id": "0415d3e5",
   "metadata": {
    "papermill": {
     "duration": 0.008035,
     "end_time": "2024-12-12T08:15:57.280873",
     "exception": false,
     "start_time": "2024-12-12T08:15:57.272838",
     "status": "completed"
    },
    "tags": []
   },
   "source": [
    "**Reshape input size**"
   ]
  },
  {
   "cell_type": "code",
   "execution_count": 22,
   "id": "28161ca5",
   "metadata": {
    "execution": {
     "iopub.execute_input": "2024-12-12T08:15:57.298401Z",
     "iopub.status.busy": "2024-12-12T08:15:57.297612Z",
     "iopub.status.idle": "2024-12-12T08:15:57.302023Z",
     "shell.execute_reply": "2024-12-12T08:15:57.301218Z"
    },
    "papermill": {
     "duration": 0.014858,
     "end_time": "2024-12-12T08:15:57.303623",
     "exception": false,
     "start_time": "2024-12-12T08:15:57.288765",
     "status": "completed"
    },
    "tags": []
   },
   "outputs": [],
   "source": [
    "x_train = x_train.reshape(x_train.shape[0], x_train.shape[1], 1)  # Add feature dimension\n",
    "x_test = x_test.reshape(x_test.shape[0], x_test.shape[1], 1)"
   ]
  },
  {
   "cell_type": "code",
   "execution_count": 23,
   "id": "d6336d51",
   "metadata": {
    "execution": {
     "iopub.execute_input": "2024-12-12T08:15:57.320530Z",
     "iopub.status.busy": "2024-12-12T08:15:57.320020Z",
     "iopub.status.idle": "2024-12-12T08:15:57.324105Z",
     "shell.execute_reply": "2024-12-12T08:15:57.323322Z"
    },
    "papermill": {
     "duration": 0.014223,
     "end_time": "2024-12-12T08:15:57.325649",
     "exception": false,
     "start_time": "2024-12-12T08:15:57.311426",
     "status": "completed"
    },
    "tags": []
   },
   "outputs": [],
   "source": [
    "x_train = x_train.reshape(x_train.shape[0], x_train.shape[1] )  # Add feature dimension\n",
    "x_test = x_test.reshape(x_test.shape[0], x_test.shape[1])"
   ]
  },
  {
   "cell_type": "code",
   "execution_count": 24,
   "id": "8f71d2d1",
   "metadata": {
    "execution": {
     "iopub.execute_input": "2024-12-12T08:15:57.342288Z",
     "iopub.status.busy": "2024-12-12T08:15:57.342009Z",
     "iopub.status.idle": "2024-12-12T08:15:57.346051Z",
     "shell.execute_reply": "2024-12-12T08:15:57.345230Z"
    },
    "papermill": {
     "duration": 0.014044,
     "end_time": "2024-12-12T08:15:57.347532",
     "exception": false,
     "start_time": "2024-12-12T08:15:57.333488",
     "status": "completed"
    },
    "tags": []
   },
   "outputs": [
    {
     "name": "stdout",
     "output_type": "stream",
     "text": [
      "(6056, 5797)\n"
     ]
    }
   ],
   "source": [
    "print(x_train.shape)"
   ]
  },
  {
   "cell_type": "markdown",
   "id": "b509ef4e",
   "metadata": {
    "papermill": {
     "duration": 0.0089,
     "end_time": "2024-12-12T08:15:57.364789",
     "exception": false,
     "start_time": "2024-12-12T08:15:57.355889",
     "status": "completed"
    },
    "tags": []
   },
   "source": [
    "# RNN"
   ]
  },
  {
   "cell_type": "code",
   "execution_count": 25,
   "id": "117f01f0",
   "metadata": {
    "execution": {
     "iopub.execute_input": "2024-12-12T08:15:57.381495Z",
     "iopub.status.busy": "2024-12-12T08:15:57.381250Z",
     "iopub.status.idle": "2024-12-12T08:15:57.384626Z",
     "shell.execute_reply": "2024-12-12T08:15:57.383837Z"
    },
    "papermill": {
     "duration": 0.013474,
     "end_time": "2024-12-12T08:15:57.386121",
     "exception": false,
     "start_time": "2024-12-12T08:15:57.372647",
     "status": "completed"
    },
    "tags": []
   },
   "outputs": [],
   "source": [
    "embedding_size = 100"
   ]
  },
  {
   "cell_type": "code",
   "execution_count": 26,
   "id": "44d717e1",
   "metadata": {
    "execution": {
     "iopub.execute_input": "2024-12-12T08:15:57.403554Z",
     "iopub.status.busy": "2024-12-12T08:15:57.403325Z",
     "iopub.status.idle": "2024-12-12T08:15:58.179837Z",
     "shell.execute_reply": "2024-12-12T08:15:58.178957Z"
    },
    "papermill": {
     "duration": 0.787196,
     "end_time": "2024-12-12T08:15:58.181303",
     "exception": false,
     "start_time": "2024-12-12T08:15:57.394107",
     "status": "completed"
    },
    "tags": []
   },
   "outputs": [
    {
     "data": {
      "text/html": [
       "<pre style=\"white-space:pre;overflow-x:auto;line-height:normal;font-family:Menlo,'DejaVu Sans Mono',consolas,'Courier New',monospace\"><span style=\"font-weight: bold\">Model: \"sequential\"</span>\n",
       "</pre>\n"
      ],
      "text/plain": [
       "\u001b[1mModel: \"sequential\"\u001b[0m\n"
      ]
     },
     "metadata": {},
     "output_type": "display_data"
    },
    {
     "data": {
      "text/html": [
       "<pre style=\"white-space:pre;overflow-x:auto;line-height:normal;font-family:Menlo,'DejaVu Sans Mono',consolas,'Courier New',monospace\">┏━━━━━━━━━━━━━━━━━━━━━━━━━━━━━━━━━┳━━━━━━━━━━━━━━━━━━━━━━━━┳━━━━━━━━━━━━━━━┓\n",
       "┃<span style=\"font-weight: bold\"> Layer (type)                    </span>┃<span style=\"font-weight: bold\"> Output Shape           </span>┃<span style=\"font-weight: bold\">       Param # </span>┃\n",
       "┡━━━━━━━━━━━━━━━━━━━━━━━━━━━━━━━━━╇━━━━━━━━━━━━━━━━━━━━━━━━╇━━━━━━━━━━━━━━━┩\n",
       "│ embedding (<span style=\"color: #0087ff; text-decoration-color: #0087ff\">Embedding</span>)           │ ?                      │   <span style=\"color: #00af00; text-decoration-color: #00af00\">0</span> (unbuilt) │\n",
       "├─────────────────────────────────┼────────────────────────┼───────────────┤\n",
       "│ simple_rnn (<span style=\"color: #0087ff; text-decoration-color: #0087ff\">SimpleRNN</span>)          │ ?                      │   <span style=\"color: #00af00; text-decoration-color: #00af00\">0</span> (unbuilt) │\n",
       "├─────────────────────────────────┼────────────────────────┼───────────────┤\n",
       "│ dropout (<span style=\"color: #0087ff; text-decoration-color: #0087ff\">Dropout</span>)               │ ?                      │   <span style=\"color: #00af00; text-decoration-color: #00af00\">0</span> (unbuilt) │\n",
       "├─────────────────────────────────┼────────────────────────┼───────────────┤\n",
       "│ simple_rnn_1 (<span style=\"color: #0087ff; text-decoration-color: #0087ff\">SimpleRNN</span>)        │ ?                      │   <span style=\"color: #00af00; text-decoration-color: #00af00\">0</span> (unbuilt) │\n",
       "├─────────────────────────────────┼────────────────────────┼───────────────┤\n",
       "│ dropout_1 (<span style=\"color: #0087ff; text-decoration-color: #0087ff\">Dropout</span>)             │ ?                      │   <span style=\"color: #00af00; text-decoration-color: #00af00\">0</span> (unbuilt) │\n",
       "├─────────────────────────────────┼────────────────────────┼───────────────┤\n",
       "│ simple_rnn_2 (<span style=\"color: #0087ff; text-decoration-color: #0087ff\">SimpleRNN</span>)        │ ?                      │   <span style=\"color: #00af00; text-decoration-color: #00af00\">0</span> (unbuilt) │\n",
       "├─────────────────────────────────┼────────────────────────┼───────────────┤\n",
       "│ dropout_2 (<span style=\"color: #0087ff; text-decoration-color: #0087ff\">Dropout</span>)             │ ?                      │   <span style=\"color: #00af00; text-decoration-color: #00af00\">0</span> (unbuilt) │\n",
       "├─────────────────────────────────┼────────────────────────┼───────────────┤\n",
       "│ dense (<span style=\"color: #0087ff; text-decoration-color: #0087ff\">Dense</span>)                   │ ?                      │   <span style=\"color: #00af00; text-decoration-color: #00af00\">0</span> (unbuilt) │\n",
       "├─────────────────────────────────┼────────────────────────┼───────────────┤\n",
       "│ batch_normalization             │ ?                      │   <span style=\"color: #00af00; text-decoration-color: #00af00\">0</span> (unbuilt) │\n",
       "│ (<span style=\"color: #0087ff; text-decoration-color: #0087ff\">BatchNormalization</span>)            │                        │               │\n",
       "├─────────────────────────────────┼────────────────────────┼───────────────┤\n",
       "│ dropout_3 (<span style=\"color: #0087ff; text-decoration-color: #0087ff\">Dropout</span>)             │ ?                      │   <span style=\"color: #00af00; text-decoration-color: #00af00\">0</span> (unbuilt) │\n",
       "├─────────────────────────────────┼────────────────────────┼───────────────┤\n",
       "│ dense_1 (<span style=\"color: #0087ff; text-decoration-color: #0087ff\">Dense</span>)                 │ ?                      │   <span style=\"color: #00af00; text-decoration-color: #00af00\">0</span> (unbuilt) │\n",
       "└─────────────────────────────────┴────────────────────────┴───────────────┘\n",
       "</pre>\n"
      ],
      "text/plain": [
       "┏━━━━━━━━━━━━━━━━━━━━━━━━━━━━━━━━━┳━━━━━━━━━━━━━━━━━━━━━━━━┳━━━━━━━━━━━━━━━┓\n",
       "┃\u001b[1m \u001b[0m\u001b[1mLayer (type)                   \u001b[0m\u001b[1m \u001b[0m┃\u001b[1m \u001b[0m\u001b[1mOutput Shape          \u001b[0m\u001b[1m \u001b[0m┃\u001b[1m \u001b[0m\u001b[1m      Param #\u001b[0m\u001b[1m \u001b[0m┃\n",
       "┡━━━━━━━━━━━━━━━━━━━━━━━━━━━━━━━━━╇━━━━━━━━━━━━━━━━━━━━━━━━╇━━━━━━━━━━━━━━━┩\n",
       "│ embedding (\u001b[38;5;33mEmbedding\u001b[0m)           │ ?                      │   \u001b[38;5;34m0\u001b[0m (unbuilt) │\n",
       "├─────────────────────────────────┼────────────────────────┼───────────────┤\n",
       "│ simple_rnn (\u001b[38;5;33mSimpleRNN\u001b[0m)          │ ?                      │   \u001b[38;5;34m0\u001b[0m (unbuilt) │\n",
       "├─────────────────────────────────┼────────────────────────┼───────────────┤\n",
       "│ dropout (\u001b[38;5;33mDropout\u001b[0m)               │ ?                      │   \u001b[38;5;34m0\u001b[0m (unbuilt) │\n",
       "├─────────────────────────────────┼────────────────────────┼───────────────┤\n",
       "│ simple_rnn_1 (\u001b[38;5;33mSimpleRNN\u001b[0m)        │ ?                      │   \u001b[38;5;34m0\u001b[0m (unbuilt) │\n",
       "├─────────────────────────────────┼────────────────────────┼───────────────┤\n",
       "│ dropout_1 (\u001b[38;5;33mDropout\u001b[0m)             │ ?                      │   \u001b[38;5;34m0\u001b[0m (unbuilt) │\n",
       "├─────────────────────────────────┼────────────────────────┼───────────────┤\n",
       "│ simple_rnn_2 (\u001b[38;5;33mSimpleRNN\u001b[0m)        │ ?                      │   \u001b[38;5;34m0\u001b[0m (unbuilt) │\n",
       "├─────────────────────────────────┼────────────────────────┼───────────────┤\n",
       "│ dropout_2 (\u001b[38;5;33mDropout\u001b[0m)             │ ?                      │   \u001b[38;5;34m0\u001b[0m (unbuilt) │\n",
       "├─────────────────────────────────┼────────────────────────┼───────────────┤\n",
       "│ dense (\u001b[38;5;33mDense\u001b[0m)                   │ ?                      │   \u001b[38;5;34m0\u001b[0m (unbuilt) │\n",
       "├─────────────────────────────────┼────────────────────────┼───────────────┤\n",
       "│ batch_normalization             │ ?                      │   \u001b[38;5;34m0\u001b[0m (unbuilt) │\n",
       "│ (\u001b[38;5;33mBatchNormalization\u001b[0m)            │                        │               │\n",
       "├─────────────────────────────────┼────────────────────────┼───────────────┤\n",
       "│ dropout_3 (\u001b[38;5;33mDropout\u001b[0m)             │ ?                      │   \u001b[38;5;34m0\u001b[0m (unbuilt) │\n",
       "├─────────────────────────────────┼────────────────────────┼───────────────┤\n",
       "│ dense_1 (\u001b[38;5;33mDense\u001b[0m)                 │ ?                      │   \u001b[38;5;34m0\u001b[0m (unbuilt) │\n",
       "└─────────────────────────────────┴────────────────────────┴───────────────┘\n"
      ]
     },
     "metadata": {},
     "output_type": "display_data"
    },
    {
     "data": {
      "text/html": [
       "<pre style=\"white-space:pre;overflow-x:auto;line-height:normal;font-family:Menlo,'DejaVu Sans Mono',consolas,'Courier New',monospace\"><span style=\"font-weight: bold\"> Total params: </span><span style=\"color: #00af00; text-decoration-color: #00af00\">0</span> (0.00 B)\n",
       "</pre>\n"
      ],
      "text/plain": [
       "\u001b[1m Total params: \u001b[0m\u001b[38;5;34m0\u001b[0m (0.00 B)\n"
      ]
     },
     "metadata": {},
     "output_type": "display_data"
    },
    {
     "data": {
      "text/html": [
       "<pre style=\"white-space:pre;overflow-x:auto;line-height:normal;font-family:Menlo,'DejaVu Sans Mono',consolas,'Courier New',monospace\"><span style=\"font-weight: bold\"> Trainable params: </span><span style=\"color: #00af00; text-decoration-color: #00af00\">0</span> (0.00 B)\n",
       "</pre>\n"
      ],
      "text/plain": [
       "\u001b[1m Trainable params: \u001b[0m\u001b[38;5;34m0\u001b[0m (0.00 B)\n"
      ]
     },
     "metadata": {},
     "output_type": "display_data"
    },
    {
     "data": {
      "text/html": [
       "<pre style=\"white-space:pre;overflow-x:auto;line-height:normal;font-family:Menlo,'DejaVu Sans Mono',consolas,'Courier New',monospace\"><span style=\"font-weight: bold\"> Non-trainable params: </span><span style=\"color: #00af00; text-decoration-color: #00af00\">0</span> (0.00 B)\n",
       "</pre>\n"
      ],
      "text/plain": [
       "\u001b[1m Non-trainable params: \u001b[0m\u001b[38;5;34m0\u001b[0m (0.00 B)\n"
      ]
     },
     "metadata": {},
     "output_type": "display_data"
    }
   ],
   "source": [
    "from keras.models import Sequential\n",
    "from keras.layers import Dense, Dropout,BatchNormalization\n",
    "from keras.layers import Embedding\n",
    "from keras.layers import SimpleRNN\n",
    "\n",
    "\n",
    "# Model: Enhanced RNN with multiple layers\n",
    "model = Sequential()\n",
    "model.add(Embedding(vocab_sz + 1, embedding_size, mask_zero=True, input_length=maxlen))\n",
    "\n",
    "# Add the first RNN layer\n",
    "model.add(SimpleRNN(100, return_sequences=True,recurrent_dropout=0.2,dropout=0.2))  # Return sequences to pass to the next RNN layer\n",
    "model.add(Dropout(0.3))  # Dropout to prevent overfitting\n",
    "\n",
    "# Add a second RNN layer\n",
    "model.add(SimpleRNN(100, return_sequences=True,recurrent_dropout=0.2,dropout=0.2))\n",
    "model.add(Dropout(0.3))\n",
    "\n",
    "# Add a third RNN layer\n",
    "model.add(SimpleRNN(100,recurrent_dropout=0.2,dropout=0.2))\n",
    "model.add(Dropout(0.3))\n",
    "\n",
    "\n",
    "\n",
    "# Add a fully connected layer\n",
    "model.add(Dense(64, activation='relu'))  # Intermediate dense layer for more learning capacity\n",
    "model.add(BatchNormalization())\n",
    "model.add(Dropout(0.3))  # Dropout for dense layer\n",
    "\n",
    "# Output layer\n",
    "model.add(Dense(3, activation='softmax'))  # For classification\n",
    "\n",
    "#model.build(input_shape=(None, maxlen)) # None for batch size, maxlen for sequence length\n",
    "# Model summary\n",
    "model.summary()\n"
   ]
  },
  {
   "cell_type": "code",
   "execution_count": 27,
   "id": "62a466ad",
   "metadata": {
    "execution": {
     "iopub.execute_input": "2024-12-12T08:15:58.200060Z",
     "iopub.status.busy": "2024-12-12T08:15:58.199774Z",
     "iopub.status.idle": "2024-12-12T08:15:58.217567Z",
     "shell.execute_reply": "2024-12-12T08:15:58.216899Z"
    },
    "papermill": {
     "duration": 0.028998,
     "end_time": "2024-12-12T08:15:58.219385",
     "exception": false,
     "start_time": "2024-12-12T08:15:58.190387",
     "status": "completed"
    },
    "tags": []
   },
   "outputs": [],
   "source": [
    "model.compile(\n",
    "    loss='sparse_categorical_crossentropy', \n",
    "    optimizer='adam',\n",
    "    metrics=['accuracy']\n",
    ")"
   ]
  },
  {
   "cell_type": "code",
   "execution_count": 28,
   "id": "2cc19b05",
   "metadata": {
    "execution": {
     "iopub.execute_input": "2024-12-12T08:15:58.238345Z",
     "iopub.status.busy": "2024-12-12T08:15:58.237630Z",
     "iopub.status.idle": "2024-12-12T08:15:58.241667Z",
     "shell.execute_reply": "2024-12-12T08:15:58.240855Z"
    },
    "papermill": {
     "duration": 0.01495,
     "end_time": "2024-12-12T08:15:58.243287",
     "exception": false,
     "start_time": "2024-12-12T08:15:58.228337",
     "status": "completed"
    },
    "tags": []
   },
   "outputs": [],
   "source": [
    "checkpoint = EarlyStopping(monitor='val_loss',patience = 10 ,mode='max',restore_best_weights=True)\n",
    "callbacks_lst = [checkpoint]"
   ]
  },
  {
   "cell_type": "code",
   "execution_count": 29,
   "id": "9ff0d2f4",
   "metadata": {
    "execution": {
     "iopub.execute_input": "2024-12-12T08:15:58.261147Z",
     "iopub.status.busy": "2024-12-12T08:15:58.260899Z",
     "iopub.status.idle": "2024-12-12T08:15:58.265721Z",
     "shell.execute_reply": "2024-12-12T08:15:58.264985Z"
    },
    "papermill": {
     "duration": 0.015482,
     "end_time": "2024-12-12T08:15:58.267232",
     "exception": false,
     "start_time": "2024-12-12T08:15:58.251750",
     "status": "completed"
    },
    "tags": []
   },
   "outputs": [
    {
     "data": {
      "text/plain": [
       "(6056, 5797)"
      ]
     },
     "execution_count": 29,
     "metadata": {},
     "output_type": "execute_result"
    }
   ],
   "source": [
    "x_train.shape"
   ]
  },
  {
   "cell_type": "code",
   "execution_count": 30,
   "id": "0d751b1b",
   "metadata": {
    "execution": {
     "iopub.execute_input": "2024-12-12T08:15:58.286829Z",
     "iopub.status.busy": "2024-12-12T08:15:58.286016Z",
     "iopub.status.idle": "2024-12-12T08:38:17.468384Z",
     "shell.execute_reply": "2024-12-12T08:38:17.467390Z"
    },
    "papermill": {
     "duration": 1339.194694,
     "end_time": "2024-12-12T08:38:17.470515",
     "exception": false,
     "start_time": "2024-12-12T08:15:58.275821",
     "status": "completed"
    },
    "tags": []
   },
   "outputs": [
    {
     "name": "stdout",
     "output_type": "stream",
     "text": [
      "Epoch 1/80\n"
     ]
    },
    {
     "name": "stderr",
     "output_type": "stream",
     "text": [
      "WARNING: All log messages before absl::InitializeLog() is called are written to STDERR\n",
      "I0000 00:00:1733991363.349825      68 service.cc:145] XLA service 0x79a108002e30 initialized for platform CUDA (this does not guarantee that XLA will be used). Devices:\n",
      "I0000 00:00:1733991363.349881      68 service.cc:153]   StreamExecutor device (0): Tesla P100-PCIE-16GB, Compute Capability 6.0\n",
      "I0000 00:00:1733991377.836756      68 device_compiler.h:188] Compiled cluster using XLA!  This line is logged at most once for the lifetime of the process.\n"
     ]
    },
    {
     "name": "stdout",
     "output_type": "stream",
     "text": [
      "\u001b[1m76/76\u001b[0m \u001b[32m━━━━━━━━━━━━━━━━━━━━\u001b[0m\u001b[37m\u001b[0m \u001b[1m153s\u001b[0m 2s/step - accuracy: 0.3380 - loss: 1.6425 - val_accuracy: 0.2830 - val_loss: 1.1248\n",
      "Epoch 2/80\n",
      "\u001b[1m76/76\u001b[0m \u001b[32m━━━━━━━━━━━━━━━━━━━━\u001b[0m\u001b[37m\u001b[0m \u001b[1m119s\u001b[0m 2s/step - accuracy: 0.3331 - loss: 1.3867 - val_accuracy: 0.2789 - val_loss: 1.1134\n",
      "Epoch 3/80\n",
      "\u001b[1m76/76\u001b[0m \u001b[32m━━━━━━━━━━━━━━━━━━━━\u001b[0m\u001b[37m\u001b[0m \u001b[1m119s\u001b[0m 2s/step - accuracy: 0.3417 - loss: 1.2708 - val_accuracy: 0.3391 - val_loss: 1.1086\n",
      "Epoch 4/80\n",
      "\u001b[1m76/76\u001b[0m \u001b[32m━━━━━━━━━━━━━━━━━━━━\u001b[0m\u001b[37m\u001b[0m \u001b[1m119s\u001b[0m 2s/step - accuracy: 0.3315 - loss: 1.2173 - val_accuracy: 0.3804 - val_loss: 1.1048\n",
      "Epoch 5/80\n",
      "\u001b[1m76/76\u001b[0m \u001b[32m━━━━━━━━━━━━━━━━━━━━\u001b[0m\u001b[37m\u001b[0m \u001b[1m119s\u001b[0m 2s/step - accuracy: 0.3563 - loss: 1.1759 - val_accuracy: 0.3267 - val_loss: 1.1179\n",
      "Epoch 6/80\n",
      "\u001b[1m76/76\u001b[0m \u001b[32m━━━━━━━━━━━━━━━━━━━━\u001b[0m\u001b[37m\u001b[0m \u001b[1m119s\u001b[0m 2s/step - accuracy: 0.3307 - loss: 1.1633 - val_accuracy: 0.3267 - val_loss: 1.1047\n",
      "Epoch 7/80\n",
      "\u001b[1m76/76\u001b[0m \u001b[32m━━━━━━━━━━━━━━━━━━━━\u001b[0m\u001b[37m\u001b[0m \u001b[1m119s\u001b[0m 2s/step - accuracy: 0.3591 - loss: 1.1315 - val_accuracy: 0.3267 - val_loss: 1.0942\n",
      "Epoch 8/80\n",
      "\u001b[1m76/76\u001b[0m \u001b[32m━━━━━━━━━━━━━━━━━━━━\u001b[0m\u001b[37m\u001b[0m \u001b[1m119s\u001b[0m 2s/step - accuracy: 0.3545 - loss: nan - val_accuracy: 0.3903 - val_loss: nan\n",
      "Epoch 9/80\n",
      "\u001b[1m76/76\u001b[0m \u001b[32m━━━━━━━━━━━━━━━━━━━━\u001b[0m\u001b[37m\u001b[0m \u001b[1m119s\u001b[0m 2s/step - accuracy: 0.3657 - loss: nan - val_accuracy: 0.3903 - val_loss: nan\n",
      "Epoch 10/80\n",
      "\u001b[1m76/76\u001b[0m \u001b[32m━━━━━━━━━━━━━━━━━━━━\u001b[0m\u001b[37m\u001b[0m \u001b[1m118s\u001b[0m 2s/step - accuracy: 0.3658 - loss: nan - val_accuracy: 0.3903 - val_loss: nan\n",
      "Epoch 11/80\n",
      "\u001b[1m76/76\u001b[0m \u001b[32m━━━━━━━━━━━━━━━━━━━━\u001b[0m\u001b[37m\u001b[0m \u001b[1m119s\u001b[0m 2s/step - accuracy: 0.3584 - loss: nan - val_accuracy: 0.3903 - val_loss: nan\n"
     ]
    }
   ],
   "source": [
    "history = model.fit(x_train, y_train,\n",
    "          batch_size=64,\n",
    "          epochs=80,\n",
    "          validation_split=0.2,\n",
    "          callbacks=callbacks_lst)"
   ]
  },
  {
   "cell_type": "code",
   "execution_count": 31,
   "id": "c1423d13",
   "metadata": {
    "execution": {
     "iopub.execute_input": "2024-12-12T08:38:17.573651Z",
     "iopub.status.busy": "2024-12-12T08:38:17.572717Z",
     "iopub.status.idle": "2024-12-12T08:39:23.249345Z",
     "shell.execute_reply": "2024-12-12T08:39:23.248505Z"
    },
    "papermill": {
     "duration": 65.732023,
     "end_time": "2024-12-12T08:39:23.250880",
     "exception": false,
     "start_time": "2024-12-12T08:38:17.518857",
     "status": "completed"
    },
    "tags": []
   },
   "outputs": [
    {
     "name": "stdout",
     "output_type": "stream",
     "text": [
      "\u001b[1m190/190\u001b[0m \u001b[32m━━━━━━━━━━━━━━━━━━━━\u001b[0m\u001b[37m\u001b[0m \u001b[1m65s\u001b[0m 342ms/step - accuracy: 0.2858 - loss: 1.1188\n",
      "Train Loss: 1.1195869445800781\n",
      "Train Accuracy: 0.2914465069770813\n"
     ]
    }
   ],
   "source": [
    "loss, accuracy = model.evaluate(x_train, y_train)\n",
    "\n",
    "print(f\"Train Loss: {loss}\")\n",
    "print(f\"Train Accuracy: {accuracy}\")\n"
   ]
  },
  {
   "cell_type": "code",
   "execution_count": 32,
   "id": "4bd411b4",
   "metadata": {
    "execution": {
     "iopub.execute_input": "2024-12-12T08:39:23.361857Z",
     "iopub.status.busy": "2024-12-12T08:39:23.361555Z",
     "iopub.status.idle": "2024-12-12T08:39:40.212951Z",
     "shell.execute_reply": "2024-12-12T08:39:40.212229Z"
    },
    "papermill": {
     "duration": 16.9087,
     "end_time": "2024-12-12T08:39:40.214555",
     "exception": false,
     "start_time": "2024-12-12T08:39:23.305855",
     "status": "completed"
    },
    "tags": []
   },
   "outputs": [
    {
     "name": "stdout",
     "output_type": "stream",
     "text": [
      "\u001b[1m48/48\u001b[0m \u001b[32m━━━━━━━━━━━━━━━━━━━━\u001b[0m\u001b[37m\u001b[0m \u001b[1m17s\u001b[0m 349ms/step - accuracy: 0.2850 - loss: 1.1233\n",
      "Test Loss: 1.1268043518066406\n",
      "Test Accuracy: 0.268163800239563\n"
     ]
    }
   ],
   "source": [
    "loss, accuracy = model.evaluate(x_test, y_test)\n",
    "\n",
    "print(f\"Test Loss: {loss}\")\n",
    "print(f\"Test Accuracy: {accuracy}\")\n"
   ]
  },
  {
   "cell_type": "code",
   "execution_count": 33,
   "id": "db406426",
   "metadata": {
    "execution": {
     "iopub.execute_input": "2024-12-12T08:39:40.332251Z",
     "iopub.status.busy": "2024-12-12T08:39:40.331669Z",
     "iopub.status.idle": "2024-12-12T08:39:40.600596Z",
     "shell.execute_reply": "2024-12-12T08:39:40.599772Z"
    },
    "papermill": {
     "duration": 0.328568,
     "end_time": "2024-12-12T08:39:40.602381",
     "exception": false,
     "start_time": "2024-12-12T08:39:40.273813",
     "status": "completed"
    },
    "tags": []
   },
   "outputs": [
    {
     "data": {
      "image/png": "[encoded data removed]",
      "text/plain": [
       "<Figure size 640x480 with 1 Axes>"
      ]
     },
     "metadata": {},
     "output_type": "display_data"
    }
   ],
   "source": [
    "\n",
    "acc = history.history['accuracy']\n",
    "val_acc = history.history['val_accuracy']\n",
    "loss = history.history['loss']\n",
    "val_loss = history.history['val_loss']\n",
    "\n",
    "epochs = range(1, len(acc) + 1)\n",
    "\n",
    "# \"bo\" is for \"blue dot\"\n",
    "plt.plot(epochs, loss, label='Training loss')\n",
    "# b is for \"solid blue line\"\n",
    "plt.plot(epochs, val_loss, label='Validation loss')\n",
    "plt.title('Training and validation loss')\n",
    "plt.xlabel('Epochs')\n",
    "plt.ylabel('Loss')\n",
    "plt.legend()\n",
    "\n",
    "plt.show()"
   ]
  },
  {
   "cell_type": "code",
   "execution_count": 34,
   "id": "c0b5196d",
   "metadata": {
    "execution": {
     "iopub.execute_input": "2024-12-12T08:39:40.719623Z",
     "iopub.status.busy": "2024-12-12T08:39:40.719294Z",
     "iopub.status.idle": "2024-12-12T08:39:40.884283Z",
     "shell.execute_reply": "2024-12-12T08:39:40.883415Z"
    },
    "papermill": {
     "duration": 0.225512,
     "end_time": "2024-12-12T08:39:40.885863",
     "exception": false,
     "start_time": "2024-12-12T08:39:40.660351",
     "status": "completed"
    },
    "tags": []
   },
   "outputs": [
    {
     "data": {
      "image/png": "[encoded data removed]",
      "text/plain": [
       "<Figure size 640x480 with 1 Axes>"
      ]
     },
     "metadata": {},
     "output_type": "display_data"
    }
   ],
   "source": [
    "\n",
    "plt.clf()   # clear figure\n",
    "acc_values = history.history['accuracy']\n",
    "val_acc_values = history.history['val_accuracy']\n",
    "\n",
    "plt.plot(epochs, acc, label='Training acc')\n",
    "plt.plot(epochs, val_acc, label='Validation acc')\n",
    "plt.title('Training and validation accuracy')\n",
    "plt.xlabel('Epochs')\n",
    "plt.ylabel('Loss')\n",
    "plt.legend()\n",
    "\n",
    "plt.show()"
   ]
  },
  {
   "cell_type": "markdown",
   "id": "a90471be",
   "metadata": {
    "papermill": {
     "duration": 0.056806,
     "end_time": "2024-12-12T08:39:41.001349",
     "exception": false,
     "start_time": "2024-12-12T08:39:40.944543",
     "status": "completed"
    },
    "tags": []
   },
   "source": [
    "# LSTM"
   ]
  },
  {
   "cell_type": "code",
   "execution_count": 35,
   "id": "f80af1d0",
   "metadata": {
    "execution": {
     "iopub.execute_input": "2024-12-12T08:39:41.118422Z",
     "iopub.status.busy": "2024-12-12T08:39:41.117619Z",
     "iopub.status.idle": "2024-12-12T08:39:41.443556Z",
     "shell.execute_reply": "2024-12-12T08:39:41.442700Z"
    },
    "papermill": {
     "duration": 0.386025,
     "end_time": "2024-12-12T08:39:41.445077",
     "exception": false,
     "start_time": "2024-12-12T08:39:41.059052",
     "status": "completed"
    },
    "tags": []
   },
   "outputs": [
    {
     "data": {
      "text/html": [
       "<pre style=\"white-space:pre;overflow-x:auto;line-height:normal;font-family:Menlo,'DejaVu Sans Mono',consolas,'Courier New',monospace\"><span style=\"font-weight: bold\">Model: \"sequential_1\"</span>\n",
       "</pre>\n"
      ],
      "text/plain": [
       "\u001b[1mModel: \"sequential_1\"\u001b[0m\n"
      ]
     },
     "metadata": {},
     "output_type": "display_data"
    },
    {
     "data": {
      "text/html": [
       "<pre style=\"white-space:pre;overflow-x:auto;line-height:normal;font-family:Menlo,'DejaVu Sans Mono',consolas,'Courier New',monospace\">┏━━━━━━━━━━━━━━━━━━━━━━━━━━━━━━━━━┳━━━━━━━━━━━━━━━━━━━━━━━━┳━━━━━━━━━━━━━━━┓\n",
       "┃<span style=\"font-weight: bold\"> Layer (type)                    </span>┃<span style=\"font-weight: bold\"> Output Shape           </span>┃<span style=\"font-weight: bold\">       Param # </span>┃\n",
       "┡━━━━━━━━━━━━━━━━━━━━━━━━━━━━━━━━━╇━━━━━━━━━━━━━━━━━━━━━━━━╇━━━━━━━━━━━━━━━┩\n",
       "│ embedding_1 (<span style=\"color: #0087ff; text-decoration-color: #0087ff\">Embedding</span>)         │ (<span style=\"color: #00d7ff; text-decoration-color: #00d7ff\">None</span>, <span style=\"color: #00af00; text-decoration-color: #00af00\">5797</span>, <span style=\"color: #00af00; text-decoration-color: #00af00\">100</span>)      │     <span style=\"color: #00af00; text-decoration-color: #00af00\">1,000,100</span> │\n",
       "├─────────────────────────────────┼────────────────────────┼───────────────┤\n",
       "│ lstm (<span style=\"color: #0087ff; text-decoration-color: #0087ff\">LSTM</span>)                     │ (<span style=\"color: #00d7ff; text-decoration-color: #00d7ff\">None</span>, <span style=\"color: #00af00; text-decoration-color: #00af00\">5797</span>, <span style=\"color: #00af00; text-decoration-color: #00af00\">100</span>)      │        <span style=\"color: #00af00; text-decoration-color: #00af00\">80,400</span> │\n",
       "├─────────────────────────────────┼────────────────────────┼───────────────┤\n",
       "│ dropout_4 (<span style=\"color: #0087ff; text-decoration-color: #0087ff\">Dropout</span>)             │ (<span style=\"color: #00d7ff; text-decoration-color: #00d7ff\">None</span>, <span style=\"color: #00af00; text-decoration-color: #00af00\">5797</span>, <span style=\"color: #00af00; text-decoration-color: #00af00\">100</span>)      │             <span style=\"color: #00af00; text-decoration-color: #00af00\">0</span> │\n",
       "├─────────────────────────────────┼────────────────────────┼───────────────┤\n",
       "│ lstm_1 (<span style=\"color: #0087ff; text-decoration-color: #0087ff\">LSTM</span>)                   │ (<span style=\"color: #00d7ff; text-decoration-color: #00d7ff\">None</span>, <span style=\"color: #00af00; text-decoration-color: #00af00\">5797</span>, <span style=\"color: #00af00; text-decoration-color: #00af00\">100</span>)      │        <span style=\"color: #00af00; text-decoration-color: #00af00\">80,400</span> │\n",
       "├─────────────────────────────────┼────────────────────────┼───────────────┤\n",
       "│ dropout_5 (<span style=\"color: #0087ff; text-decoration-color: #0087ff\">Dropout</span>)             │ (<span style=\"color: #00d7ff; text-decoration-color: #00d7ff\">None</span>, <span style=\"color: #00af00; text-decoration-color: #00af00\">5797</span>, <span style=\"color: #00af00; text-decoration-color: #00af00\">100</span>)      │             <span style=\"color: #00af00; text-decoration-color: #00af00\">0</span> │\n",
       "├─────────────────────────────────┼────────────────────────┼───────────────┤\n",
       "│ lstm_2 (<span style=\"color: #0087ff; text-decoration-color: #0087ff\">LSTM</span>)                   │ (<span style=\"color: #00d7ff; text-decoration-color: #00d7ff\">None</span>, <span style=\"color: #00af00; text-decoration-color: #00af00\">100</span>)            │        <span style=\"color: #00af00; text-decoration-color: #00af00\">80,400</span> │\n",
       "├─────────────────────────────────┼────────────────────────┼───────────────┤\n",
       "│ dropout_6 (<span style=\"color: #0087ff; text-decoration-color: #0087ff\">Dropout</span>)             │ (<span style=\"color: #00d7ff; text-decoration-color: #00d7ff\">None</span>, <span style=\"color: #00af00; text-decoration-color: #00af00\">100</span>)            │             <span style=\"color: #00af00; text-decoration-color: #00af00\">0</span> │\n",
       "├─────────────────────────────────┼────────────────────────┼───────────────┤\n",
       "│ dense_2 (<span style=\"color: #0087ff; text-decoration-color: #0087ff\">Dense</span>)                 │ (<span style=\"color: #00d7ff; text-decoration-color: #00d7ff\">None</span>, <span style=\"color: #00af00; text-decoration-color: #00af00\">64</span>)             │         <span style=\"color: #00af00; text-decoration-color: #00af00\">6,464</span> │\n",
       "├─────────────────────────────────┼────────────────────────┼───────────────┤\n",
       "│ batch_normalization_1           │ (<span style=\"color: #00d7ff; text-decoration-color: #00d7ff\">None</span>, <span style=\"color: #00af00; text-decoration-color: #00af00\">64</span>)             │           <span style=\"color: #00af00; text-decoration-color: #00af00\">256</span> │\n",
       "│ (<span style=\"color: #0087ff; text-decoration-color: #0087ff\">BatchNormalization</span>)            │                        │               │\n",
       "├─────────────────────────────────┼────────────────────────┼───────────────┤\n",
       "│ dropout_7 (<span style=\"color: #0087ff; text-decoration-color: #0087ff\">Dropout</span>)             │ (<span style=\"color: #00d7ff; text-decoration-color: #00d7ff\">None</span>, <span style=\"color: #00af00; text-decoration-color: #00af00\">64</span>)             │             <span style=\"color: #00af00; text-decoration-color: #00af00\">0</span> │\n",
       "├─────────────────────────────────┼────────────────────────┼───────────────┤\n",
       "│ dense_3 (<span style=\"color: #0087ff; text-decoration-color: #0087ff\">Dense</span>)                 │ (<span style=\"color: #00d7ff; text-decoration-color: #00d7ff\">None</span>, <span style=\"color: #00af00; text-decoration-color: #00af00\">3</span>)              │           <span style=\"color: #00af00; text-decoration-color: #00af00\">195</span> │\n",
       "└─────────────────────────────────┴────────────────────────┴───────────────┘\n",
       "</pre>\n"
      ],
      "text/plain": [
       "┏━━━━━━━━━━━━━━━━━━━━━━━━━━━━━━━━━┳━━━━━━━━━━━━━━━━━━━━━━━━┳━━━━━━━━━━━━━━━┓\n",
       "┃\u001b[1m \u001b[0m\u001b[1mLayer (type)                   \u001b[0m\u001b[1m \u001b[0m┃\u001b[1m \u001b[0m\u001b[1mOutput Shape          \u001b[0m\u001b[1m \u001b[0m┃\u001b[1m \u001b[0m\u001b[1m      Param #\u001b[0m\u001b[1m \u001b[0m┃\n",
       "┡━━━━━━━━━━━━━━━━━━━━━━━━━━━━━━━━━╇━━━━━━━━━━━━━━━━━━━━━━━━╇━━━━━━━━━━━━━━━┩\n",
       "│ embedding_1 (\u001b[38;5;33mEmbedding\u001b[0m)         │ (\u001b[38;5;45mNone\u001b[0m, \u001b[38;5;34m5797\u001b[0m, \u001b[38;5;34m100\u001b[0m)      │     \u001b[38;5;34m1,000,100\u001b[0m │\n",
       "├─────────────────────────────────┼────────────────────────┼───────────────┤\n",
       "│ lstm (\u001b[38;5;33mLSTM\u001b[0m)                     │ (\u001b[38;5;45mNone\u001b[0m, \u001b[38;5;34m5797\u001b[0m, \u001b[38;5;34m100\u001b[0m)      │        \u001b[38;5;34m80,400\u001b[0m │\n",
       "├─────────────────────────────────┼────────────────────────┼───────────────┤\n",
       "│ dropout_4 (\u001b[38;5;33mDropout\u001b[0m)             │ (\u001b[38;5;45mNone\u001b[0m, \u001b[38;5;34m5797\u001b[0m, \u001b[38;5;34m100\u001b[0m)      │             \u001b[38;5;34m0\u001b[0m │\n",
       "├─────────────────────────────────┼────────────────────────┼───────────────┤\n",
       "│ lstm_1 (\u001b[38;5;33mLSTM\u001b[0m)                   │ (\u001b[38;5;45mNone\u001b[0m, \u001b[38;5;34m5797\u001b[0m, \u001b[38;5;34m100\u001b[0m)      │        \u001b[38;5;34m80,400\u001b[0m │\n",
       "├─────────────────────────────────┼────────────────────────┼───────────────┤\n",
       "│ dropout_5 (\u001b[38;5;33mDropout\u001b[0m)             │ (\u001b[38;5;45mNone\u001b[0m, \u001b[38;5;34m5797\u001b[0m, \u001b[38;5;34m100\u001b[0m)      │             \u001b[38;5;34m0\u001b[0m │\n",
       "├─────────────────────────────────┼────────────────────────┼───────────────┤\n",
       "│ lstm_2 (\u001b[38;5;33mLSTM\u001b[0m)                   │ (\u001b[38;5;45mNone\u001b[0m, \u001b[38;5;34m100\u001b[0m)            │        \u001b[38;5;34m80,400\u001b[0m │\n",
       "├─────────────────────────────────┼────────────────────────┼───────────────┤\n",
       "│ dropout_6 (\u001b[38;5;33mDropout\u001b[0m)             │ (\u001b[38;5;45mNone\u001b[0m, \u001b[38;5;34m100\u001b[0m)            │             \u001b[38;5;34m0\u001b[0m │\n",
       "├─────────────────────────────────┼────────────────────────┼───────────────┤\n",
       "│ dense_2 (\u001b[38;5;33mDense\u001b[0m)                 │ (\u001b[38;5;45mNone\u001b[0m, \u001b[38;5;34m64\u001b[0m)             │         \u001b[38;5;34m6,464\u001b[0m │\n",
       "├─────────────────────────────────┼────────────────────────┼───────────────┤\n",
       "│ batch_normalization_1           │ (\u001b[38;5;45mNone\u001b[0m, \u001b[38;5;34m64\u001b[0m)             │           \u001b[38;5;34m256\u001b[0m │\n",
       "│ (\u001b[38;5;33mBatchNormalization\u001b[0m)            │                        │               │\n",
       "├─────────────────────────────────┼────────────────────────┼───────────────┤\n",
       "│ dropout_7 (\u001b[38;5;33mDropout\u001b[0m)             │ (\u001b[38;5;45mNone\u001b[0m, \u001b[38;5;34m64\u001b[0m)             │             \u001b[38;5;34m0\u001b[0m │\n",
       "├─────────────────────────────────┼────────────────────────┼───────────────┤\n",
       "│ dense_3 (\u001b[38;5;33mDense\u001b[0m)                 │ (\u001b[38;5;45mNone\u001b[0m, \u001b[38;5;34m3\u001b[0m)              │           \u001b[38;5;34m195\u001b[0m │\n",
       "└─────────────────────────────────┴────────────────────────┴───────────────┘\n"
      ]
     },
     "metadata": {},
     "output_type": "display_data"
    },
    {
     "data": {
      "text/html": [
       "<pre style=\"white-space:pre;overflow-x:auto;line-height:normal;font-family:Menlo,'DejaVu Sans Mono',consolas,'Courier New',monospace\"><span style=\"font-weight: bold\"> Total params: </span><span style=\"color: #00af00; text-decoration-color: #00af00\">1,248,215</span> (4.76 MB)\n",
       "</pre>\n"
      ],
      "text/plain": [
       "\u001b[1m Total params: \u001b[0m\u001b[38;5;34m1,248,215\u001b[0m (4.76 MB)\n"
      ]
     },
     "metadata": {},
     "output_type": "display_data"
    },
    {
     "data": {
      "text/html": [
       "<pre style=\"white-space:pre;overflow-x:auto;line-height:normal;font-family:Menlo,'DejaVu Sans Mono',consolas,'Courier New',monospace\"><span style=\"font-weight: bold\"> Trainable params: </span><span style=\"color: #00af00; text-decoration-color: #00af00\">1,248,087</span> (4.76 MB)\n",
       "</pre>\n"
      ],
      "text/plain": [
       "\u001b[1m Trainable params: \u001b[0m\u001b[38;5;34m1,248,087\u001b[0m (4.76 MB)\n"
      ]
     },
     "metadata": {},
     "output_type": "display_data"
    },
    {
     "data": {
      "text/html": [
       "<pre style=\"white-space:pre;overflow-x:auto;line-height:normal;font-family:Menlo,'DejaVu Sans Mono',consolas,'Courier New',monospace\"><span style=\"font-weight: bold\"> Non-trainable params: </span><span style=\"color: #00af00; text-decoration-color: #00af00\">128</span> (512.00 B)\n",
       "</pre>\n"
      ],
      "text/plain": [
       "\u001b[1m Non-trainable params: \u001b[0m\u001b[38;5;34m128\u001b[0m (512.00 B)\n"
      ]
     },
     "metadata": {},
     "output_type": "display_data"
    }
   ],
   "source": [
    "from keras.layers import LSTM\n",
    "\n",
    "# Model: Enhanced LSTM with multiple layers\n",
    "model = Sequential()\n",
    "model.add(Embedding(input_dim=vocab_sz + 1, output_dim=embedding_size, mask_zero=True, input_length=maxlen))\n",
    "\n",
    "# Add the first LSTM layer\n",
    "model.add(LSTM(100, return_sequences=True,recurrent_dropout=0.2,dropout=0.2))  # Return sequences to pass to the next LSTM layer\n",
    "model.add(Dropout(0.3))  # Dropout to prevent overfitting\n",
    "\n",
    "# Add a second LSTM layer\n",
    "model.add(LSTM(100, return_sequences=True,recurrent_dropout=0.2,dropout=0.2))\n",
    "model.add(Dropout(0.3))\n",
    "\n",
    "# Add a third LSTM layer\n",
    "model.add(LSTM(100,recurrent_dropout=0.2,dropout=0.2))\n",
    "model.add(Dropout(0.3))\n",
    "\n",
    "\n",
    "# Add a fully connected layer\n",
    "model.add(Dense(64, activation='relu'))  # Intermediate dense layer for more learning capacity\n",
    "model.add(BatchNormalization())\n",
    "model.add(Dropout(0.3))\n",
    "\n",
    "model.add(Dense(3, activation='softmax'))  # For classification\n",
    "\n",
    "model.build(input_shape=(None, maxlen)) # None for batch size, maxlen for sequence length\n",
    "# Model summary\n",
    "model.summary()"
   ]
  },
  {
   "cell_type": "code",
   "execution_count": 36,
   "id": "cb1f82d5",
   "metadata": {
    "execution": {
     "iopub.execute_input": "2024-12-12T08:39:41.562578Z",
     "iopub.status.busy": "2024-12-12T08:39:41.562302Z",
     "iopub.status.idle": "2024-12-12T08:39:41.569655Z",
     "shell.execute_reply": "2024-12-12T08:39:41.569015Z"
    },
    "papermill": {
     "duration": 0.067434,
     "end_time": "2024-12-12T08:39:41.571151",
     "exception": false,
     "start_time": "2024-12-12T08:39:41.503717",
     "status": "completed"
    },
    "tags": []
   },
   "outputs": [],
   "source": [
    "model.compile(\n",
    "    loss='sparse_categorical_crossentropy', \n",
    "    optimizer='adam',\n",
    "    metrics=['accuracy']\n",
    ")"
   ]
  },
  {
   "cell_type": "code",
   "execution_count": 37,
   "id": "7215fc4a",
   "metadata": {
    "execution": {
     "iopub.execute_input": "2024-12-12T08:39:41.688105Z",
     "iopub.status.busy": "2024-12-12T08:39:41.687811Z",
     "iopub.status.idle": "2024-12-12T08:39:41.691637Z",
     "shell.execute_reply": "2024-12-12T08:39:41.690882Z"
    },
    "papermill": {
     "duration": 0.064002,
     "end_time": "2024-12-12T08:39:41.693070",
     "exception": false,
     "start_time": "2024-12-12T08:39:41.629068",
     "status": "completed"
    },
    "tags": []
   },
   "outputs": [],
   "source": [
    "checkpoint = EarlyStopping(monitor='val_loss',patience = 10 ,mode='max',restore_best_weights=True)\n",
    "callbacks_lst = [checkpoint]"
   ]
  },
  {
   "cell_type": "code",
   "execution_count": 38,
   "id": "659696f4",
   "metadata": {
    "execution": {
     "iopub.execute_input": "2024-12-12T08:39:41.811423Z",
     "iopub.status.busy": "2024-12-12T08:39:41.811095Z",
     "iopub.status.idle": "2024-12-12T17:59:19.615983Z",
     "shell.execute_reply": "2024-12-12T17:59:19.614943Z"
    },
    "papermill": {
     "duration": 33577.944839,
     "end_time": "2024-12-12T17:59:19.696079",
     "exception": false,
     "start_time": "2024-12-12T08:39:41.751240",
     "status": "completed"
    },
    "tags": []
   },
   "outputs": [
    {
     "name": "stdout",
     "output_type": "stream",
     "text": [
      "Epoch 1/50\n",
      "\u001b[1m76/76\u001b[0m \u001b[32m━━━━━━━━━━━━━━━━━━━━\u001b[0m\u001b[37m\u001b[0m \u001b[1m3071s\u001b[0m 40s/step - accuracy: 0.5379 - loss: 0.8818 - val_accuracy: 0.9447 - val_loss: 0.7933\n",
      "Epoch 2/50\n",
      "\u001b[1m76/76\u001b[0m \u001b[32m━━━━━━━━━━━━━━━━━━━━\u001b[0m\u001b[37m\u001b[0m \u001b[1m3066s\u001b[0m 40s/step - accuracy: 0.9487 - loss: 0.1566 - val_accuracy: 0.9728 - val_loss: 0.3441\n",
      "Epoch 3/50\n",
      "\u001b[1m76/76\u001b[0m \u001b[32m━━━━━━━━━━━━━━━━━━━━\u001b[0m\u001b[37m\u001b[0m \u001b[1m3013s\u001b[0m 40s/step - accuracy: 0.9695 - loss: 0.0931 - val_accuracy: 0.9703 - val_loss: 0.1463\n",
      "Epoch 4/50\n",
      "\u001b[1m76/76\u001b[0m \u001b[32m━━━━━━━━━━━━━━━━━━━━\u001b[0m\u001b[37m\u001b[0m \u001b[1m3030s\u001b[0m 40s/step - accuracy: 0.9698 - loss: 0.0788 - val_accuracy: 0.9703 - val_loss: 0.0716\n",
      "Epoch 5/50\n",
      "\u001b[1m76/76\u001b[0m \u001b[32m━━━━━━━━━━━━━━━━━━━━\u001b[0m\u001b[37m\u001b[0m \u001b[1m3035s\u001b[0m 40s/step - accuracy: 0.9717 - loss: 0.0738 - val_accuracy: 0.9711 - val_loss: 0.0546\n",
      "Epoch 6/50\n",
      "\u001b[1m76/76\u001b[0m \u001b[32m━━━━━━━━━━━━━━━━━━━━\u001b[0m\u001b[37m\u001b[0m \u001b[1m3039s\u001b[0m 40s/step - accuracy: 0.9786 - loss: 0.0518 - val_accuracy: 0.9703 - val_loss: 0.0414\n",
      "Epoch 7/50\n",
      "\u001b[1m76/76\u001b[0m \u001b[32m━━━━━━━━━━━━━━━━━━━━\u001b[0m\u001b[37m\u001b[0m \u001b[1m3040s\u001b[0m 40s/step - accuracy: 0.9812 - loss: 0.0438 - val_accuracy: 0.9752 - val_loss: 0.0386\n",
      "Epoch 8/50\n",
      "\u001b[1m76/76\u001b[0m \u001b[32m━━━━━━━━━━━━━━━━━━━━\u001b[0m\u001b[37m\u001b[0m \u001b[1m3078s\u001b[0m 41s/step - accuracy: 0.9807 - loss: 0.0431 - val_accuracy: 0.9736 - val_loss: 0.0746\n",
      "Epoch 9/50\n",
      "\u001b[1m76/76\u001b[0m \u001b[32m━━━━━━━━━━━━━━━━━━━━\u001b[0m\u001b[37m\u001b[0m \u001b[1m3075s\u001b[0m 40s/step - accuracy: 0.9701 - loss: 0.0836 - val_accuracy: 0.9645 - val_loss: 0.0834\n",
      "Epoch 10/50\n",
      "\u001b[1m76/76\u001b[0m \u001b[32m━━━━━━━━━━━━━━━━━━━━\u001b[0m\u001b[37m\u001b[0m \u001b[1m3070s\u001b[0m 40s/step - accuracy: 0.9741 - loss: 0.0554 - val_accuracy: 0.9744 - val_loss: 0.0446\n",
      "Epoch 11/50\n",
      "\u001b[1m76/76\u001b[0m \u001b[32m━━━━━━━━━━━━━━━━━━━━\u001b[0m\u001b[37m\u001b[0m \u001b[1m3060s\u001b[0m 40s/step - accuracy: 0.9735 - loss: 0.0671 - val_accuracy: 0.9752 - val_loss: 0.0407\n"
     ]
    }
   ],
   "source": [
    "history = model.fit(x_train, y_train,\n",
    "          batch_size=64,\n",
    "          epochs=50,\n",
    "          validation_split=0.2,\n",
    "          callbacks=callbacks_lst)"
   ]
  },
  {
   "cell_type": "code",
   "execution_count": 39,
   "id": "539d8051",
   "metadata": {
    "execution": {
     "iopub.execute_input": "2024-12-12T17:59:19.894113Z",
     "iopub.status.busy": "2024-12-12T17:59:19.893768Z",
     "iopub.status.idle": "2024-12-12T18:20:08.980370Z",
     "shell.execute_reply": "2024-12-12T18:20:08.979476Z"
    },
    "papermill": {
     "duration": 1249.286165,
     "end_time": "2024-12-12T18:20:09.079988",
     "exception": false,
     "start_time": "2024-12-12T17:59:19.793823",
     "status": "completed"
    },
    "tags": []
   },
   "outputs": [
    {
     "name": "stdout",
     "output_type": "stream",
     "text": [
      "\u001b[1m190/190\u001b[0m \u001b[32m━━━━━━━━━━━━━━━━━━━━\u001b[0m\u001b[37m\u001b[0m \u001b[1m1249s\u001b[0m 7s/step - accuracy: 0.9633 - loss: 0.7783\n",
      "Train Loss: 0.7799026966094971\n",
      "Train Accuracy: 0.9593791365623474\n"
     ]
    }
   ],
   "source": [
    "loss, accuracy = model.evaluate(x_train, y_train)\n",
    "\n",
    "print(f\"Train Loss: {loss}\")\n",
    "print(f\"Train Accuracy: {accuracy}\")\n"
   ]
  },
  {
   "cell_type": "code",
   "execution_count": 40,
   "id": "7a18e805",
   "metadata": {
    "execution": {
     "iopub.execute_input": "2024-12-12T18:20:09.292996Z",
     "iopub.status.busy": "2024-12-12T18:20:09.292653Z",
     "iopub.status.idle": "2024-12-12T18:25:24.622567Z",
     "shell.execute_reply": "2024-12-12T18:25:24.621750Z"
    },
    "papermill": {
     "duration": 315.438193,
     "end_time": "2024-12-12T18:25:24.624120",
     "exception": false,
     "start_time": "2024-12-12T18:20:09.185927",
     "status": "completed"
    },
    "tags": []
   },
   "outputs": [
    {
     "name": "stdout",
     "output_type": "stream",
     "text": [
      "\u001b[1m48/48\u001b[0m \u001b[32m━━━━━━━━━━━━━━━━━━━━\u001b[0m\u001b[37m\u001b[0m \u001b[1m315s\u001b[0m 7s/step - accuracy: 0.9488 - loss: 0.7911\n",
      "Test Loss: 0.7981860637664795\n",
      "Test Accuracy: 0.9478203654289246\n"
     ]
    }
   ],
   "source": [
    "loss, accuracy = model.evaluate(x_test, y_test)\n",
    "\n",
    "print(f\"Test Loss: {loss}\")\n",
    "print(f\"Test Accuracy: {accuracy}\")\n"
   ]
  },
  {
   "cell_type": "code",
   "execution_count": 41,
   "id": "e8257b4d",
   "metadata": {
    "execution": {
     "iopub.execute_input": "2024-12-12T18:25:24.842351Z",
     "iopub.status.busy": "2024-12-12T18:25:24.841691Z",
     "iopub.status.idle": "2024-12-12T18:25:25.090650Z",
     "shell.execute_reply": "2024-12-12T18:25:25.089713Z"
    },
    "papermill": {
     "duration": 0.359277,
     "end_time": "2024-12-12T18:25:25.092281",
     "exception": false,
     "start_time": "2024-12-12T18:25:24.733004",
     "status": "completed"
    },
    "tags": []
   },
   "outputs": [
    {
     "data": {
      "image/png": "[encoded data removed]",
      "text/plain": [
       "<Figure size 640x480 with 1 Axes>"
      ]
     },
     "metadata": {},
     "output_type": "display_data"
    }
   ],
   "source": [
    "\n",
    "acc = history.history['accuracy']\n",
    "val_acc = history.history['val_accuracy']\n",
    "loss = history.history['loss']\n",
    "val_loss = history.history['val_loss']\n",
    "\n",
    "epochs = range(1, len(acc) + 1)\n",
    "\n",
    "# \"bo\" is for \"blue dot\"\n",
    "plt.plot(epochs, loss, label='Training loss')\n",
    "# b is for \"solid blue line\"\n",
    "plt.plot(epochs, val_loss, label='Validation loss')\n",
    "plt.title('Training and validation loss')\n",
    "plt.xlabel('Epochs')\n",
    "plt.ylabel('Loss')\n",
    "plt.legend()\n",
    "\n",
    "plt.show()"
   ]
  },
  {
   "cell_type": "code",
   "execution_count": 42,
   "id": "8462ae5e",
   "metadata": {
    "execution": {
     "iopub.execute_input": "2024-12-12T18:25:25.311121Z",
     "iopub.status.busy": "2024-12-12T18:25:25.310403Z",
     "iopub.status.idle": "2024-12-12T18:25:25.479005Z",
     "shell.execute_reply": "2024-12-12T18:25:25.478110Z"
    },
    "papermill": {
     "duration": 0.279298,
     "end_time": "2024-12-12T18:25:25.480695",
     "exception": false,
     "start_time": "2024-12-12T18:25:25.201397",
     "status": "completed"
    },
    "tags": []
   },
   "outputs": [
    {
     "data": {
      "image/png": "[encoded data removed]",
      "text/plain": [
       "<Figure size 640x480 with 1 Axes>"
      ]
     },
     "metadata": {},
     "output_type": "display_data"
    }
   ],
   "source": [
    "\n",
    "plt.clf()   # clear figure\n",
    "acc_values = history.history['accuracy']\n",
    "val_acc_values = history.history['val_accuracy']\n",
    "\n",
    "plt.plot(epochs, acc, label='Training acc')\n",
    "plt.plot(epochs, val_acc, label='Validation acc')\n",
    "plt.title('Training and validation accuracy')\n",
    "plt.xlabel('Epochs')\n",
    "plt.ylabel('Loss')\n",
    "plt.legend()\n",
    "\n",
    "plt.show()"
   ]
  },
  {
   "cell_type": "code",
   "execution_count": null,
   "id": "7bd2d392",
   "metadata": {
    "papermill": {
     "duration": 0.107565,
     "end_time": "2024-12-12T18:25:25.697468",
     "exception": false,
     "start_time": "2024-12-12T18:25:25.589903",
     "status": "completed"
    },
    "tags": []
   },
   "outputs": [],
   "source": []
  },
  {
   "cell_type": "code",
   "execution_count": null,
   "id": "2580b1c9",
   "metadata": {
    "papermill": {
     "duration": 0.107914,
     "end_time": "2024-12-12T18:25:25.913624",
     "exception": false,
     "start_time": "2024-12-12T18:25:25.805710",
     "status": "completed"
    },
    "tags": []
   },
   "outputs": [],
   "source": []
  }
 ],
 "metadata": {
  "kaggle": {
   "accelerator": "gpu",
   "dataSources": [
    {
     "datasetId": 2389764,
     "sourceId": 4033428,
     "sourceType": "datasetVersion"
    }
   ],
   "dockerImageVersionId": 30805,
   "isGpuEnabled": true,
   "isInternetEnabled": false,
   "language": "python",
   "sourceType": "notebook"
  },
  "kernelspec": {
   "display_name": "Python 3",
   "language": "python",
   "name": "python3"
  },
  "language_info": {
   "codemirror_mode": {
    "name": "ipython",
    "version": 3
   },
   "file_extension": ".py",
   "mimetype": "text/x-python",
   "name": "python",
   "nbconvert_exporter": "python",
   "pygments_lexer": "ipython3",
   "version": "3.10.14"
  },
  "papermill": {
   "default_parameters": {},
   "duration": 36994.380062,
   "end_time": "2024-12-12T18:25:29.022126",
   "environment_variables": {},
   "exception": null,
   "input_path": "__notebook__.ipynb",
   "output_path": "__notebook__.ipynb",
   "parameters": {},
   "start_time": "2024-12-12T08:08:54.642064",
   "version": "2.6.0"
  }
 },
 "nbformat": 4,
 "nbformat_minor": 5
}
