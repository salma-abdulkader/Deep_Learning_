{
 "cells": [
  {
   "cell_type": "code",
   "execution_count": 1,
   "id": "7dc298a8",
   "metadata": {
    "execution": {
     "iopub.execute_input": "2024-12-15T12:58:22.633811Z",
     "iopub.status.busy": "2024-12-15T12:58:22.632972Z",
     "iopub.status.idle": "2024-12-15T12:58:36.251104Z",
     "shell.execute_reply": "2024-12-15T12:58:36.250441Z"
    },
    "papermill": {
     "duration": 13.626711,
     "end_time": "2024-12-15T12:58:36.253071",
     "exception": false,
     "start_time": "2024-12-15T12:58:22.626360",
     "status": "completed"
    },
    "tags": []
   },
   "outputs": [],
   "source": [
    "import pandas as pd \n",
    "import numpy as np\n",
    "import matplotlib.pyplot as plt\n",
    "import seaborn as sns\n",
    "import nltk\n",
    "import re\n",
    "import emoji\n",
    "import tensorflow as tf\n",
    "from nltk.corpus import stopwords\n",
    "from nltk.tokenize import word_tokenize\n",
    "from nltk.stem import PorterStemmer , WordNetLemmatizer\n",
    "from tensorflow.keras.preprocessing.text import Tokenizer\n",
    "from tensorflow.keras.preprocessing.text import text_to_word_sequence\n",
    "from tensorflow.keras.preprocessing.sequence import pad_sequences\n",
    "from sklearn.model_selection import train_test_split\n",
    "from tensorflow.keras.models import Sequential\n",
    "from tensorflow.keras.layers import Dense, Dropout, BatchNormalization\n",
    "from tensorflow.keras.layers import Embedding, LSTM\n",
    "from tensorflow.keras.callbacks import EarlyStopping\n",
    "from sklearn.metrics import classification_report ,accuracy_score,confusion_matrix"
   ]
  },
  {
   "cell_type": "code",
   "execution_count": 2,
   "id": "11acd158",
   "metadata": {
    "execution": {
     "iopub.execute_input": "2024-12-15T12:58:36.265218Z",
     "iopub.status.busy": "2024-12-15T12:58:36.264674Z",
     "iopub.status.idle": "2024-12-15T12:58:40.122737Z",
     "shell.execute_reply": "2024-12-15T12:58:40.121860Z"
    },
    "papermill": {
     "duration": 3.866552,
     "end_time": "2024-12-15T12:58:40.124613",
     "exception": false,
     "start_time": "2024-12-15T12:58:36.258061",
     "status": "completed"
    },
    "tags": []
   },
   "outputs": [
    {
     "data": {
      "text/html": [
       "<div>\n",
       "<style scoped>\n",
       "    .dataframe tbody tr th:only-of-type {\n",
       "        vertical-align: middle;\n",
       "    }\n",
       "\n",
       "    .dataframe tbody tr th {\n",
       "        vertical-align: top;\n",
       "    }\n",
       "\n",
       "    .dataframe thead th {\n",
       "        text-align: right;\n",
       "    }\n",
       "</style>\n",
       "<table border=\"1\" class=\"dataframe\">\n",
       "  <thead>\n",
       "    <tr style=\"text-align: right;\">\n",
       "      <th></th>\n",
       "      <th>polarity</th>\n",
       "      <th>title_review</th>\n",
       "      <th>text_review</th>\n",
       "    </tr>\n",
       "  </thead>\n",
       "  <tbody>\n",
       "    <tr>\n",
       "      <th>0</th>\n",
       "      <td>2</td>\n",
       "      <td>Great CD</td>\n",
       "      <td>My lovely Pat has one of the GREAT voices of h...</td>\n",
       "    </tr>\n",
       "    <tr>\n",
       "      <th>1</th>\n",
       "      <td>2</td>\n",
       "      <td>One of the best game music soundtracks - for a...</td>\n",
       "      <td>Despite the fact that I have only played a sma...</td>\n",
       "    </tr>\n",
       "    <tr>\n",
       "      <th>2</th>\n",
       "      <td>1</td>\n",
       "      <td>Batteries died within a year ...</td>\n",
       "      <td>I bought this charger in Jul 2003 and it worke...</td>\n",
       "    </tr>\n",
       "    <tr>\n",
       "      <th>3</th>\n",
       "      <td>2</td>\n",
       "      <td>works fine, but Maha Energy is better</td>\n",
       "      <td>Check out Maha Energy's website. Their Powerex...</td>\n",
       "    </tr>\n",
       "    <tr>\n",
       "      <th>4</th>\n",
       "      <td>2</td>\n",
       "      <td>Great for the non-audiophile</td>\n",
       "      <td>Reviewed quite a bit of the combo players and ...</td>\n",
       "    </tr>\n",
       "  </tbody>\n",
       "</table>\n",
       "</div>"
      ],
      "text/plain": [
       "   polarity                                       title_review  \\\n",
       "0         2                                           Great CD   \n",
       "1         2  One of the best game music soundtracks - for a...   \n",
       "2         1                   Batteries died within a year ...   \n",
       "3         2              works fine, but Maha Energy is better   \n",
       "4         2                       Great for the non-audiophile   \n",
       "\n",
       "                                         text_review  \n",
       "0  My lovely Pat has one of the GREAT voices of h...  \n",
       "1  Despite the fact that I have only played a sma...  \n",
       "2  I bought this charger in Jul 2003 and it worke...  \n",
       "3  Check out Maha Energy's website. Their Powerex...  \n",
       "4  Reviewed quite a bit of the combo players and ...  "
      ]
     },
     "execution_count": 2,
     "metadata": {},
     "output_type": "execute_result"
    }
   ],
   "source": [
    "name_columns=['polarity','title_review','text_review']\n",
    "df=pd.read_csv('/kaggle/input/amazon-reviews/test.csv',header=None,names=name_columns)\n",
    "df.head()"
   ]
  },
  {
   "cell_type": "code",
   "execution_count": 3,
   "id": "965950a5",
   "metadata": {
    "execution": {
     "iopub.execute_input": "2024-12-15T12:58:40.135792Z",
     "iopub.status.busy": "2024-12-15T12:58:40.135539Z",
     "iopub.status.idle": "2024-12-15T12:58:40.140866Z",
     "shell.execute_reply": "2024-12-15T12:58:40.140031Z"
    },
    "papermill": {
     "duration": 0.012553,
     "end_time": "2024-12-15T12:58:40.142320",
     "exception": false,
     "start_time": "2024-12-15T12:58:40.129767",
     "status": "completed"
    },
    "tags": []
   },
   "outputs": [
    {
     "data": {
      "text/plain": [
       "(400000, 3)"
      ]
     },
     "execution_count": 3,
     "metadata": {},
     "output_type": "execute_result"
    }
   ],
   "source": [
    "df.shape"
   ]
  },
  {
   "cell_type": "code",
   "execution_count": 4,
   "id": "fa8f4e83",
   "metadata": {
    "execution": {
     "iopub.execute_input": "2024-12-15T12:58:40.153015Z",
     "iopub.status.busy": "2024-12-15T12:58:40.152572Z",
     "iopub.status.idle": "2024-12-15T12:58:40.227873Z",
     "shell.execute_reply": "2024-12-15T12:58:40.226993Z"
    },
    "papermill": {
     "duration": 0.082464,
     "end_time": "2024-12-15T12:58:40.229572",
     "exception": false,
     "start_time": "2024-12-15T12:58:40.147108",
     "status": "completed"
    },
    "tags": []
   },
   "outputs": [
    {
     "data": {
      "text/plain": [
       "polarity         0\n",
       "title_review    24\n",
       "text_review      0\n",
       "dtype: int64"
      ]
     },
     "execution_count": 4,
     "metadata": {},
     "output_type": "execute_result"
    }
   ],
   "source": [
    "df.isnull().sum()"
   ]
  },
  {
   "cell_type": "code",
   "execution_count": 5,
   "id": "643bea5b",
   "metadata": {
    "execution": {
     "iopub.execute_input": "2024-12-15T12:58:40.241254Z",
     "iopub.status.busy": "2024-12-15T12:58:40.240563Z",
     "iopub.status.idle": "2024-12-15T12:58:40.339587Z",
     "shell.execute_reply": "2024-12-15T12:58:40.338862Z"
    },
    "papermill": {
     "duration": 0.106819,
     "end_time": "2024-12-15T12:58:40.341473",
     "exception": false,
     "start_time": "2024-12-15T12:58:40.234654",
     "status": "completed"
    },
    "tags": []
   },
   "outputs": [],
   "source": [
    "df.dropna(inplace=True)"
   ]
  },
  {
   "cell_type": "code",
   "execution_count": 6,
   "id": "b7ec81e9",
   "metadata": {
    "execution": {
     "iopub.execute_input": "2024-12-15T12:58:40.352979Z",
     "iopub.status.busy": "2024-12-15T12:58:40.352704Z",
     "iopub.status.idle": "2024-12-15T12:58:40.906340Z",
     "shell.execute_reply": "2024-12-15T12:58:40.905429Z"
    },
    "papermill": {
     "duration": 0.561393,
     "end_time": "2024-12-15T12:58:40.908014",
     "exception": false,
     "start_time": "2024-12-15T12:58:40.346621",
     "status": "completed"
    },
    "tags": []
   },
   "outputs": [
    {
     "data": {
      "text/plain": [
       "0"
      ]
     },
     "execution_count": 6,
     "metadata": {},
     "output_type": "execute_result"
    }
   ],
   "source": [
    "df.duplicated().sum()"
   ]
  },
  {
   "cell_type": "code",
   "execution_count": 7,
   "id": "a87ce76b",
   "metadata": {
    "execution": {
     "iopub.execute_input": "2024-12-15T12:58:40.919344Z",
     "iopub.status.busy": "2024-12-15T12:58:40.919068Z",
     "iopub.status.idle": "2024-12-15T12:58:40.924131Z",
     "shell.execute_reply": "2024-12-15T12:58:40.923403Z"
    },
    "papermill": {
     "duration": 0.012558,
     "end_time": "2024-12-15T12:58:40.925714",
     "exception": false,
     "start_time": "2024-12-15T12:58:40.913156",
     "status": "completed"
    },
    "tags": []
   },
   "outputs": [
    {
     "data": {
      "text/plain": [
       "(399976, 3)"
      ]
     },
     "execution_count": 7,
     "metadata": {},
     "output_type": "execute_result"
    }
   ],
   "source": [
    "df.shape"
   ]
  },
  {
   "cell_type": "code",
   "execution_count": 8,
   "id": "836b9fe6",
   "metadata": {
    "execution": {
     "iopub.execute_input": "2024-12-15T12:58:40.937395Z",
     "iopub.status.busy": "2024-12-15T12:58:40.936878Z",
     "iopub.status.idle": "2024-12-15T12:58:41.195568Z",
     "shell.execute_reply": "2024-12-15T12:58:41.194684Z"
    },
    "papermill": {
     "duration": 0.266465,
     "end_time": "2024-12-15T12:58:41.197219",
     "exception": false,
     "start_time": "2024-12-15T12:58:40.930754",
     "status": "completed"
    },
    "tags": []
   },
   "outputs": [
    {
     "data": {
      "text/html": [
       "<div>\n",
       "<style scoped>\n",
       "    .dataframe tbody tr th:only-of-type {\n",
       "        vertical-align: middle;\n",
       "    }\n",
       "\n",
       "    .dataframe tbody tr th {\n",
       "        vertical-align: top;\n",
       "    }\n",
       "\n",
       "    .dataframe thead th {\n",
       "        text-align: right;\n",
       "    }\n",
       "</style>\n",
       "<table border=\"1\" class=\"dataframe\">\n",
       "  <thead>\n",
       "    <tr style=\"text-align: right;\">\n",
       "      <th></th>\n",
       "      <th>polarity</th>\n",
       "      <th>title_review</th>\n",
       "      <th>text_review</th>\n",
       "      <th>full_review</th>\n",
       "    </tr>\n",
       "  </thead>\n",
       "  <tbody>\n",
       "    <tr>\n",
       "      <th>0</th>\n",
       "      <td>2</td>\n",
       "      <td>Great CD</td>\n",
       "      <td>My lovely Pat has one of the GREAT voices of h...</td>\n",
       "      <td>Great CD My lovely Pat has one of the GREAT vo...</td>\n",
       "    </tr>\n",
       "    <tr>\n",
       "      <th>1</th>\n",
       "      <td>2</td>\n",
       "      <td>One of the best game music soundtracks - for a...</td>\n",
       "      <td>Despite the fact that I have only played a sma...</td>\n",
       "      <td>One of the best game music soundtracks - for a...</td>\n",
       "    </tr>\n",
       "    <tr>\n",
       "      <th>2</th>\n",
       "      <td>1</td>\n",
       "      <td>Batteries died within a year ...</td>\n",
       "      <td>I bought this charger in Jul 2003 and it worke...</td>\n",
       "      <td>Batteries died within a year ... I bought this...</td>\n",
       "    </tr>\n",
       "    <tr>\n",
       "      <th>3</th>\n",
       "      <td>2</td>\n",
       "      <td>works fine, but Maha Energy is better</td>\n",
       "      <td>Check out Maha Energy's website. Their Powerex...</td>\n",
       "      <td>works fine, but Maha Energy is better Check ou...</td>\n",
       "    </tr>\n",
       "    <tr>\n",
       "      <th>4</th>\n",
       "      <td>2</td>\n",
       "      <td>Great for the non-audiophile</td>\n",
       "      <td>Reviewed quite a bit of the combo players and ...</td>\n",
       "      <td>Great for the non-audiophile Reviewed quite a ...</td>\n",
       "    </tr>\n",
       "  </tbody>\n",
       "</table>\n",
       "</div>"
      ],
      "text/plain": [
       "   polarity                                       title_review  \\\n",
       "0         2                                           Great CD   \n",
       "1         2  One of the best game music soundtracks - for a...   \n",
       "2         1                   Batteries died within a year ...   \n",
       "3         2              works fine, but Maha Energy is better   \n",
       "4         2                       Great for the non-audiophile   \n",
       "\n",
       "                                         text_review  \\\n",
       "0  My lovely Pat has one of the GREAT voices of h...   \n",
       "1  Despite the fact that I have only played a sma...   \n",
       "2  I bought this charger in Jul 2003 and it worke...   \n",
       "3  Check out Maha Energy's website. Their Powerex...   \n",
       "4  Reviewed quite a bit of the combo players and ...   \n",
       "\n",
       "                                         full_review  \n",
       "0  Great CD My lovely Pat has one of the GREAT vo...  \n",
       "1  One of the best game music soundtracks - for a...  \n",
       "2  Batteries died within a year ... I bought this...  \n",
       "3  works fine, but Maha Energy is better Check ou...  \n",
       "4  Great for the non-audiophile Reviewed quite a ...  "
      ]
     },
     "execution_count": 8,
     "metadata": {},
     "output_type": "execute_result"
    }
   ],
   "source": [
    "df[\"full_review\"] = df[\"title_review\"] + \" \" + df[\"text_review\"]\n",
    "df.head()"
   ]
  },
  {
   "cell_type": "code",
   "execution_count": 9,
   "id": "fcc601dc",
   "metadata": {
    "execution": {
     "iopub.execute_input": "2024-12-15T12:58:41.208829Z",
     "iopub.status.busy": "2024-12-15T12:58:41.208590Z",
     "iopub.status.idle": "2024-12-15T12:58:41.227923Z",
     "shell.execute_reply": "2024-12-15T12:58:41.227214Z"
    },
    "papermill": {
     "duration": 0.026788,
     "end_time": "2024-12-15T12:58:41.229428",
     "exception": false,
     "start_time": "2024-12-15T12:58:41.202640",
     "status": "completed"
    },
    "tags": []
   },
   "outputs": [
    {
     "data": {
      "text/html": [
       "<div>\n",
       "<style scoped>\n",
       "    .dataframe tbody tr th:only-of-type {\n",
       "        vertical-align: middle;\n",
       "    }\n",
       "\n",
       "    .dataframe tbody tr th {\n",
       "        vertical-align: top;\n",
       "    }\n",
       "\n",
       "    .dataframe thead th {\n",
       "        text-align: right;\n",
       "    }\n",
       "</style>\n",
       "<table border=\"1\" class=\"dataframe\">\n",
       "  <thead>\n",
       "    <tr style=\"text-align: right;\">\n",
       "      <th></th>\n",
       "      <th>polarity</th>\n",
       "      <th>title_review</th>\n",
       "      <th>text_review</th>\n",
       "      <th>full_review</th>\n",
       "    </tr>\n",
       "  </thead>\n",
       "  <tbody>\n",
       "    <tr>\n",
       "      <th>0</th>\n",
       "      <td>1</td>\n",
       "      <td>Great CD</td>\n",
       "      <td>My lovely Pat has one of the GREAT voices of h...</td>\n",
       "      <td>Great CD My lovely Pat has one of the GREAT vo...</td>\n",
       "    </tr>\n",
       "    <tr>\n",
       "      <th>1</th>\n",
       "      <td>1</td>\n",
       "      <td>One of the best game music soundtracks - for a...</td>\n",
       "      <td>Despite the fact that I have only played a sma...</td>\n",
       "      <td>One of the best game music soundtracks - for a...</td>\n",
       "    </tr>\n",
       "    <tr>\n",
       "      <th>2</th>\n",
       "      <td>0</td>\n",
       "      <td>Batteries died within a year ...</td>\n",
       "      <td>I bought this charger in Jul 2003 and it worke...</td>\n",
       "      <td>Batteries died within a year ... I bought this...</td>\n",
       "    </tr>\n",
       "    <tr>\n",
       "      <th>3</th>\n",
       "      <td>1</td>\n",
       "      <td>works fine, but Maha Energy is better</td>\n",
       "      <td>Check out Maha Energy's website. Their Powerex...</td>\n",
       "      <td>works fine, but Maha Energy is better Check ou...</td>\n",
       "    </tr>\n",
       "    <tr>\n",
       "      <th>4</th>\n",
       "      <td>1</td>\n",
       "      <td>Great for the non-audiophile</td>\n",
       "      <td>Reviewed quite a bit of the combo players and ...</td>\n",
       "      <td>Great for the non-audiophile Reviewed quite a ...</td>\n",
       "    </tr>\n",
       "  </tbody>\n",
       "</table>\n",
       "</div>"
      ],
      "text/plain": [
       "   polarity                                       title_review  \\\n",
       "0         1                                           Great CD   \n",
       "1         1  One of the best game music soundtracks - for a...   \n",
       "2         0                   Batteries died within a year ...   \n",
       "3         1              works fine, but Maha Energy is better   \n",
       "4         1                       Great for the non-audiophile   \n",
       "\n",
       "                                         text_review  \\\n",
       "0  My lovely Pat has one of the GREAT voices of h...   \n",
       "1  Despite the fact that I have only played a sma...   \n",
       "2  I bought this charger in Jul 2003 and it worke...   \n",
       "3  Check out Maha Energy's website. Their Powerex...   \n",
       "4  Reviewed quite a bit of the combo players and ...   \n",
       "\n",
       "                                         full_review  \n",
       "0  Great CD My lovely Pat has one of the GREAT vo...  \n",
       "1  One of the best game music soundtracks - for a...  \n",
       "2  Batteries died within a year ... I bought this...  \n",
       "3  works fine, but Maha Energy is better Check ou...  \n",
       "4  Great for the non-audiophile Reviewed quite a ...  "
      ]
     },
     "execution_count": 9,
     "metadata": {},
     "output_type": "execute_result"
    }
   ],
   "source": [
    "df['polarity']=df['polarity'].replace({2:1,1:0})\n",
    "df.head()"
   ]
  },
  {
   "cell_type": "code",
   "execution_count": 10,
   "id": "6924c3bf",
   "metadata": {
    "execution": {
     "iopub.execute_input": "2024-12-15T12:58:41.241384Z",
     "iopub.status.busy": "2024-12-15T12:58:41.240708Z",
     "iopub.status.idle": "2024-12-15T12:58:41.246137Z",
     "shell.execute_reply": "2024-12-15T12:58:41.245417Z"
    },
    "papermill": {
     "duration": 0.012842,
     "end_time": "2024-12-15T12:58:41.247624",
     "exception": false,
     "start_time": "2024-12-15T12:58:41.234782",
     "status": "completed"
    },
    "tags": []
   },
   "outputs": [],
   "source": [
    "def lowercasing(text):\n",
    "    return text.lower()\n",
    "\n",
    "def remove_noise(text):\n",
    "    # Remove punctuation, numbers, and symbols \n",
    "    return re.sub(r'[^a-zA-Z\\s]', '', text)\n",
    "\n",
    "def tokenization(text):\n",
    "    return word_tokenize(text)\n",
    "    \n",
    "def get_max_len(texts):\n",
    "  return max([len(text) for text in texts])   \n",
    "\n",
    "def remove_stopwords(tokens):\n",
    "    stop_words=set(stopwords.words('english'))\n",
    "    return [word for word in tokens if word not in stop_words]\n",
    "\n",
    "def stemming(tokens):\n",
    "    stemmer=PorterStemmer()\n",
    "    [stemmer.stem(token) for token in tokens]\n",
    "    return ' '.join(tokens)"
   ]
  },
  {
   "cell_type": "code",
   "execution_count": 11,
   "id": "a36849d7",
   "metadata": {
    "execution": {
     "iopub.execute_input": "2024-12-15T12:58:41.259182Z",
     "iopub.status.busy": "2024-12-15T12:58:41.258921Z",
     "iopub.status.idle": "2024-12-15T12:58:41.579236Z",
     "shell.execute_reply": "2024-12-15T12:58:41.578533Z"
    },
    "papermill": {
     "duration": 0.328331,
     "end_time": "2024-12-15T12:58:41.581122",
     "exception": false,
     "start_time": "2024-12-15T12:58:41.252791",
     "status": "completed"
    },
    "tags": []
   },
   "outputs": [],
   "source": [
    "df['cleaned_review'] = df['full_review'].apply(lowercasing)"
   ]
  },
  {
   "cell_type": "code",
   "execution_count": 12,
   "id": "c9d46bf0",
   "metadata": {
    "execution": {
     "iopub.execute_input": "2024-12-15T12:58:41.593557Z",
     "iopub.status.busy": "2024-12-15T12:58:41.592874Z",
     "iopub.status.idle": "2024-12-15T12:58:44.834972Z",
     "shell.execute_reply": "2024-12-15T12:58:44.834279Z"
    },
    "papermill": {
     "duration": 3.250166,
     "end_time": "2024-12-15T12:58:44.836862",
     "exception": false,
     "start_time": "2024-12-15T12:58:41.586696",
     "status": "completed"
    },
    "tags": []
   },
   "outputs": [],
   "source": [
    "df['cleaned_review'] = df['cleaned_review'].apply(remove_noise)"
   ]
  },
  {
   "cell_type": "code",
   "execution_count": 13,
   "id": "d10efd84",
   "metadata": {
    "execution": {
     "iopub.execute_input": "2024-12-15T12:58:44.848953Z",
     "iopub.status.busy": "2024-12-15T12:58:44.848707Z",
     "iopub.status.idle": "2024-12-15T13:01:01.371987Z",
     "shell.execute_reply": "2024-12-15T13:01:01.371250Z"
    },
    "papermill": {
     "duration": 136.531822,
     "end_time": "2024-12-15T13:01:01.374343",
     "exception": false,
     "start_time": "2024-12-15T12:58:44.842521",
     "status": "completed"
    },
    "tags": []
   },
   "outputs": [],
   "source": [
    "# Remove emojis\n",
    "df['cleaned_review'] = df['cleaned_review'].apply(lambda x: emoji.demojize(x))"
   ]
  },
  {
   "cell_type": "code",
   "execution_count": 14,
   "id": "6aa76fc7",
   "metadata": {
    "execution": {
     "iopub.execute_input": "2024-12-15T13:01:01.386718Z",
     "iopub.status.busy": "2024-12-15T13:01:01.386451Z",
     "iopub.status.idle": "2024-12-15T13:02:52.224496Z",
     "shell.execute_reply": "2024-12-15T13:02:52.223525Z"
    },
    "papermill": {
     "duration": 110.846616,
     "end_time": "2024-12-15T13:02:52.226696",
     "exception": false,
     "start_time": "2024-12-15T13:01:01.380080",
     "status": "completed"
    },
    "tags": []
   },
   "outputs": [],
   "source": [
    "df['cleaned_review'] = df['cleaned_review'].apply(tokenization)"
   ]
  },
  {
   "cell_type": "code",
   "execution_count": 15,
   "id": "9fef1b51",
   "metadata": {
    "execution": {
     "iopub.execute_input": "2024-12-15T13:02:52.239444Z",
     "iopub.status.busy": "2024-12-15T13:02:52.238685Z",
     "iopub.status.idle": "2024-12-15T13:02:52.344478Z",
     "shell.execute_reply": "2024-12-15T13:02:52.343491Z"
    },
    "papermill": {
     "duration": 0.113685,
     "end_time": "2024-12-15T13:02:52.346222",
     "exception": false,
     "start_time": "2024-12-15T13:02:52.232537",
     "status": "completed"
    },
    "tags": []
   },
   "outputs": [
    {
     "name": "stdout",
     "output_type": "stream",
     "text": [
      "228\n"
     ]
    }
   ],
   "source": [
    "sent_length = get_max_len(df['cleaned_review'])\n",
    "print(sent_length)"
   ]
  },
  {
   "cell_type": "code",
   "execution_count": 16,
   "id": "c00e69fd",
   "metadata": {
    "execution": {
     "iopub.execute_input": "2024-12-15T13:02:52.358925Z",
     "iopub.status.busy": "2024-12-15T13:02:52.358659Z",
     "iopub.status.idle": "2024-12-15T13:03:38.261708Z",
     "shell.execute_reply": "2024-12-15T13:03:38.260736Z"
    },
    "papermill": {
     "duration": 45.911474,
     "end_time": "2024-12-15T13:03:38.263944",
     "exception": false,
     "start_time": "2024-12-15T13:02:52.352470",
     "status": "completed"
    },
    "tags": []
   },
   "outputs": [],
   "source": [
    "df['cleaned_review'] = df['cleaned_review'].apply(remove_stopwords)"
   ]
  },
  {
   "cell_type": "code",
   "execution_count": 17,
   "id": "c0395cdf",
   "metadata": {
    "execution": {
     "iopub.execute_input": "2024-12-15T13:03:38.276025Z",
     "iopub.status.busy": "2024-12-15T13:03:38.275751Z",
     "iopub.status.idle": "2024-12-15T13:08:08.405160Z",
     "shell.execute_reply": "2024-12-15T13:08:08.404281Z"
    },
    "papermill": {
     "duration": 270.137783,
     "end_time": "2024-12-15T13:08:08.407372",
     "exception": false,
     "start_time": "2024-12-15T13:03:38.269589",
     "status": "completed"
    },
    "tags": []
   },
   "outputs": [],
   "source": [
    "df['cleaned_review'] = df['cleaned_review'].apply(stemming)"
   ]
  },
  {
   "cell_type": "code",
   "execution_count": 18,
   "id": "ce31ab96",
   "metadata": {
    "execution": {
     "iopub.execute_input": "2024-12-15T13:08:08.419718Z",
     "iopub.status.busy": "2024-12-15T13:08:08.419448Z",
     "iopub.status.idle": "2024-12-15T13:08:08.430686Z",
     "shell.execute_reply": "2024-12-15T13:08:08.429890Z"
    },
    "papermill": {
     "duration": 0.018987,
     "end_time": "2024-12-15T13:08:08.432223",
     "exception": false,
     "start_time": "2024-12-15T13:08:08.413236",
     "status": "completed"
    },
    "tags": []
   },
   "outputs": [
    {
     "data": {
      "text/html": [
       "<div>\n",
       "<style scoped>\n",
       "    .dataframe tbody tr th:only-of-type {\n",
       "        vertical-align: middle;\n",
       "    }\n",
       "\n",
       "    .dataframe tbody tr th {\n",
       "        vertical-align: top;\n",
       "    }\n",
       "\n",
       "    .dataframe thead th {\n",
       "        text-align: right;\n",
       "    }\n",
       "</style>\n",
       "<table border=\"1\" class=\"dataframe\">\n",
       "  <thead>\n",
       "    <tr style=\"text-align: right;\">\n",
       "      <th></th>\n",
       "      <th>polarity</th>\n",
       "      <th>title_review</th>\n",
       "      <th>text_review</th>\n",
       "      <th>full_review</th>\n",
       "      <th>cleaned_review</th>\n",
       "    </tr>\n",
       "  </thead>\n",
       "  <tbody>\n",
       "    <tr>\n",
       "      <th>0</th>\n",
       "      <td>1</td>\n",
       "      <td>Great CD</td>\n",
       "      <td>My lovely Pat has one of the GREAT voices of h...</td>\n",
       "      <td>Great CD My lovely Pat has one of the GREAT vo...</td>\n",
       "      <td>great cd lovely pat one great voices generatio...</td>\n",
       "    </tr>\n",
       "    <tr>\n",
       "      <th>1</th>\n",
       "      <td>1</td>\n",
       "      <td>One of the best game music soundtracks - for a...</td>\n",
       "      <td>Despite the fact that I have only played a sma...</td>\n",
       "      <td>One of the best game music soundtracks - for a...</td>\n",
       "      <td>one best game music soundtracks game didnt rea...</td>\n",
       "    </tr>\n",
       "    <tr>\n",
       "      <th>2</th>\n",
       "      <td>0</td>\n",
       "      <td>Batteries died within a year ...</td>\n",
       "      <td>I bought this charger in Jul 2003 and it worke...</td>\n",
       "      <td>Batteries died within a year ... I bought this...</td>\n",
       "      <td>batteries died within year bought charger jul ...</td>\n",
       "    </tr>\n",
       "    <tr>\n",
       "      <th>3</th>\n",
       "      <td>1</td>\n",
       "      <td>works fine, but Maha Energy is better</td>\n",
       "      <td>Check out Maha Energy's website. Their Powerex...</td>\n",
       "      <td>works fine, but Maha Energy is better Check ou...</td>\n",
       "      <td>works fine maha energy better check maha energ...</td>\n",
       "    </tr>\n",
       "    <tr>\n",
       "      <th>4</th>\n",
       "      <td>1</td>\n",
       "      <td>Great for the non-audiophile</td>\n",
       "      <td>Reviewed quite a bit of the combo players and ...</td>\n",
       "      <td>Great for the non-audiophile Reviewed quite a ...</td>\n",
       "      <td>great nonaudiophile reviewed quite bit combo p...</td>\n",
       "    </tr>\n",
       "  </tbody>\n",
       "</table>\n",
       "</div>"
      ],
      "text/plain": [
       "   polarity                                       title_review  \\\n",
       "0         1                                           Great CD   \n",
       "1         1  One of the best game music soundtracks - for a...   \n",
       "2         0                   Batteries died within a year ...   \n",
       "3         1              works fine, but Maha Energy is better   \n",
       "4         1                       Great for the non-audiophile   \n",
       "\n",
       "                                         text_review  \\\n",
       "0  My lovely Pat has one of the GREAT voices of h...   \n",
       "1  Despite the fact that I have only played a sma...   \n",
       "2  I bought this charger in Jul 2003 and it worke...   \n",
       "3  Check out Maha Energy's website. Their Powerex...   \n",
       "4  Reviewed quite a bit of the combo players and ...   \n",
       "\n",
       "                                         full_review  \\\n",
       "0  Great CD My lovely Pat has one of the GREAT vo...   \n",
       "1  One of the best game music soundtracks - for a...   \n",
       "2  Batteries died within a year ... I bought this...   \n",
       "3  works fine, but Maha Energy is better Check ou...   \n",
       "4  Great for the non-audiophile Reviewed quite a ...   \n",
       "\n",
       "                                      cleaned_review  \n",
       "0  great cd lovely pat one great voices generatio...  \n",
       "1  one best game music soundtracks game didnt rea...  \n",
       "2  batteries died within year bought charger jul ...  \n",
       "3  works fine maha energy better check maha energ...  \n",
       "4  great nonaudiophile reviewed quite bit combo p...  "
      ]
     },
     "execution_count": 18,
     "metadata": {},
     "output_type": "execute_result"
    }
   ],
   "source": [
    "df.head()"
   ]
  },
  {
   "cell_type": "code",
   "execution_count": 19,
   "id": "c106273a",
   "metadata": {
    "execution": {
     "iopub.execute_input": "2024-12-15T13:08:08.444529Z",
     "iopub.status.busy": "2024-12-15T13:08:08.443937Z",
     "iopub.status.idle": "2024-12-15T13:08:22.208463Z",
     "shell.execute_reply": "2024-12-15T13:08:22.207503Z"
    },
    "papermill": {
     "duration": 13.773008,
     "end_time": "2024-12-15T13:08:22.210710",
     "exception": false,
     "start_time": "2024-12-15T13:08:08.437702",
     "status": "completed"
    },
    "tags": []
   },
   "outputs": [],
   "source": [
    "voc_size = 10000\n",
    "token = Tokenizer(num_words=voc_size , oov_token='UNK')\n",
    "token.fit_on_texts(df['cleaned_review'])"
   ]
  },
  {
   "cell_type": "code",
   "execution_count": 20,
   "id": "d7eaa2d5",
   "metadata": {
    "execution": {
     "iopub.execute_input": "2024-12-15T13:08:22.223343Z",
     "iopub.status.busy": "2024-12-15T13:08:22.222851Z",
     "iopub.status.idle": "2024-12-15T13:08:22.297722Z",
     "shell.execute_reply": "2024-12-15T13:08:22.297016Z"
    },
    "papermill": {
     "duration": 0.083264,
     "end_time": "2024-12-15T13:08:22.299713",
     "exception": false,
     "start_time": "2024-12-15T13:08:22.216449",
     "status": "completed"
    },
    "tags": []
   },
   "outputs": [],
   "source": [
    "x = df['cleaned_review']\n",
    "y = df['polarity']\n",
    "\n",
    "x_train, x_test, y_train, y_test = train_test_split(x, y, test_size=0.2, random_state=42)"
   ]
  },
  {
   "cell_type": "code",
   "execution_count": 21,
   "id": "0a321387",
   "metadata": {
    "execution": {
     "iopub.execute_input": "2024-12-15T13:08:22.312325Z",
     "iopub.status.busy": "2024-12-15T13:08:22.311710Z",
     "iopub.status.idle": "2024-12-15T13:08:32.074732Z",
     "shell.execute_reply": "2024-12-15T13:08:32.073943Z"
    },
    "papermill": {
     "duration": 9.771279,
     "end_time": "2024-12-15T13:08:32.076706",
     "exception": false,
     "start_time": "2024-12-15T13:08:22.305427",
     "status": "completed"
    },
    "tags": []
   },
   "outputs": [],
   "source": [
    "# Convert texts to sequences\n",
    "x_train_seq = token.texts_to_sequences(x_train)\n",
    "x_test_seq = token.texts_to_sequences(x_test)"
   ]
  },
  {
   "cell_type": "code",
   "execution_count": 22,
   "id": "f689bff2",
   "metadata": {
    "execution": {
     "iopub.execute_input": "2024-12-15T13:08:32.089129Z",
     "iopub.status.busy": "2024-12-15T13:08:32.088837Z",
     "iopub.status.idle": "2024-12-15T13:08:33.462345Z",
     "shell.execute_reply": "2024-12-15T13:08:33.461381Z"
    },
    "papermill": {
     "duration": 1.381745,
     "end_time": "2024-12-15T13:08:33.464322",
     "exception": false,
     "start_time": "2024-12-15T13:08:32.082577",
     "status": "completed"
    },
    "tags": []
   },
   "outputs": [],
   "source": [
    "# Pad sequences to the same length\n",
    "x_train = pad_sequences(x_train_seq, maxlen=sent_length, padding='post', truncating='post')  \n",
    "x_test = pad_sequences(x_test_seq, maxlen=sent_length, padding='post', truncating='post')"
   ]
  },
  {
   "cell_type": "code",
   "execution_count": 23,
   "id": "6de5142e",
   "metadata": {
    "execution": {
     "iopub.execute_input": "2024-12-15T13:08:33.476690Z",
     "iopub.status.busy": "2024-12-15T13:08:33.476427Z",
     "iopub.status.idle": "2024-12-15T13:08:34.803188Z",
     "shell.execute_reply": "2024-12-15T13:08:34.802444Z"
    },
    "papermill": {
     "duration": 1.334843,
     "end_time": "2024-12-15T13:08:34.804868",
     "exception": false,
     "start_time": "2024-12-15T13:08:33.470025",
     "status": "completed"
    },
    "tags": []
   },
   "outputs": [
    {
     "name": "stderr",
     "output_type": "stream",
     "text": [
      "/opt/conda/lib/python3.10/site-packages/keras/src/layers/core/embedding.py:90: UserWarning: Argument `input_length` is deprecated. Just remove it.\n",
      "  warnings.warn(\n"
     ]
    },
    {
     "data": {
      "text/html": [
       "<pre style=\"white-space:pre;overflow-x:auto;line-height:normal;font-family:Menlo,'DejaVu Sans Mono',consolas,'Courier New',monospace\"><span style=\"font-weight: bold\">Model: \"sequential\"</span>\n",
       "</pre>\n"
      ],
      "text/plain": [
       "\u001b[1mModel: \"sequential\"\u001b[0m\n"
      ]
     },
     "metadata": {},
     "output_type": "display_data"
    },
    {
     "data": {
      "text/html": [
       "<pre style=\"white-space:pre;overflow-x:auto;line-height:normal;font-family:Menlo,'DejaVu Sans Mono',consolas,'Courier New',monospace\">┏━━━━━━━━━━━━━━━━━━━━━━━━━━━━━━━━━┳━━━━━━━━━━━━━━━━━━━━━━━━┳━━━━━━━━━━━━━━━┓\n",
       "┃<span style=\"font-weight: bold\"> Layer (type)                    </span>┃<span style=\"font-weight: bold\"> Output Shape           </span>┃<span style=\"font-weight: bold\">       Param # </span>┃\n",
       "┡━━━━━━━━━━━━━━━━━━━━━━━━━━━━━━━━━╇━━━━━━━━━━━━━━━━━━━━━━━━╇━━━━━━━━━━━━━━━┩\n",
       "│ embedding (<span style=\"color: #0087ff; text-decoration-color: #0087ff\">Embedding</span>)           │ (<span style=\"color: #00d7ff; text-decoration-color: #00d7ff\">None</span>, <span style=\"color: #00af00; text-decoration-color: #00af00\">228</span>, <span style=\"color: #00af00; text-decoration-color: #00af00\">100</span>)       │     <span style=\"color: #00af00; text-decoration-color: #00af00\">1,000,100</span> │\n",
       "├─────────────────────────────────┼────────────────────────┼───────────────┤\n",
       "│ lstm (<span style=\"color: #0087ff; text-decoration-color: #0087ff\">LSTM</span>)                     │ (<span style=\"color: #00d7ff; text-decoration-color: #00d7ff\">None</span>, <span style=\"color: #00af00; text-decoration-color: #00af00\">228</span>, <span style=\"color: #00af00; text-decoration-color: #00af00\">64</span>)        │        <span style=\"color: #00af00; text-decoration-color: #00af00\">42,240</span> │\n",
       "├─────────────────────────────────┼────────────────────────┼───────────────┤\n",
       "│ dropout (<span style=\"color: #0087ff; text-decoration-color: #0087ff\">Dropout</span>)               │ (<span style=\"color: #00d7ff; text-decoration-color: #00d7ff\">None</span>, <span style=\"color: #00af00; text-decoration-color: #00af00\">228</span>, <span style=\"color: #00af00; text-decoration-color: #00af00\">64</span>)        │             <span style=\"color: #00af00; text-decoration-color: #00af00\">0</span> │\n",
       "├─────────────────────────────────┼────────────────────────┼───────────────┤\n",
       "│ lstm_1 (<span style=\"color: #0087ff; text-decoration-color: #0087ff\">LSTM</span>)                   │ (<span style=\"color: #00d7ff; text-decoration-color: #00d7ff\">None</span>, <span style=\"color: #00af00; text-decoration-color: #00af00\">228</span>, <span style=\"color: #00af00; text-decoration-color: #00af00\">64</span>)        │        <span style=\"color: #00af00; text-decoration-color: #00af00\">33,024</span> │\n",
       "├─────────────────────────────────┼────────────────────────┼───────────────┤\n",
       "│ dropout_1 (<span style=\"color: #0087ff; text-decoration-color: #0087ff\">Dropout</span>)             │ (<span style=\"color: #00d7ff; text-decoration-color: #00d7ff\">None</span>, <span style=\"color: #00af00; text-decoration-color: #00af00\">228</span>, <span style=\"color: #00af00; text-decoration-color: #00af00\">64</span>)        │             <span style=\"color: #00af00; text-decoration-color: #00af00\">0</span> │\n",
       "├─────────────────────────────────┼────────────────────────┼───────────────┤\n",
       "│ lstm_2 (<span style=\"color: #0087ff; text-decoration-color: #0087ff\">LSTM</span>)                   │ (<span style=\"color: #00d7ff; text-decoration-color: #00d7ff\">None</span>, <span style=\"color: #00af00; text-decoration-color: #00af00\">64</span>)             │        <span style=\"color: #00af00; text-decoration-color: #00af00\">33,024</span> │\n",
       "├─────────────────────────────────┼────────────────────────┼───────────────┤\n",
       "│ dropout_2 (<span style=\"color: #0087ff; text-decoration-color: #0087ff\">Dropout</span>)             │ (<span style=\"color: #00d7ff; text-decoration-color: #00d7ff\">None</span>, <span style=\"color: #00af00; text-decoration-color: #00af00\">64</span>)             │             <span style=\"color: #00af00; text-decoration-color: #00af00\">0</span> │\n",
       "├─────────────────────────────────┼────────────────────────┼───────────────┤\n",
       "│ dense (<span style=\"color: #0087ff; text-decoration-color: #0087ff\">Dense</span>)                   │ (<span style=\"color: #00d7ff; text-decoration-color: #00d7ff\">None</span>, <span style=\"color: #00af00; text-decoration-color: #00af00\">32</span>)             │         <span style=\"color: #00af00; text-decoration-color: #00af00\">2,080</span> │\n",
       "├─────────────────────────────────┼────────────────────────┼───────────────┤\n",
       "│ batch_normalization             │ (<span style=\"color: #00d7ff; text-decoration-color: #00d7ff\">None</span>, <span style=\"color: #00af00; text-decoration-color: #00af00\">32</span>)             │           <span style=\"color: #00af00; text-decoration-color: #00af00\">128</span> │\n",
       "│ (<span style=\"color: #0087ff; text-decoration-color: #0087ff\">BatchNormalization</span>)            │                        │               │\n",
       "├─────────────────────────────────┼────────────────────────┼───────────────┤\n",
       "│ dropout_3 (<span style=\"color: #0087ff; text-decoration-color: #0087ff\">Dropout</span>)             │ (<span style=\"color: #00d7ff; text-decoration-color: #00d7ff\">None</span>, <span style=\"color: #00af00; text-decoration-color: #00af00\">32</span>)             │             <span style=\"color: #00af00; text-decoration-color: #00af00\">0</span> │\n",
       "├─────────────────────────────────┼────────────────────────┼───────────────┤\n",
       "│ dense_1 (<span style=\"color: #0087ff; text-decoration-color: #0087ff\">Dense</span>)                 │ (<span style=\"color: #00d7ff; text-decoration-color: #00d7ff\">None</span>, <span style=\"color: #00af00; text-decoration-color: #00af00\">1</span>)              │            <span style=\"color: #00af00; text-decoration-color: #00af00\">33</span> │\n",
       "└─────────────────────────────────┴────────────────────────┴───────────────┘\n",
       "</pre>\n"
      ],
      "text/plain": [
       "┏━━━━━━━━━━━━━━━━━━━━━━━━━━━━━━━━━┳━━━━━━━━━━━━━━━━━━━━━━━━┳━━━━━━━━━━━━━━━┓\n",
       "┃\u001b[1m \u001b[0m\u001b[1mLayer (type)                   \u001b[0m\u001b[1m \u001b[0m┃\u001b[1m \u001b[0m\u001b[1mOutput Shape          \u001b[0m\u001b[1m \u001b[0m┃\u001b[1m \u001b[0m\u001b[1m      Param #\u001b[0m\u001b[1m \u001b[0m┃\n",
       "┡━━━━━━━━━━━━━━━━━━━━━━━━━━━━━━━━━╇━━━━━━━━━━━━━━━━━━━━━━━━╇━━━━━━━━━━━━━━━┩\n",
       "│ embedding (\u001b[38;5;33mEmbedding\u001b[0m)           │ (\u001b[38;5;45mNone\u001b[0m, \u001b[38;5;34m228\u001b[0m, \u001b[38;5;34m100\u001b[0m)       │     \u001b[38;5;34m1,000,100\u001b[0m │\n",
       "├─────────────────────────────────┼────────────────────────┼───────────────┤\n",
       "│ lstm (\u001b[38;5;33mLSTM\u001b[0m)                     │ (\u001b[38;5;45mNone\u001b[0m, \u001b[38;5;34m228\u001b[0m, \u001b[38;5;34m64\u001b[0m)        │        \u001b[38;5;34m42,240\u001b[0m │\n",
       "├─────────────────────────────────┼────────────────────────┼───────────────┤\n",
       "│ dropout (\u001b[38;5;33mDropout\u001b[0m)               │ (\u001b[38;5;45mNone\u001b[0m, \u001b[38;5;34m228\u001b[0m, \u001b[38;5;34m64\u001b[0m)        │             \u001b[38;5;34m0\u001b[0m │\n",
       "├─────────────────────────────────┼────────────────────────┼───────────────┤\n",
       "│ lstm_1 (\u001b[38;5;33mLSTM\u001b[0m)                   │ (\u001b[38;5;45mNone\u001b[0m, \u001b[38;5;34m228\u001b[0m, \u001b[38;5;34m64\u001b[0m)        │        \u001b[38;5;34m33,024\u001b[0m │\n",
       "├─────────────────────────────────┼────────────────────────┼───────────────┤\n",
       "│ dropout_1 (\u001b[38;5;33mDropout\u001b[0m)             │ (\u001b[38;5;45mNone\u001b[0m, \u001b[38;5;34m228\u001b[0m, \u001b[38;5;34m64\u001b[0m)        │             \u001b[38;5;34m0\u001b[0m │\n",
       "├─────────────────────────────────┼────────────────────────┼───────────────┤\n",
       "│ lstm_2 (\u001b[38;5;33mLSTM\u001b[0m)                   │ (\u001b[38;5;45mNone\u001b[0m, \u001b[38;5;34m64\u001b[0m)             │        \u001b[38;5;34m33,024\u001b[0m │\n",
       "├─────────────────────────────────┼────────────────────────┼───────────────┤\n",
       "│ dropout_2 (\u001b[38;5;33mDropout\u001b[0m)             │ (\u001b[38;5;45mNone\u001b[0m, \u001b[38;5;34m64\u001b[0m)             │             \u001b[38;5;34m0\u001b[0m │\n",
       "├─────────────────────────────────┼────────────────────────┼───────────────┤\n",
       "│ dense (\u001b[38;5;33mDense\u001b[0m)                   │ (\u001b[38;5;45mNone\u001b[0m, \u001b[38;5;34m32\u001b[0m)             │         \u001b[38;5;34m2,080\u001b[0m │\n",
       "├─────────────────────────────────┼────────────────────────┼───────────────┤\n",
       "│ batch_normalization             │ (\u001b[38;5;45mNone\u001b[0m, \u001b[38;5;34m32\u001b[0m)             │           \u001b[38;5;34m128\u001b[0m │\n",
       "│ (\u001b[38;5;33mBatchNormalization\u001b[0m)            │                        │               │\n",
       "├─────────────────────────────────┼────────────────────────┼───────────────┤\n",
       "│ dropout_3 (\u001b[38;5;33mDropout\u001b[0m)             │ (\u001b[38;5;45mNone\u001b[0m, \u001b[38;5;34m32\u001b[0m)             │             \u001b[38;5;34m0\u001b[0m │\n",
       "├─────────────────────────────────┼────────────────────────┼───────────────┤\n",
       "│ dense_1 (\u001b[38;5;33mDense\u001b[0m)                 │ (\u001b[38;5;45mNone\u001b[0m, \u001b[38;5;34m1\u001b[0m)              │            \u001b[38;5;34m33\u001b[0m │\n",
       "└─────────────────────────────────┴────────────────────────┴───────────────┘\n"
      ]
     },
     "metadata": {},
     "output_type": "display_data"
    },
    {
     "data": {
      "text/html": [
       "<pre style=\"white-space:pre;overflow-x:auto;line-height:normal;font-family:Menlo,'DejaVu Sans Mono',consolas,'Courier New',monospace\"><span style=\"font-weight: bold\"> Total params: </span><span style=\"color: #00af00; text-decoration-color: #00af00\">1,110,629</span> (4.24 MB)\n",
       "</pre>\n"
      ],
      "text/plain": [
       "\u001b[1m Total params: \u001b[0m\u001b[38;5;34m1,110,629\u001b[0m (4.24 MB)\n"
      ]
     },
     "metadata": {},
     "output_type": "display_data"
    },
    {
     "data": {
      "text/html": [
       "<pre style=\"white-space:pre;overflow-x:auto;line-height:normal;font-family:Menlo,'DejaVu Sans Mono',consolas,'Courier New',monospace\"><span style=\"font-weight: bold\"> Trainable params: </span><span style=\"color: #00af00; text-decoration-color: #00af00\">1,110,565</span> (4.24 MB)\n",
       "</pre>\n"
      ],
      "text/plain": [
       "\u001b[1m Trainable params: \u001b[0m\u001b[38;5;34m1,110,565\u001b[0m (4.24 MB)\n"
      ]
     },
     "metadata": {},
     "output_type": "display_data"
    },
    {
     "data": {
      "text/html": [
       "<pre style=\"white-space:pre;overflow-x:auto;line-height:normal;font-family:Menlo,'DejaVu Sans Mono',consolas,'Courier New',monospace\"><span style=\"font-weight: bold\"> Non-trainable params: </span><span style=\"color: #00af00; text-decoration-color: #00af00\">64</span> (256.00 B)\n",
       "</pre>\n"
      ],
      "text/plain": [
       "\u001b[1m Non-trainable params: \u001b[0m\u001b[38;5;34m64\u001b[0m (256.00 B)\n"
      ]
     },
     "metadata": {},
     "output_type": "display_data"
    }
   ],
   "source": [
    "# LSTM Model\n",
    "\n",
    "embedding_dim = 100\n",
    "\n",
    "model = Sequential()\n",
    "model.add(Embedding(voc_size+1, embedding_dim, mask_zero=True, input_length=sent_length))\n",
    "\n",
    "model.add(LSTM(64, return_sequences=True, recurrent_dropout=0.2, dropout=0.2))\n",
    "model.add(Dropout(0.5))\n",
    "\n",
    "model.add(LSTM(64, return_sequences=True, recurrent_dropout=0.2, dropout=0.2))\n",
    "model.add(Dropout(0.5))\n",
    "\n",
    "model.add(LSTM(64, return_sequences=False, recurrent_dropout=0.2, dropout=0.2))\n",
    "model.add(Dropout(0.5))\n",
    "\n",
    "model.add(Dense(32, activation='relu'))\n",
    "model.add(BatchNormalization())\n",
    "model.add(Dropout(0.5))\n",
    "\n",
    "model.add(Dense(1, activation='sigmoid'))\n",
    "\n",
    "model.build(input_shape=(None, sent_length))\n",
    "\n",
    "model.compile(loss='binary_crossentropy', optimizer='adam', metrics=['accuracy'])\n",
    "\n",
    "model.summary()"
   ]
  },
  {
   "cell_type": "code",
   "execution_count": 24,
   "id": "d16f5c15",
   "metadata": {
    "execution": {
     "iopub.execute_input": "2024-12-15T13:08:34.819141Z",
     "iopub.status.busy": "2024-12-15T13:08:34.818556Z",
     "iopub.status.idle": "2024-12-15T13:08:34.822349Z",
     "shell.execute_reply": "2024-12-15T13:08:34.821575Z"
    },
    "papermill": {
     "duration": 0.012488,
     "end_time": "2024-12-15T13:08:34.823827",
     "exception": false,
     "start_time": "2024-12-15T13:08:34.811339",
     "status": "completed"
    },
    "tags": []
   },
   "outputs": [],
   "source": [
    "# Callbacks\n",
    "e_stopping = EarlyStopping(monitor='val_loss', patience=10, mode='max',restore_best_weights=True)\n",
    "callbacklist = [e_stopping]"
   ]
  },
  {
   "cell_type": "code",
   "execution_count": 25,
   "id": "0f38ee72",
   "metadata": {
    "execution": {
     "iopub.execute_input": "2024-12-15T13:08:34.837760Z",
     "iopub.status.busy": "2024-12-15T13:08:34.837541Z",
     "iopub.status.idle": "2024-12-15T23:35:24.518042Z",
     "shell.execute_reply": "2024-12-15T23:35:24.517112Z"
    },
    "papermill": {
     "duration": 37611.189441,
     "end_time": "2024-12-15T23:35:26.019702",
     "exception": false,
     "start_time": "2024-12-15T13:08:34.830261",
     "status": "completed"
    },
    "tags": []
   },
   "outputs": [
    {
     "name": "stdout",
     "output_type": "stream",
     "text": [
      "Epoch 1/30\n",
      "\u001b[1m1000/1000\u001b[0m \u001b[32m━━━━━━━━━━━━━━━━━━━━\u001b[0m\u001b[37m\u001b[0m \u001b[1m1252s\u001b[0m 1s/step - accuracy: 0.8081 - loss: 0.4166 - val_accuracy: 0.8825 - val_loss: 0.2907\n",
      "Epoch 2/30\n",
      "\u001b[1m1000/1000\u001b[0m \u001b[32m━━━━━━━━━━━━━━━━━━━━\u001b[0m\u001b[37m\u001b[0m \u001b[1m1240s\u001b[0m 1s/step - accuracy: 0.8912 - loss: 0.2749 - val_accuracy: 0.8958 - val_loss: 0.2579\n",
      "Epoch 3/30\n",
      "\u001b[1m1000/1000\u001b[0m \u001b[32m━━━━━━━━━━━━━━━━━━━━\u001b[0m\u001b[37m\u001b[0m \u001b[1m1242s\u001b[0m 1s/step - accuracy: 0.9035 - loss: 0.2466 - val_accuracy: 0.8998 - val_loss: 0.2521\n",
      "Epoch 4/30\n",
      "\u001b[1m1000/1000\u001b[0m \u001b[32m━━━━━━━━━━━━━━━━━━━━\u001b[0m\u001b[37m\u001b[0m \u001b[1m1237s\u001b[0m 1s/step - accuracy: 0.9129 - loss: 0.2269 - val_accuracy: 0.9010 - val_loss: 0.2479\n",
      "Epoch 5/30\n",
      "\u001b[1m1000/1000\u001b[0m \u001b[32m━━━━━━━━━━━━━━━━━━━━\u001b[0m\u001b[37m\u001b[0m \u001b[1m1235s\u001b[0m 1s/step - accuracy: 0.9191 - loss: 0.2115 - val_accuracy: 0.9017 - val_loss: 0.2472\n",
      "Epoch 6/30\n",
      "\u001b[1m1000/1000\u001b[0m \u001b[32m━━━━━━━━━━━━━━━━━━━━\u001b[0m\u001b[37m\u001b[0m \u001b[1m1234s\u001b[0m 1s/step - accuracy: 0.9250 - loss: 0.1972 - val_accuracy: 0.9008 - val_loss: 0.2494\n",
      "Epoch 7/30\n",
      "\u001b[1m1000/1000\u001b[0m \u001b[32m━━━━━━━━━━━━━━━━━━━━\u001b[0m\u001b[37m\u001b[0m \u001b[1m1239s\u001b[0m 1s/step - accuracy: 0.9309 - loss: 0.1842 - val_accuracy: 0.8994 - val_loss: 0.2630\n",
      "Epoch 8/30\n",
      "\u001b[1m1000/1000\u001b[0m \u001b[32m━━━━━━━━━━━━━━━━━━━━\u001b[0m\u001b[37m\u001b[0m \u001b[1m1244s\u001b[0m 1s/step - accuracy: 0.9356 - loss: 0.1738 - val_accuracy: 0.8988 - val_loss: 0.2750\n",
      "Epoch 9/30\n",
      "\u001b[1m1000/1000\u001b[0m \u001b[32m━━━━━━━━━━━━━━━━━━━━\u001b[0m\u001b[37m\u001b[0m \u001b[1m1240s\u001b[0m 1s/step - accuracy: 0.9402 - loss: 0.1634 - val_accuracy: 0.8980 - val_loss: 0.2820\n",
      "Epoch 10/30\n",
      "\u001b[1m1000/1000\u001b[0m \u001b[32m━━━━━━━━━━━━━━━━━━━━\u001b[0m\u001b[37m\u001b[0m \u001b[1m1252s\u001b[0m 1s/step - accuracy: 0.9441 - loss: 0.1529 - val_accuracy: 0.8953 - val_loss: 0.2803\n",
      "Epoch 11/30\n",
      "\u001b[1m1000/1000\u001b[0m \u001b[32m━━━━━━━━━━━━━━━━━━━━\u001b[0m\u001b[37m\u001b[0m \u001b[1m1265s\u001b[0m 1s/step - accuracy: 0.9483 - loss: 0.1432 - val_accuracy: 0.8955 - val_loss: 0.3011\n",
      "Epoch 12/30\n",
      "\u001b[1m1000/1000\u001b[0m \u001b[32m━━━━━━━━━━━━━━━━━━━━\u001b[0m\u001b[37m\u001b[0m \u001b[1m1266s\u001b[0m 1s/step - accuracy: 0.9522 - loss: 0.1340 - val_accuracy: 0.8958 - val_loss: 0.3169\n",
      "Epoch 13/30\n",
      "\u001b[1m1000/1000\u001b[0m \u001b[32m━━━━━━━━━━━━━━━━━━━━\u001b[0m\u001b[37m\u001b[0m \u001b[1m1266s\u001b[0m 1s/step - accuracy: 0.9550 - loss: 0.1274 - val_accuracy: 0.8946 - val_loss: 0.3182\n",
      "Epoch 14/30\n",
      "\u001b[1m1000/1000\u001b[0m \u001b[32m━━━━━━━━━━━━━━━━━━━━\u001b[0m\u001b[37m\u001b[0m \u001b[1m1267s\u001b[0m 1s/step - accuracy: 0.9575 - loss: 0.1203 - val_accuracy: 0.8923 - val_loss: 0.3274\n",
      "Epoch 15/30\n",
      "\u001b[1m1000/1000\u001b[0m \u001b[32m━━━━━━━━━━━━━━━━━━━━\u001b[0m\u001b[37m\u001b[0m \u001b[1m1268s\u001b[0m 1s/step - accuracy: 0.9602 - loss: 0.1135 - val_accuracy: 0.8930 - val_loss: 0.3243\n",
      "Epoch 16/30\n",
      "\u001b[1m1000/1000\u001b[0m \u001b[32m━━━━━━━━━━━━━━━━━━━━\u001b[0m\u001b[37m\u001b[0m \u001b[1m1267s\u001b[0m 1s/step - accuracy: 0.9614 - loss: 0.1093 - val_accuracy: 0.8878 - val_loss: 0.3568\n",
      "Epoch 17/30\n",
      "\u001b[1m1000/1000\u001b[0m \u001b[32m━━━━━━━━━━━━━━━━━━━━\u001b[0m\u001b[37m\u001b[0m \u001b[1m1268s\u001b[0m 1s/step - accuracy: 0.9641 - loss: 0.1057 - val_accuracy: 0.8898 - val_loss: 0.3662\n",
      "Epoch 18/30\n",
      "\u001b[1m1000/1000\u001b[0m \u001b[32m━━━━━━━━━━━━━━━━━━━━\u001b[0m\u001b[37m\u001b[0m \u001b[1m1276s\u001b[0m 1s/step - accuracy: 0.9658 - loss: 0.0988 - val_accuracy: 0.8889 - val_loss: 0.3804\n",
      "Epoch 19/30\n",
      "\u001b[1m1000/1000\u001b[0m \u001b[32m━━━━━━━━━━━━━━━━━━━━\u001b[0m\u001b[37m\u001b[0m \u001b[1m1270s\u001b[0m 1s/step - accuracy: 0.9672 - loss: 0.0950 - val_accuracy: 0.8890 - val_loss: 0.3981\n",
      "Epoch 20/30\n",
      "\u001b[1m1000/1000\u001b[0m \u001b[32m━━━━━━━━━━━━━━━━━━━━\u001b[0m\u001b[37m\u001b[0m \u001b[1m1269s\u001b[0m 1s/step - accuracy: 0.9691 - loss: 0.0903 - val_accuracy: 0.8874 - val_loss: 0.3900\n",
      "Epoch 21/30\n",
      "\u001b[1m1000/1000\u001b[0m \u001b[32m━━━━━━━━━━━━━━━━━━━━\u001b[0m\u001b[37m\u001b[0m \u001b[1m1272s\u001b[0m 1s/step - accuracy: 0.9700 - loss: 0.0883 - val_accuracy: 0.8891 - val_loss: 0.4076\n",
      "Epoch 22/30\n",
      "\u001b[1m1000/1000\u001b[0m \u001b[32m━━━━━━━━━━━━━━━━━━━━\u001b[0m\u001b[37m\u001b[0m \u001b[1m1269s\u001b[0m 1s/step - accuracy: 0.9722 - loss: 0.0828 - val_accuracy: 0.8874 - val_loss: 0.4142\n",
      "Epoch 23/30\n",
      "\u001b[1m1000/1000\u001b[0m \u001b[32m━━━━━━━━━━━━━━━━━━━━\u001b[0m\u001b[37m\u001b[0m \u001b[1m1245s\u001b[0m 1s/step - accuracy: 0.9730 - loss: 0.0800 - val_accuracy: 0.8874 - val_loss: 0.4185\n",
      "Epoch 24/30\n",
      "\u001b[1m1000/1000\u001b[0m \u001b[32m━━━━━━━━━━━━━━━━━━━━\u001b[0m\u001b[37m\u001b[0m \u001b[1m1238s\u001b[0m 1s/step - accuracy: 0.9741 - loss: 0.0767 - val_accuracy: 0.8853 - val_loss: 0.4322\n",
      "Epoch 25/30\n",
      "\u001b[1m1000/1000\u001b[0m \u001b[32m━━━━━━━━━━━━━━━━━━━━\u001b[0m\u001b[37m\u001b[0m \u001b[1m1240s\u001b[0m 1s/step - accuracy: 0.9748 - loss: 0.0747 - val_accuracy: 0.8854 - val_loss: 0.4515\n",
      "Epoch 26/30\n",
      "\u001b[1m1000/1000\u001b[0m \u001b[32m━━━━━━━━━━━━━━━━━━━━\u001b[0m\u001b[37m\u001b[0m \u001b[1m1246s\u001b[0m 1s/step - accuracy: 0.9760 - loss: 0.0708 - val_accuracy: 0.8869 - val_loss: 0.4487\n",
      "Epoch 27/30\n",
      "\u001b[1m1000/1000\u001b[0m \u001b[32m━━━━━━━━━━━━━━━━━━━━\u001b[0m\u001b[37m\u001b[0m \u001b[1m1247s\u001b[0m 1s/step - accuracy: 0.9770 - loss: 0.0701 - val_accuracy: 0.8854 - val_loss: 0.4367\n",
      "Epoch 28/30\n",
      "\u001b[1m1000/1000\u001b[0m \u001b[32m━━━━━━━━━━━━━━━━━━━━\u001b[0m\u001b[37m\u001b[0m \u001b[1m1248s\u001b[0m 1s/step - accuracy: 0.9779 - loss: 0.0656 - val_accuracy: 0.8838 - val_loss: 0.4506\n",
      "Epoch 29/30\n",
      "\u001b[1m1000/1000\u001b[0m \u001b[32m━━━━━━━━━━━━━━━━━━━━\u001b[0m\u001b[37m\u001b[0m \u001b[1m1251s\u001b[0m 1s/step - accuracy: 0.9791 - loss: 0.0640 - val_accuracy: 0.8844 - val_loss: 0.4783\n",
      "Epoch 30/30\n",
      "\u001b[1m1000/1000\u001b[0m \u001b[32m━━━━━━━━━━━━━━━━━━━━\u001b[0m\u001b[37m\u001b[0m \u001b[1m1257s\u001b[0m 1s/step - accuracy: 0.9794 - loss: 0.0628 - val_accuracy: 0.8844 - val_loss: 0.4885\n"
     ]
    }
   ],
   "source": [
    "# Training\n",
    "hist = model.fit(x_train, y_train, batch_size=256, epochs=30, validation_split=0.2, callbacks=callbacklist)"
   ]
  },
  {
   "cell_type": "code",
   "execution_count": 26,
   "id": "18265a53",
   "metadata": {
    "execution": {
     "iopub.execute_input": "2024-12-15T23:35:28.968026Z",
     "iopub.status.busy": "2024-12-15T23:35:28.967677Z",
     "iopub.status.idle": "2024-12-15T23:35:28.973374Z",
     "shell.execute_reply": "2024-12-15T23:35:28.972435Z"
    },
    "papermill": {
     "duration": 1.476376,
     "end_time": "2024-12-15T23:35:28.974921",
     "exception": false,
     "start_time": "2024-12-15T23:35:27.498545",
     "status": "completed"
    },
    "tags": []
   },
   "outputs": [],
   "source": [
    "sns.set()\n",
    "acc=hist.history['accuracy']\n",
    "val_acc=hist.history['val_accuracy']\n",
    "loss=hist.history['loss']\n",
    "val_loss=hist.history['val_loss']\n",
    "epochss=range(1,len(loss)+1)"
   ]
  },
  {
   "cell_type": "code",
   "execution_count": 27,
   "id": "0be8eb47",
   "metadata": {
    "execution": {
     "iopub.execute_input": "2024-12-15T23:35:31.973167Z",
     "iopub.status.busy": "2024-12-15T23:35:31.972814Z",
     "iopub.status.idle": "2024-12-15T23:35:32.261558Z",
     "shell.execute_reply": "2024-12-15T23:35:32.260761Z"
    },
    "papermill": {
     "duration": 1.820154,
     "end_time": "2024-12-15T23:35:32.263396",
     "exception": false,
     "start_time": "2024-12-15T23:35:30.443242",
     "status": "completed"
    },
    "tags": []
   },
   "outputs": [
    {
     "data": {
      "image/png": "[encoded data removed]",
      "text/plain": [
       "<Figure size 640x480 with 1 Axes>"
      ]
     },
     "metadata": {},
     "output_type": "display_data"
    }
   ],
   "source": [
    "plt.plot(epochss,acc,color='green',label='train_accuracy')\n",
    "plt.plot(epochss,val_acc,color='blue',label='valid_accuracy')\n",
    "plt.title('train & valid accuracy')\n",
    "plt.xlabel('Epoch')\n",
    "plt.ylabel('Accuracy')\n",
    "plt.legend()\n",
    "plt.ylim(0,1.02)\n",
    "plt.show()"
   ]
  },
  {
   "cell_type": "code",
   "execution_count": 28,
   "id": "8d43becb",
   "metadata": {
    "execution": {
     "iopub.execute_input": "2024-12-15T23:35:35.203184Z",
     "iopub.status.busy": "2024-12-15T23:35:35.202794Z",
     "iopub.status.idle": "2024-12-15T23:35:35.518957Z",
     "shell.execute_reply": "2024-12-15T23:35:35.518012Z"
    },
    "papermill": {
     "duration": 1.787386,
     "end_time": "2024-12-15T23:35:35.521088",
     "exception": false,
     "start_time": "2024-12-15T23:35:33.733702",
     "status": "completed"
    },
    "tags": []
   },
   "outputs": [
    {
     "data": {
      "image/png": "[encoded data removed]",
      "text/plain": [
       "<Figure size 640x480 with 1 Axes>"
      ]
     },
     "metadata": {},
     "output_type": "display_data"
    }
   ],
   "source": [
    "plt.figure()\n",
    "plt.plot(epochss,loss,color='green',label='train_loss')\n",
    "plt.plot(epochss,val_loss,color='blue',label='valid_loss')\n",
    "plt.title('train & valid loss')\n",
    "plt.xlabel('Epoch')\n",
    "plt.ylabel('Loss')\n",
    "plt.legend()\n",
    "plt.ylim(0,1.02)\n",
    "plt.show()"
   ]
  },
  {
   "cell_type": "code",
   "execution_count": 29,
   "id": "2672db1c",
   "metadata": {
    "execution": {
     "iopub.execute_input": "2024-12-15T23:35:38.470519Z",
     "iopub.status.busy": "2024-12-15T23:35:38.470187Z",
     "iopub.status.idle": "2024-12-16T00:09:21.460674Z",
     "shell.execute_reply": "2024-12-16T00:09:21.459952Z"
    },
    "papermill": {
     "duration": 2024.448714,
     "end_time": "2024-12-16T00:09:21.462355",
     "exception": false,
     "start_time": "2024-12-15T23:35:37.013641",
     "status": "completed"
    },
    "tags": []
   },
   "outputs": [
    {
     "name": "stdout",
     "output_type": "stream",
     "text": [
      "\u001b[1m10000/10000\u001b[0m \u001b[32m━━━━━━━━━━━━━━━━━━━━\u001b[0m\u001b[37m\u001b[0m \u001b[1m2023s\u001b[0m 202ms/step - accuracy: 0.9902 - loss: 0.0372\n"
     ]
    },
    {
     "data": {
      "text/plain": [
       "[0.11948388069868088, 0.9709857106208801]"
      ]
     },
     "execution_count": 29,
     "metadata": {},
     "output_type": "execute_result"
    }
   ],
   "source": [
    "model.evaluate(x_train,y_train)"
   ]
  },
  {
   "cell_type": "code",
   "execution_count": 30,
   "id": "457974d2",
   "metadata": {
    "execution": {
     "iopub.execute_input": "2024-12-16T00:09:25.471967Z",
     "iopub.status.busy": "2024-12-16T00:09:25.471633Z",
     "iopub.status.idle": "2024-12-16T00:17:47.822676Z",
     "shell.execute_reply": "2024-12-16T00:17:47.821766Z"
    },
    "papermill": {
     "duration": 505.278769,
     "end_time": "2024-12-16T00:17:48.792191",
     "exception": false,
     "start_time": "2024-12-16T00:09:23.513422",
     "status": "completed"
    },
    "tags": []
   },
   "outputs": [
    {
     "name": "stdout",
     "output_type": "stream",
     "text": [
      "\u001b[1m2500/2500\u001b[0m \u001b[32m━━━━━━━━━━━━━━━━━━━━\u001b[0m\u001b[37m\u001b[0m \u001b[1m502s\u001b[0m 201ms/step - accuracy: 0.8866 - loss: 0.4778\n"
     ]
    },
    {
     "data": {
      "text/plain": [
       "[0.4892386198043823, 0.8853817582130432]"
      ]
     },
     "execution_count": 30,
     "metadata": {},
     "output_type": "execute_result"
    }
   ],
   "source": [
    "model.evaluate(x_test,y_test)"
   ]
  },
  {
   "cell_type": "code",
   "execution_count": 31,
   "id": "5dd80258",
   "metadata": {
    "execution": {
     "iopub.execute_input": "2024-12-16T00:17:53.077323Z",
     "iopub.status.busy": "2024-12-16T00:17:53.076964Z",
     "iopub.status.idle": "2024-12-16T00:26:14.742953Z",
     "shell.execute_reply": "2024-12-16T00:26:14.742219Z"
    },
    "papermill": {
     "duration": 503.861507,
     "end_time": "2024-12-16T00:26:14.745090",
     "exception": false,
     "start_time": "2024-12-16T00:17:50.883583",
     "status": "completed"
    },
    "tags": []
   },
   "outputs": [
    {
     "name": "stdout",
     "output_type": "stream",
     "text": [
      "\u001b[1m2500/2500\u001b[0m \u001b[32m━━━━━━━━━━━━━━━━━━━━\u001b[0m\u001b[37m\u001b[0m \u001b[1m500s\u001b[0m 200ms/step\n"
     ]
    }
   ],
   "source": [
    "y_pred = model.predict(x_test)"
   ]
  },
  {
   "cell_type": "code",
   "execution_count": 32,
   "id": "724e68d6",
   "metadata": {
    "execution": {
     "iopub.execute_input": "2024-12-16T00:26:19.227166Z",
     "iopub.status.busy": "2024-12-16T00:26:19.226327Z",
     "iopub.status.idle": "2024-12-16T00:26:19.230893Z",
     "shell.execute_reply": "2024-12-16T00:26:19.230096Z"
    },
    "papermill": {
     "duration": 2.215125,
     "end_time": "2024-12-16T00:26:19.232587",
     "exception": false,
     "start_time": "2024-12-16T00:26:17.017462",
     "status": "completed"
    },
    "tags": []
   },
   "outputs": [],
   "source": [
    "y_pred = (y_pred > 0.5).astype(int)"
   ]
  },
  {
   "cell_type": "code",
   "execution_count": 33,
   "id": "5fa22b91",
   "metadata": {
    "execution": {
     "iopub.execute_input": "2024-12-16T00:26:23.820415Z",
     "iopub.status.busy": "2024-12-16T00:26:23.819826Z",
     "iopub.status.idle": "2024-12-16T00:26:24.129940Z",
     "shell.execute_reply": "2024-12-16T00:26:24.129094Z"
    },
    "papermill": {
     "duration": 2.628437,
     "end_time": "2024-12-16T00:26:24.131566",
     "exception": false,
     "start_time": "2024-12-16T00:26:21.503129",
     "status": "completed"
    },
    "tags": []
   },
   "outputs": [
    {
     "name": "stdout",
     "output_type": "stream",
     "text": [
      "              precision    recall  f1-score   support\n",
      "\n",
      "           0       0.89      0.88      0.88     40010\n",
      "           1       0.88      0.89      0.89     39986\n",
      "\n",
      "    accuracy                           0.89     79996\n",
      "   macro avg       0.89      0.89      0.89     79996\n",
      "weighted avg       0.89      0.89      0.89     79996\n",
      "\n"
     ]
    },
    {
     "data": {
      "text/plain": [
       "<Axes: >"
      ]
     },
     "execution_count": 33,
     "metadata": {},
     "output_type": "execute_result"
    },
    {
     "data": {
      "image/png": "[encoded data removed]",
      "text/plain": [
       "<Figure size 640x480 with 2 Axes>"
      ]
     },
     "metadata": {},
     "output_type": "display_data"
    }
   ],
   "source": [
    "print(classification_report(y_test,y_pred))\n",
    "sns.heatmap(confusion_matrix(y_test,y_pred),annot=True,fmt='d',cmap='Blues')"
   ]
  }
 ],
 "metadata": {
  "kaggle": {
   "accelerator": "gpu",
   "dataSources": [
    {
     "datasetId": 1340369,
     "sourceId": 2233682,
     "sourceType": "datasetVersion"
    }
   ],
   "dockerImageVersionId": 30805,
   "isGpuEnabled": true,
   "isInternetEnabled": true,
   "language": "python",
   "sourceType": "notebook"
  },
  "kernelspec": {
   "display_name": "Python 3",
   "language": "python",
   "name": "python3"
  },
  "language_info": {
   "codemirror_mode": {
    "name": "ipython",
    "version": 3
   },
   "file_extension": ".py",
   "mimetype": "text/x-python",
   "name": "python",
   "nbconvert_exporter": "python",
   "pygments_lexer": "ipython3",
   "version": "3.10.14"
  },
  "papermill": {
   "default_parameters": {},
   "duration": 41288.993968,
   "end_time": "2024-12-16T00:26:29.232929",
   "environment_variables": {},
   "exception": null,
   "input_path": "__notebook__.ipynb",
   "output_path": "__notebook__.ipynb",
   "parameters": {},
   "start_time": "2024-12-15T12:58:20.238961",
   "version": "2.6.0"
  }
 },
 "nbformat": 4,
 "nbformat_minor": 5
}
