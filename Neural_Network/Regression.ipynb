{
  "cells": [
    {
      "cell_type": "markdown",
      "metadata": {
        "id": "NdoGNlZTTYUa"
      },
      "source": [
        "# **Califirnia Housing Price**"
      ]
    },
    {
      "cell_type": "code",
      "execution_count": null,
      "metadata": {
        "id": "NwM7kGQ5mejS"
      },
      "outputs": [],
      "source": [
        "# Building a Regression MLP Using the Sequential API\n",
        "import tensorflow as tf\n",
        "from tensorflow import keras\n",
        "import numpy as np\n",
        "import pandas as pd\n",
        "import matplotlib.pyplot as plt\n",
        "import seaborn as sns\n",
        "\n",
        "from sklearn.datasets import fetch_california_housing\n",
        "from sklearn.model_selection import train_test_split\n",
        "from sklearn.preprocessing import StandardScaler\n",
        "from sklearn import metrics"
      ]
    },
    {
      "cell_type": "code",
      "execution_count": null,
      "metadata": {
        "id": "Tfe0Pi-bYhQA",
        "outputId": "29c55243-bb46-4dff-d008-f523bebedab4"
      },
      "outputs": [
        {
          "name": "stdout",
          "output_type": "stream",
          "text": [
            "Examples =  (20640, 8)  Labels =  (20640,)\n"
          ]
        }
      ],
      "source": [
        "# The House Prices Dataset\n",
        "housing = fetch_california_housing()\n",
        "print(\"Examples = \",housing.data.shape ,\" Labels = \", housing.target.shape)\n"
      ]
    },
    {
      "cell_type": "code",
      "execution_count": null,
      "metadata": {
        "id": "LVsa4PL9YhQC",
        "outputId": "695e522f-cc21-40af-f5de-c08e1ed12f13"
      },
      "outputs": [
        {
          "name": "stdout",
          "output_type": "stream",
          "text": [
            "Example 0 :  [   8.3252       41.            6.98412698    1.02380952  322.\n",
            "    2.55555556   37.88       -122.23      ]\n",
            "\n",
            "Label 0 :  4.526\n"
          ]
        }
      ],
      "source": [
        "X = housing.data\n",
        "Y = housing.target\n",
        "\n",
        "print(\"Example 0 : \",housing.data[0])\n",
        "print(\"\\nLabel 0 : \",housing.target[0])\n"
      ]
    },
    {
      "cell_type": "code",
      "execution_count": null,
      "metadata": {
        "id": "IJ5odjIIYhQD",
        "outputId": "0b856b21-2389-476b-eaab-dd6de9b95931"
      },
      "outputs": [
        {
          "data": {
            "text/plain": [
              "4.526"
            ]
          },
          "execution_count": 4,
          "metadata": {},
          "output_type": "execute_result"
        }
      ],
      "source": [
        "Y[0]"
      ]
    },
    {
      "cell_type": "code",
      "execution_count": null,
      "metadata": {
        "id": "kjCDViDaYhQE",
        "outputId": "a699c61c-064b-442a-c0ea-3802b8f70c24"
      },
      "outputs": [
        {
          "name": "stdout",
          "output_type": "stream",
          "text": [
            "<class 'pandas.core.frame.DataFrame'>\n",
            "RangeIndex: 20640 entries, 0 to 20639\n",
            "Data columns (total 9 columns):\n",
            " #   Column      Non-Null Count  Dtype  \n",
            "---  ------      --------------  -----  \n",
            " 0   MedInc      20640 non-null  float64\n",
            " 1   HouseAge    20640 non-null  float64\n",
            " 2   AveRooms    20640 non-null  float64\n",
            " 3   AveBedrms   20640 non-null  float64\n",
            " 4   Population  20640 non-null  float64\n",
            " 5   AveOccup    20640 non-null  float64\n",
            " 6   Latitude    20640 non-null  float64\n",
            " 7   Longitude   20640 non-null  float64\n",
            " 8   price       20640 non-null  float64\n",
            "dtypes: float64(9)\n",
            "memory usage: 1.4 MB\n",
            "Info : \n",
            " None\n"
          ]
        }
      ],
      "source": [
        "# Dataset to DataFrame\n",
        "df = pd.DataFrame(housing.data, columns=housing.feature_names)\n",
        "df[\"price\"] = pd.Series(housing.target)\n",
        "print(\"Info : \\n\",df.info())"
      ]
    },
    {
      "cell_type": "code",
      "execution_count": null,
      "metadata": {
        "id": "NdV86Q0rYhQF",
        "outputId": "3634076b-64ff-4e8f-a6f0-5a760d5447aa"
      },
      "outputs": [
        {
          "data": {
            "text/html": [
              "<div>\n",
              "<style scoped>\n",
              "    .dataframe tbody tr th:only-of-type {\n",
              "        vertical-align: middle;\n",
              "    }\n",
              "\n",
              "    .dataframe tbody tr th {\n",
              "        vertical-align: top;\n",
              "    }\n",
              "\n",
              "    .dataframe thead th {\n",
              "        text-align: right;\n",
              "    }\n",
              "</style>\n",
              "<table border=\"1\" class=\"dataframe\">\n",
              "  <thead>\n",
              "    <tr style=\"text-align: right;\">\n",
              "      <th></th>\n",
              "      <th>MedInc</th>\n",
              "      <th>HouseAge</th>\n",
              "      <th>AveRooms</th>\n",
              "      <th>AveBedrms</th>\n",
              "      <th>Population</th>\n",
              "      <th>AveOccup</th>\n",
              "      <th>Latitude</th>\n",
              "      <th>Longitude</th>\n",
              "      <th>price</th>\n",
              "    </tr>\n",
              "  </thead>\n",
              "  <tbody>\n",
              "    <tr>\n",
              "      <th>0</th>\n",
              "      <td>8.3252</td>\n",
              "      <td>41.0</td>\n",
              "      <td>6.984127</td>\n",
              "      <td>1.023810</td>\n",
              "      <td>322.0</td>\n",
              "      <td>2.555556</td>\n",
              "      <td>37.88</td>\n",
              "      <td>-122.23</td>\n",
              "      <td>4.526</td>\n",
              "    </tr>\n",
              "    <tr>\n",
              "      <th>1</th>\n",
              "      <td>8.3014</td>\n",
              "      <td>21.0</td>\n",
              "      <td>6.238137</td>\n",
              "      <td>0.971880</td>\n",
              "      <td>2401.0</td>\n",
              "      <td>2.109842</td>\n",
              "      <td>37.86</td>\n",
              "      <td>-122.22</td>\n",
              "      <td>3.585</td>\n",
              "    </tr>\n",
              "    <tr>\n",
              "      <th>2</th>\n",
              "      <td>7.2574</td>\n",
              "      <td>52.0</td>\n",
              "      <td>8.288136</td>\n",
              "      <td>1.073446</td>\n",
              "      <td>496.0</td>\n",
              "      <td>2.802260</td>\n",
              "      <td>37.85</td>\n",
              "      <td>-122.24</td>\n",
              "      <td>3.521</td>\n",
              "    </tr>\n",
              "    <tr>\n",
              "      <th>3</th>\n",
              "      <td>5.6431</td>\n",
              "      <td>52.0</td>\n",
              "      <td>5.817352</td>\n",
              "      <td>1.073059</td>\n",
              "      <td>558.0</td>\n",
              "      <td>2.547945</td>\n",
              "      <td>37.85</td>\n",
              "      <td>-122.25</td>\n",
              "      <td>3.413</td>\n",
              "    </tr>\n",
              "    <tr>\n",
              "      <th>4</th>\n",
              "      <td>3.8462</td>\n",
              "      <td>52.0</td>\n",
              "      <td>6.281853</td>\n",
              "      <td>1.081081</td>\n",
              "      <td>565.0</td>\n",
              "      <td>2.181467</td>\n",
              "      <td>37.85</td>\n",
              "      <td>-122.25</td>\n",
              "      <td>3.422</td>\n",
              "    </tr>\n",
              "  </tbody>\n",
              "</table>\n",
              "</div>"
            ],
            "text/plain": [
              "   MedInc  HouseAge  AveRooms  AveBedrms  Population  AveOccup  Latitude  \\\n",
              "0  8.3252      41.0  6.984127   1.023810       322.0  2.555556     37.88   \n",
              "1  8.3014      21.0  6.238137   0.971880      2401.0  2.109842     37.86   \n",
              "2  7.2574      52.0  8.288136   1.073446       496.0  2.802260     37.85   \n",
              "3  5.6431      52.0  5.817352   1.073059       558.0  2.547945     37.85   \n",
              "4  3.8462      52.0  6.281853   1.081081       565.0  2.181467     37.85   \n",
              "\n",
              "   Longitude  price  \n",
              "0    -122.23  4.526  \n",
              "1    -122.22  3.585  \n",
              "2    -122.24  3.521  \n",
              "3    -122.25  3.413  \n",
              "4    -122.25  3.422  "
            ]
          },
          "execution_count": 6,
          "metadata": {},
          "output_type": "execute_result"
        }
      ],
      "source": [
        "df.head()"
      ]
    },
    {
      "cell_type": "code",
      "execution_count": null,
      "metadata": {
        "colab": {
          "base_uri": "https://localhost:8080/"
        },
        "id": "RdJs8fR5nWJw",
        "outputId": "7768d907-259b-425e-be21-1c78864284e2"
      },
      "outputs": [
        {
          "name": "stdout",
          "output_type": "stream",
          "text": [
            "number of duplicate rows :  (0, 9)\n"
          ]
        }
      ],
      "source": [
        "# Dropping the duplicate rows\n",
        "duplicate_rows = df[df.duplicated()]\n",
        "print(\"number of duplicate rows : \",duplicate_rows.shape)\n",
        "\n",
        "# df.drop_duplicates(inplace=True)"
      ]
    },
    {
      "cell_type": "code",
      "execution_count": null,
      "metadata": {
        "colab": {
          "base_uri": "https://localhost:8080/",
          "height": 520
        },
        "id": "qAyz6h1WncKL",
        "outputId": "d6bba251-f6c2-4322-d9c6-4f8c905db6ac"
      },
      "outputs": [
        {
          "name": "stdout",
          "output_type": "stream",
          "text": [
            "SUM : \n",
            " MedInc        0\n",
            "HouseAge      0\n",
            "AveRooms      0\n",
            "AveBedrms     0\n",
            "Population    0\n",
            "AveOccup      0\n",
            "Latitude      0\n",
            "Longitude     0\n",
            "price         0\n",
            "dtype: int64\n"
          ]
        },
        {
          "data": {
            "text/plain": [
              "<Axes: >"
            ]
          },
          "execution_count": 8,
          "metadata": {},
          "output_type": "execute_result"
        },
        {
          "data": {
            "image/png": "[encoded data removed]",
            "text/plain": [
              "<Figure size 640x480 with 1 Axes>"
            ]
          },
          "metadata": {},
          "output_type": "display_data"
        }
      ],
      "source": [
        "# To check missing values\n",
        "print(\"SUM : \\n\",df.isnull().sum())\n",
        "sns.heatmap(df.isnull(), cbar=False, yticklabels=False, cmap=\"viridis\")\n"
      ]
    },
    {
      "cell_type": "code",
      "execution_count": null,
      "metadata": {
        "id": "6gayFMz0YhQH",
        "outputId": "eff6ebc5-6ffe-4cd6-a056-2b65d163c2bc"
      },
      "outputs": [
        {
          "name": "stdout",
          "output_type": "stream",
          "text": [
            "X_data :  (20640, 8)  y_data :  (20640,)\n"
          ]
        }
      ],
      "source": [
        "X_data = df.drop([\"price\"], axis=1).values\n",
        "y_data = df[\"price\"].values\n",
        "print(\"X_data : \",X_data.shape,\" y_data : \",y_data.shape)"
      ]
    },
    {
      "cell_type": "code",
      "execution_count": null,
      "metadata": {
        "id": "1QK-_Y77YhQI"
      },
      "outputs": [],
      "source": [
        "# Standardization\n",
        "from sklearn.preprocessing import StandardScaler\n",
        "scaler = StandardScaler()\n",
        "scaler.fit(X_data)\n",
        "X_sts = scaler.transform(X_data)"
      ]
    },
    {
      "cell_type": "code",
      "execution_count": null,
      "metadata": {
        "colab": {
          "base_uri": "https://localhost:8080/"
        },
        "id": "U8q7Bu5MrpC0",
        "outputId": "bc47cf65-dc49-43dd-f7cd-5543badb4d63"
      },
      "outputs": [
        {
          "name": "stdout",
          "output_type": "stream",
          "text": [
            "X_train  =  (14860, 8)  y_train =  (14860,)\n",
            "X_test   =  (4128, 8)  y_test =  (4128,)\n",
            "X_valid  =  (1652, 8)  y_valid =  (1652,)\n"
          ]
        }
      ],
      "source": [
        "# Split into Input and Output Elements\n",
        "from sklearn.model_selection import train_test_split\n",
        "\n",
        "X_train_full, X_test, y_train_full, y_test = train_test_split(X_sts,\n",
        "              y_data, test_size= 0.20, random_state=100)\n",
        "# Val set\n",
        "X_train, X_valid, y_train, y_valid = train_test_split(X_train_full, y_train_full\n",
        "                                                      , test_size= 0.10)\n",
        "\n",
        "print(\"X_train  = \",X_train.shape ,\" y_train = \", y_train.shape)\n",
        "print(\"X_test   = \",X_test.shape ,\" y_test = \", y_test.shape)\n",
        "print(\"X_valid  = \",X_valid.shape ,\" y_valid = \", y_valid.shape)\n"
      ]
    },
    {
      "cell_type": "code",
      "execution_count": null,
      "metadata": {
        "id": "CN_sE78MYhQJ",
        "outputId": "7a68bef4-730c-49d5-8cee-6524212bd7dc"
      },
      "outputs": [
        {
          "data": {
            "text/plain": [
              "(tuple, (8,))"
            ]
          },
          "execution_count": 19,
          "metadata": {},
          "output_type": "execute_result"
        }
      ],
      "source": [
        "type(X_train.shape[1:]),X_train.shape[1:]"
      ]
    },
    {
      "cell_type": "code",
      "execution_count": null,
      "metadata": {
        "colab": {
          "base_uri": "https://localhost:8080/"
        },
        "id": "Cs-2jSHQX2WU",
        "outputId": "fb525b2e-05b9-466b-cf72-431dabe6b13d"
      },
      "outputs": [
        {
          "name": "stderr",
          "output_type": "stream",
          "text": [
            "C:\\Users\\Nvidia\\anaconda3\\Lib\\site-packages\\keras\\src\\layers\\core\\dense.py:86: UserWarning: Do not pass an `input_shape`/`input_dim` argument to a layer. When using Sequential models, prefer using an `Input(shape)` object as the first layer in the model instead.\n",
            "  super().__init__(activity_regularizer=activity_regularizer, **kwargs)\n"
          ]
        }
      ],
      "source": [
        "# Creating the model using the Sequential API\n",
        "model = keras.models.Sequential()\n",
        "model.add(keras.layers.Dense(100, activation=\"relu\", input_shape = X_train.shape[1:]))  # input_dim = 8\n",
        "model.add(keras.layers.Dense(25, activation=\"relu\"))\n",
        "model.add(keras.layers.Dense(25, activation=\"relu\"))\n",
        "model.add(keras.layers.Dense(25, activation=\"relu\"))\n",
        "model.add(keras.layers.Dense(25, activation=\"relu\"))\n",
        "model.add(keras.layers.Dense(8, activation=\"relu\"))\n",
        "model.add(keras.layers.Dense(1, activation=\"relu\")) # price > 0, so, relu\n",
        "\n",
        "# The model’s summary() method displays all the model’s layers\n",
        "#print(model.summary())\n"
      ]
    },
    {
      "cell_type": "code",
      "execution_count": null,
      "metadata": {
        "colab": {
          "base_uri": "https://localhost:8080/"
        },
        "id": "VlAeg9XgYD-r",
        "outputId": "08688405-ffec-4ba0-dc6e-bb09034e7365",
        "scrolled": true,
        "collapsed": true
      },
      "outputs": [
        {
          "name": "stdout",
          "output_type": "stream",
          "text": [
            "Epoch 1/100\n",
            "\u001b[1m117/117\u001b[0m \u001b[32m━━━━━━━━━━━━━━━━━━━━\u001b[0m\u001b[37m\u001b[0m \u001b[1m1s\u001b[0m 3ms/step - loss: 1.9330 - mae: 1.0310 - val_loss: 0.5993 - val_mae: 0.5810\n",
            "Epoch 2/100\n",
            "\u001b[1m117/117\u001b[0m \u001b[32m━━━━━━━━━━━━━━━━━━━━\u001b[0m\u001b[37m\u001b[0m \u001b[1m0s\u001b[0m 1ms/step - loss: 0.5679 - mae: 0.5600 - val_loss: 0.4921 - val_mae: 0.5014\n",
            "Epoch 3/100\n",
            "\u001b[1m117/117\u001b[0m \u001b[32m━━━━━━━━━━━━━━━━━━━━\u001b[0m\u001b[37m\u001b[0m \u001b[1m0s\u001b[0m 1ms/step - loss: 0.4705 - mae: 0.4965 - val_loss: 0.6145 - val_mae: 0.6454\n",
            "Epoch 4/100\n",
            "\u001b[1m117/117\u001b[0m \u001b[32m━━━━━━━━━━━━━━━━━━━━\u001b[0m\u001b[37m\u001b[0m \u001b[1m0s\u001b[0m 1ms/step - loss: 0.4357 - mae: 0.4805 - val_loss: 0.5668 - val_mae: 0.5192\n",
            "Epoch 5/100\n",
            "\u001b[1m117/117\u001b[0m \u001b[32m━━━━━━━━━━━━━━━━━━━━\u001b[0m\u001b[37m\u001b[0m \u001b[1m0s\u001b[0m 1ms/step - loss: 0.4080 - mae: 0.4563 - val_loss: 0.5600 - val_mae: 0.5945\n",
            "Epoch 6/100\n",
            "\u001b[1m117/117\u001b[0m \u001b[32m━━━━━━━━━━━━━━━━━━━━\u001b[0m\u001b[37m\u001b[0m \u001b[1m0s\u001b[0m 1ms/step - loss: 0.3872 - mae: 0.4489 - val_loss: 0.4489 - val_mae: 0.5132\n",
            "Epoch 7/100\n",
            "\u001b[1m117/117\u001b[0m \u001b[32m━━━━━━━━━━━━━━━━━━━━\u001b[0m\u001b[37m\u001b[0m \u001b[1m0s\u001b[0m 1ms/step - loss: 0.3710 - mae: 0.4380 - val_loss: 0.3772 - val_mae: 0.4615\n",
            "Epoch 8/100\n",
            "\u001b[1m117/117\u001b[0m \u001b[32m━━━━━━━━━━━━━━━━━━━━\u001b[0m\u001b[37m\u001b[0m \u001b[1m0s\u001b[0m 1ms/step - loss: 0.3810 - mae: 0.4382 - val_loss: 0.3712 - val_mae: 0.4434\n",
            "Epoch 9/100\n",
            "\u001b[1m117/117\u001b[0m \u001b[32m━━━━━━━━━━━━━━━━━━━━\u001b[0m\u001b[37m\u001b[0m \u001b[1m0s\u001b[0m 1ms/step - loss: 0.3550 - mae: 0.4228 - val_loss: 0.3531 - val_mae: 0.4327\n",
            "Epoch 10/100\n",
            "\u001b[1m117/117\u001b[0m \u001b[32m━━━━━━━━━━━━━━━━━━━━\u001b[0m\u001b[37m\u001b[0m \u001b[1m0s\u001b[0m 1ms/step - loss: 0.3520 - mae: 0.4235 - val_loss: 0.7125 - val_mae: 0.6067\n",
            "Epoch 11/100\n",
            "\u001b[1m117/117\u001b[0m \u001b[32m━━━━━━━━━━━━━━━━━━━━\u001b[0m\u001b[37m\u001b[0m \u001b[1m0s\u001b[0m 1ms/step - loss: 0.3537 - mae: 0.4195 - val_loss: 0.3628 - val_mae: 0.4270\n",
            "Epoch 12/100\n",
            "\u001b[1m117/117\u001b[0m \u001b[32m━━━━━━━━━━━━━━━━━━━━\u001b[0m\u001b[37m\u001b[0m \u001b[1m0s\u001b[0m 1ms/step - loss: 0.3514 - mae: 0.4203 - val_loss: 0.9366 - val_mae: 0.7776\n",
            "Epoch 13/100\n",
            "\u001b[1m117/117\u001b[0m \u001b[32m━━━━━━━━━━━━━━━━━━━━\u001b[0m\u001b[37m\u001b[0m \u001b[1m0s\u001b[0m 1ms/step - loss: 0.3829 - mae: 0.4404 - val_loss: 0.3427 - val_mae: 0.3999\n",
            "Epoch 14/100\n",
            "\u001b[1m117/117\u001b[0m \u001b[32m━━━━━━━━━━━━━━━━━━━━\u001b[0m\u001b[37m\u001b[0m \u001b[1m0s\u001b[0m 1ms/step - loss: 0.3403 - mae: 0.4120 - val_loss: 0.3593 - val_mae: 0.4190\n",
            "Epoch 15/100\n",
            "\u001b[1m117/117\u001b[0m \u001b[32m━━━━━━━━━━━━━━━━━━━━\u001b[0m\u001b[37m\u001b[0m \u001b[1m0s\u001b[0m 1ms/step - loss: 0.3543 - mae: 0.4198 - val_loss: 0.3372 - val_mae: 0.4120\n",
            "Epoch 16/100\n",
            "\u001b[1m117/117\u001b[0m \u001b[32m━━━━━━━━━━━━━━━━━━━━\u001b[0m\u001b[37m\u001b[0m \u001b[1m0s\u001b[0m 1ms/step - loss: 0.3429 - mae: 0.4132 - val_loss: 0.4075 - val_mae: 0.4349\n",
            "Epoch 17/100\n",
            "\u001b[1m117/117\u001b[0m \u001b[32m━━━━━━━━━━━━━━━━━━━━\u001b[0m\u001b[37m\u001b[0m \u001b[1m0s\u001b[0m 1ms/step - loss: 0.3264 - mae: 0.4015 - val_loss: 0.4412 - val_mae: 0.5199\n",
            "Epoch 18/100\n",
            "\u001b[1m117/117\u001b[0m \u001b[32m━━━━━━━━━━━━━━━━━━━━\u001b[0m\u001b[37m\u001b[0m \u001b[1m0s\u001b[0m 1ms/step - loss: 0.3444 - mae: 0.4149 - val_loss: 0.3377 - val_mae: 0.4017\n",
            "Epoch 19/100\n",
            "\u001b[1m117/117\u001b[0m \u001b[32m━━━━━━━━━━━━━━━━━━━━\u001b[0m\u001b[37m\u001b[0m \u001b[1m0s\u001b[0m 1ms/step - loss: 0.3226 - mae: 0.4014 - val_loss: 0.3820 - val_mae: 0.4359\n",
            "Epoch 20/100\n",
            "\u001b[1m117/117\u001b[0m \u001b[32m━━━━━━━━━━━━━━━━━━━━\u001b[0m\u001b[37m\u001b[0m \u001b[1m0s\u001b[0m 1ms/step - loss: 0.3203 - mae: 0.3990 - val_loss: 0.3407 - val_mae: 0.4280\n",
            "Epoch 21/100\n",
            "\u001b[1m117/117\u001b[0m \u001b[32m━━━━━━━━━━━━━━━━━━━━\u001b[0m\u001b[37m\u001b[0m \u001b[1m0s\u001b[0m 1ms/step - loss: 0.3155 - mae: 0.3980 - val_loss: 0.3347 - val_mae: 0.4238\n",
            "Epoch 22/100\n",
            "\u001b[1m117/117\u001b[0m \u001b[32m━━━━━━━━━━━━━━━━━━━━\u001b[0m\u001b[37m\u001b[0m \u001b[1m0s\u001b[0m 1ms/step - loss: 0.3244 - mae: 0.4014 - val_loss: 0.7130 - val_mae: 0.6087\n",
            "Epoch 23/100\n",
            "\u001b[1m117/117\u001b[0m \u001b[32m━━━━━━━━━━━━━━━━━━━━\u001b[0m\u001b[37m\u001b[0m \u001b[1m0s\u001b[0m 1ms/step - loss: 0.3542 - mae: 0.4164 - val_loss: 0.4768 - val_mae: 0.5157\n",
            "Epoch 24/100\n",
            "\u001b[1m117/117\u001b[0m \u001b[32m━━━━━━━━━━━━━━━━━━━━\u001b[0m\u001b[37m\u001b[0m \u001b[1m0s\u001b[0m 1ms/step - loss: 0.3210 - mae: 0.3997 - val_loss: 0.3102 - val_mae: 0.3912\n",
            "Epoch 25/100\n",
            "\u001b[1m117/117\u001b[0m \u001b[32m━━━━━━━━━━━━━━━━━━━━\u001b[0m\u001b[37m\u001b[0m \u001b[1m0s\u001b[0m 1ms/step - loss: 0.3114 - mae: 0.3934 - val_loss: 0.3403 - val_mae: 0.4264\n",
            "Epoch 26/100\n",
            "\u001b[1m117/117\u001b[0m \u001b[32m━━━━━━━━━━━━━━━━━━━━\u001b[0m\u001b[37m\u001b[0m \u001b[1m0s\u001b[0m 1ms/step - loss: 0.3130 - mae: 0.3955 - val_loss: 0.5178 - val_mae: 0.5786\n",
            "Epoch 27/100\n",
            "\u001b[1m117/117\u001b[0m \u001b[32m━━━━━━━━━━━━━━━━━━━━\u001b[0m\u001b[37m\u001b[0m \u001b[1m0s\u001b[0m 1ms/step - loss: 0.3246 - mae: 0.4028 - val_loss: 0.3430 - val_mae: 0.4013\n",
            "Epoch 28/100\n",
            "\u001b[1m117/117\u001b[0m \u001b[32m━━━━━━━━━━━━━━━━━━━━\u001b[0m\u001b[37m\u001b[0m \u001b[1m0s\u001b[0m 1ms/step - loss: 0.3048 - mae: 0.3882 - val_loss: 0.3012 - val_mae: 0.3760\n",
            "Epoch 29/100\n",
            "\u001b[1m117/117\u001b[0m \u001b[32m━━━━━━━━━━━━━━━━━━━━\u001b[0m\u001b[37m\u001b[0m \u001b[1m0s\u001b[0m 1ms/step - loss: 0.3130 - mae: 0.3922 - val_loss: 0.3178 - val_mae: 0.3976\n",
            "Epoch 30/100\n",
            "\u001b[1m117/117\u001b[0m \u001b[32m━━━━━━━━━━━━━━━━━━━━\u001b[0m\u001b[37m\u001b[0m \u001b[1m0s\u001b[0m 1ms/step - loss: 0.3093 - mae: 0.3887 - val_loss: 0.4376 - val_mae: 0.4456\n",
            "Epoch 31/100\n",
            "\u001b[1m117/117\u001b[0m \u001b[32m━━━━━━━━━━━━━━━━━━━━\u001b[0m\u001b[37m\u001b[0m \u001b[1m0s\u001b[0m 1ms/step - loss: 0.3078 - mae: 0.3878 - val_loss: 0.5916 - val_mae: 0.6115\n",
            "Epoch 32/100\n",
            "\u001b[1m117/117\u001b[0m \u001b[32m━━━━━━━━━━━━━━━━━━━━\u001b[0m\u001b[37m\u001b[0m \u001b[1m0s\u001b[0m 1ms/step - loss: 0.3319 - mae: 0.4061 - val_loss: 0.3405 - val_mae: 0.4013\n",
            "Epoch 33/100\n",
            "\u001b[1m117/117\u001b[0m \u001b[32m━━━━━━━━━━━━━━━━━━━━\u001b[0m\u001b[37m\u001b[0m \u001b[1m0s\u001b[0m 1ms/step - loss: 0.2975 - mae: 0.3808 - val_loss: 0.3241 - val_mae: 0.3820\n",
            "Epoch 34/100\n",
            "\u001b[1m117/117\u001b[0m \u001b[32m━━━━━━━━━━━━━━━━━━━━\u001b[0m\u001b[37m\u001b[0m \u001b[1m0s\u001b[0m 1ms/step - loss: 0.3129 - mae: 0.3909 - val_loss: 0.3338 - val_mae: 0.3954\n",
            "Epoch 35/100\n",
            "\u001b[1m117/117\u001b[0m \u001b[32m━━━━━━━━━━━━━━━━━━━━\u001b[0m\u001b[37m\u001b[0m \u001b[1m0s\u001b[0m 1ms/step - loss: 0.3126 - mae: 0.3882 - val_loss: 0.3380 - val_mae: 0.4169\n",
            "Epoch 36/100\n",
            "\u001b[1m117/117\u001b[0m \u001b[32m━━━━━━━━━━━━━━━━━━━━\u001b[0m\u001b[37m\u001b[0m \u001b[1m0s\u001b[0m 1ms/step - loss: 0.3006 - mae: 0.3838 - val_loss: 0.3558 - val_mae: 0.4497\n",
            "Epoch 37/100\n",
            "\u001b[1m117/117\u001b[0m \u001b[32m━━━━━━━━━━━━━━━━━━━━\u001b[0m\u001b[37m\u001b[0m \u001b[1m0s\u001b[0m 1ms/step - loss: 0.2953 - mae: 0.3793 - val_loss: 0.3681 - val_mae: 0.4165\n",
            "Epoch 38/100\n",
            "\u001b[1m117/117\u001b[0m \u001b[32m━━━━━━━━━━━━━━━━━━━━\u001b[0m\u001b[37m\u001b[0m \u001b[1m0s\u001b[0m 1ms/step - loss: 0.2800 - mae: 0.3714 - val_loss: 0.3116 - val_mae: 0.3845\n",
            "Epoch 39/100\n",
            "\u001b[1m117/117\u001b[0m \u001b[32m━━━━━━━━━━━━━━━━━━━━\u001b[0m\u001b[37m\u001b[0m \u001b[1m0s\u001b[0m 1ms/step - loss: 0.3085 - mae: 0.3880 - val_loss: 0.3058 - val_mae: 0.3846\n",
            "Epoch 40/100\n",
            "\u001b[1m117/117\u001b[0m \u001b[32m━━━━━━━━━━━━━━━━━━━━\u001b[0m\u001b[37m\u001b[0m \u001b[1m0s\u001b[0m 1ms/step - loss: 0.3100 - mae: 0.3869 - val_loss: 0.4994 - val_mae: 0.5442\n",
            "Epoch 41/100\n",
            "\u001b[1m117/117\u001b[0m \u001b[32m━━━━━━━━━━━━━━━━━━━━\u001b[0m\u001b[37m\u001b[0m \u001b[1m0s\u001b[0m 1ms/step - loss: 0.3110 - mae: 0.3908 - val_loss: 0.3370 - val_mae: 0.3857\n",
            "Epoch 42/100\n",
            "\u001b[1m117/117\u001b[0m \u001b[32m━━━━━━━━━━━━━━━━━━━━\u001b[0m\u001b[37m\u001b[0m \u001b[1m0s\u001b[0m 1ms/step - loss: 0.2875 - mae: 0.3773 - val_loss: 0.6589 - val_mae: 0.5738\n",
            "Epoch 43/100\n",
            "\u001b[1m117/117\u001b[0m \u001b[32m━━━━━━━━━━━━━━━━━━━━\u001b[0m\u001b[37m\u001b[0m \u001b[1m0s\u001b[0m 1ms/step - loss: 0.3019 - mae: 0.3829 - val_loss: 0.3146 - val_mae: 0.3786\n",
            "Epoch 44/100\n",
            "\u001b[1m117/117\u001b[0m \u001b[32m━━━━━━━━━━━━━━━━━━━━\u001b[0m\u001b[37m\u001b[0m \u001b[1m0s\u001b[0m 1ms/step - loss: 0.2883 - mae: 0.3749 - val_loss: 0.5623 - val_mae: 0.5016\n",
            "Epoch 45/100\n",
            "\u001b[1m117/117\u001b[0m \u001b[32m━━━━━━━━━━━━━━━━━━━━\u001b[0m\u001b[37m\u001b[0m \u001b[1m0s\u001b[0m 1ms/step - loss: 0.3020 - mae: 0.3821 - val_loss: 0.3047 - val_mae: 0.3961\n",
            "Epoch 46/100\n",
            "\u001b[1m117/117\u001b[0m \u001b[32m━━━━━━━━━━━━━━━━━━━━\u001b[0m\u001b[37m\u001b[0m \u001b[1m0s\u001b[0m 1ms/step - loss: 0.2926 - mae: 0.3774 - val_loss: 0.3014 - val_mae: 0.3781\n",
            "Epoch 47/100\n",
            "\u001b[1m117/117\u001b[0m \u001b[32m━━━━━━━━━━━━━━━━━━━━\u001b[0m\u001b[37m\u001b[0m \u001b[1m0s\u001b[0m 1ms/step - loss: 0.2971 - mae: 0.3793 - val_loss: 0.3344 - val_mae: 0.3852\n",
            "Epoch 48/100\n",
            "\u001b[1m117/117\u001b[0m \u001b[32m━━━━━━━━━━━━━━━━━━━━\u001b[0m\u001b[37m\u001b[0m \u001b[1m0s\u001b[0m 1ms/step - loss: 0.2814 - mae: 0.3710 - val_loss: 0.2951 - val_mae: 0.3763\n",
            "Epoch 49/100\n",
            "\u001b[1m117/117\u001b[0m \u001b[32m━━━━━━━━━━━━━━━━━━━━\u001b[0m\u001b[37m\u001b[0m \u001b[1m0s\u001b[0m 1ms/step - loss: 0.2811 - mae: 0.3674 - val_loss: 0.3853 - val_mae: 0.4294\n",
            "Epoch 50/100\n",
            "\u001b[1m117/117\u001b[0m \u001b[32m━━━━━━━━━━━━━━━━━━━━\u001b[0m\u001b[37m\u001b[0m \u001b[1m0s\u001b[0m 1ms/step - loss: 0.2876 - mae: 0.3730 - val_loss: 0.3331 - val_mae: 0.4118\n",
            "Epoch 51/100\n",
            "\u001b[1m117/117\u001b[0m \u001b[32m━━━━━━━━━━━━━━━━━━━━\u001b[0m\u001b[37m\u001b[0m \u001b[1m0s\u001b[0m 1ms/step - loss: 0.2945 - mae: 0.3758 - val_loss: 0.3567 - val_mae: 0.4435\n",
            "Epoch 52/100\n",
            "\u001b[1m117/117\u001b[0m \u001b[32m━━━━━━━━━━━━━━━━━━━━\u001b[0m\u001b[37m\u001b[0m \u001b[1m0s\u001b[0m 1ms/step - loss: 0.2920 - mae: 0.3808 - val_loss: 0.3018 - val_mae: 0.3946\n",
            "Epoch 53/100\n",
            "\u001b[1m117/117\u001b[0m \u001b[32m━━━━━━━━━━━━━━━━━━━━\u001b[0m\u001b[37m\u001b[0m \u001b[1m0s\u001b[0m 1ms/step - loss: 0.2867 - mae: 0.3697 - val_loss: 0.5380 - val_mae: 0.4970\n",
            "Epoch 54/100\n",
            "\u001b[1m117/117\u001b[0m \u001b[32m━━━━━━━━━━━━━━━━━━━━\u001b[0m\u001b[37m\u001b[0m \u001b[1m0s\u001b[0m 1ms/step - loss: 0.2926 - mae: 0.3748 - val_loss: 0.3744 - val_mae: 0.4045\n",
            "Epoch 55/100\n",
            "\u001b[1m117/117\u001b[0m \u001b[32m━━━━━━━━━━━━━━━━━━━━\u001b[0m\u001b[37m\u001b[0m \u001b[1m0s\u001b[0m 1ms/step - loss: 0.2816 - mae: 0.3685 - val_loss: 0.3864 - val_mae: 0.4230\n",
            "Epoch 56/100\n",
            "\u001b[1m117/117\u001b[0m \u001b[32m━━━━━━━━━━━━━━━━━━━━\u001b[0m\u001b[37m\u001b[0m \u001b[1m0s\u001b[0m 1ms/step - loss: 0.2759 - mae: 0.3653 - val_loss: 0.6385 - val_mae: 0.5429\n",
            "Epoch 57/100\n",
            "\u001b[1m117/117\u001b[0m \u001b[32m━━━━━━━━━━━━━━━━━━━━\u001b[0m\u001b[37m\u001b[0m \u001b[1m0s\u001b[0m 1ms/step - loss: 0.2853 - mae: 0.3709 - val_loss: 0.2988 - val_mae: 0.3769\n",
            "Epoch 58/100\n",
            "\u001b[1m117/117\u001b[0m \u001b[32m━━━━━━━━━━━━━━━━━━━━\u001b[0m\u001b[37m\u001b[0m \u001b[1m0s\u001b[0m 1ms/step - loss: 0.2875 - mae: 0.3698 - val_loss: 0.5007 - val_mae: 0.5634\n",
            "Epoch 59/100\n",
            "\u001b[1m117/117\u001b[0m \u001b[32m━━━━━━━━━━━━━━━━━━━━\u001b[0m\u001b[37m\u001b[0m \u001b[1m0s\u001b[0m 1ms/step - loss: 0.2903 - mae: 0.3760 - val_loss: 0.3766 - val_mae: 0.4289\n",
            "Epoch 60/100\n",
            "\u001b[1m117/117\u001b[0m \u001b[32m━━━━━━━━━━━━━━━━━━━━\u001b[0m\u001b[37m\u001b[0m \u001b[1m0s\u001b[0m 1ms/step - loss: 0.2619 - mae: 0.3540 - val_loss: 0.3055 - val_mae: 0.3800\n",
            "Epoch 61/100\n",
            "\u001b[1m117/117\u001b[0m \u001b[32m━━━━━━━━━━━━━━━━━━━━\u001b[0m\u001b[37m\u001b[0m \u001b[1m0s\u001b[0m 1ms/step - loss: 0.2788 - mae: 0.3685 - val_loss: 0.4548 - val_mae: 0.4616\n",
            "Epoch 62/100\n",
            "\u001b[1m117/117\u001b[0m \u001b[32m━━━━━━━━━━━━━━━━━━━━\u001b[0m\u001b[37m\u001b[0m \u001b[1m0s\u001b[0m 1ms/step - loss: 0.2803 - mae: 0.3637 - val_loss: 0.3220 - val_mae: 0.3774\n",
            "Epoch 63/100\n",
            "\u001b[1m117/117\u001b[0m \u001b[32m━━━━━━━━━━━━━━━━━━━━\u001b[0m\u001b[37m\u001b[0m \u001b[1m0s\u001b[0m 1ms/step - loss: 0.2897 - mae: 0.3711 - val_loss: 0.3554 - val_mae: 0.4367\n",
            "Epoch 64/100\n",
            "\u001b[1m117/117\u001b[0m \u001b[32m━━━━━━━━━━━━━━━━━━━━\u001b[0m\u001b[37m\u001b[0m \u001b[1m0s\u001b[0m 1ms/step - loss: 0.2884 - mae: 0.3710 - val_loss: 0.4969 - val_mae: 0.4818\n",
            "Epoch 65/100\n",
            "\u001b[1m117/117\u001b[0m \u001b[32m━━━━━━━━━━━━━━━━━━━━\u001b[0m\u001b[37m\u001b[0m \u001b[1m0s\u001b[0m 1ms/step - loss: 0.2852 - mae: 0.3696 - val_loss: 0.5003 - val_mae: 0.5659\n",
            "Epoch 66/100\n",
            "\u001b[1m117/117\u001b[0m \u001b[32m━━━━━━━━━━━━━━━━━━━━\u001b[0m\u001b[37m\u001b[0m \u001b[1m0s\u001b[0m 1ms/step - loss: 0.2845 - mae: 0.3698 - val_loss: 0.3507 - val_mae: 0.4333\n",
            "Epoch 67/100\n",
            "\u001b[1m117/117\u001b[0m \u001b[32m━━━━━━━━━━━━━━━━━━━━\u001b[0m\u001b[37m\u001b[0m \u001b[1m0s\u001b[0m 1ms/step - loss: 0.2742 - mae: 0.3593 - val_loss: 0.3617 - val_mae: 0.3970\n",
            "Epoch 68/100\n",
            "\u001b[1m117/117\u001b[0m \u001b[32m━━━━━━━━━━━━━━━━━━━━\u001b[0m\u001b[37m\u001b[0m \u001b[1m0s\u001b[0m 1ms/step - loss: 0.2792 - mae: 0.3629 - val_loss: 0.5359 - val_mae: 0.5132\n",
            "Epoch 69/100\n",
            "\u001b[1m117/117\u001b[0m \u001b[32m━━━━━━━━━━━━━━━━━━━━\u001b[0m\u001b[37m\u001b[0m \u001b[1m0s\u001b[0m 1ms/step - loss: 0.2817 - mae: 0.3653 - val_loss: 0.2876 - val_mae: 0.3710\n",
            "Epoch 70/100\n",
            "\u001b[1m117/117\u001b[0m \u001b[32m━━━━━━━━━━━━━━━━━━━━\u001b[0m\u001b[37m\u001b[0m \u001b[1m0s\u001b[0m 1ms/step - loss: 0.2770 - mae: 0.3649 - val_loss: 0.2850 - val_mae: 0.3722\n",
            "Epoch 71/100\n",
            "\u001b[1m117/117\u001b[0m \u001b[32m━━━━━━━━━━━━━━━━━━━━\u001b[0m\u001b[37m\u001b[0m \u001b[1m0s\u001b[0m 1ms/step - loss: 0.2648 - mae: 0.3571 - val_loss: 0.4242 - val_mae: 0.4303\n",
            "Epoch 72/100\n",
            "\u001b[1m117/117\u001b[0m \u001b[32m━━━━━━━━━━━━━━━━━━━━\u001b[0m\u001b[37m\u001b[0m \u001b[1m0s\u001b[0m 1ms/step - loss: 0.2821 - mae: 0.3688 - val_loss: 3.5790 - val_mae: 1.5654\n",
            "Epoch 73/100\n",
            "\u001b[1m117/117\u001b[0m \u001b[32m━━━━━━━━━━━━━━━━━━━━\u001b[0m\u001b[37m\u001b[0m \u001b[1m0s\u001b[0m 1ms/step - loss: 0.4893 - mae: 0.4604 - val_loss: 0.2878 - val_mae: 0.3610\n",
            "Epoch 74/100\n",
            "\u001b[1m117/117\u001b[0m \u001b[32m━━━━━━━━━━━━━━━━━━━━\u001b[0m\u001b[37m\u001b[0m \u001b[1m0s\u001b[0m 1ms/step - loss: 0.2573 - mae: 0.3501 - val_loss: 0.4211 - val_mae: 0.4867\n",
            "Epoch 75/100\n",
            "\u001b[1m117/117\u001b[0m \u001b[32m━━━━━━━━━━━━━━━━━━━━\u001b[0m\u001b[37m\u001b[0m \u001b[1m0s\u001b[0m 1ms/step - loss: 0.2852 - mae: 0.3677 - val_loss: 0.2952 - val_mae: 0.3922\n",
            "Epoch 76/100\n",
            "\u001b[1m117/117\u001b[0m \u001b[32m━━━━━━━━━━━━━━━━━━━━\u001b[0m\u001b[37m\u001b[0m \u001b[1m0s\u001b[0m 1ms/step - loss: 0.2731 - mae: 0.3605 - val_loss: 0.3021 - val_mae: 0.3894\n",
            "Epoch 77/100\n",
            "\u001b[1m117/117\u001b[0m \u001b[32m━━━━━━━━━━━━━━━━━━━━\u001b[0m\u001b[37m\u001b[0m \u001b[1m0s\u001b[0m 1ms/step - loss: 0.2673 - mae: 0.3555 - val_loss: 0.3046 - val_mae: 0.3781\n",
            "Epoch 78/100\n",
            "\u001b[1m117/117\u001b[0m \u001b[32m━━━━━━━━━━━━━━━━━━━━\u001b[0m\u001b[37m\u001b[0m \u001b[1m0s\u001b[0m 1ms/step - loss: 0.2727 - mae: 0.3563 - val_loss: 0.6341 - val_mae: 0.5351\n",
            "Epoch 79/100\n",
            "\u001b[1m117/117\u001b[0m \u001b[32m━━━━━━━━━━━━━━━━━━━━\u001b[0m\u001b[37m\u001b[0m \u001b[1m0s\u001b[0m 2ms/step - loss: 0.2856 - mae: 0.3674 - val_loss: 0.5193 - val_mae: 0.5049\n",
            "Epoch 80/100\n",
            "\u001b[1m117/117\u001b[0m \u001b[32m━━━━━━━━━━━━━━━━━━━━\u001b[0m\u001b[37m\u001b[0m \u001b[1m0s\u001b[0m 1ms/step - loss: 0.2747 - mae: 0.3588 - val_loss: 0.3945 - val_mae: 0.4184\n",
            "Epoch 81/100\n",
            "\u001b[1m117/117\u001b[0m \u001b[32m━━━━━━━━━━━━━━━━━━━━\u001b[0m\u001b[37m\u001b[0m \u001b[1m0s\u001b[0m 1ms/step - loss: 0.2724 - mae: 0.3605 - val_loss: 0.4822 - val_mae: 0.4666\n",
            "Epoch 82/100\n",
            "\u001b[1m117/117\u001b[0m \u001b[32m━━━━━━━━━━━━━━━━━━━━\u001b[0m\u001b[37m\u001b[0m \u001b[1m0s\u001b[0m 1ms/step - loss: 0.2907 - mae: 0.3700 - val_loss: 0.4665 - val_mae: 0.4576\n",
            "Epoch 83/100\n",
            "\u001b[1m117/117\u001b[0m \u001b[32m━━━━━━━━━━━━━━━━━━━━\u001b[0m\u001b[37m\u001b[0m \u001b[1m0s\u001b[0m 1ms/step - loss: 0.2825 - mae: 0.3633 - val_loss: 0.5030 - val_mae: 0.4943\n",
            "Epoch 84/100\n",
            "\u001b[1m117/117\u001b[0m \u001b[32m━━━━━━━━━━━━━━━━━━━━\u001b[0m\u001b[37m\u001b[0m \u001b[1m0s\u001b[0m 1ms/step - loss: 0.2936 - mae: 0.3704 - val_loss: 0.3141 - val_mae: 0.3987\n",
            "Epoch 85/100\n",
            "\u001b[1m117/117\u001b[0m \u001b[32m━━━━━━━━━━━━━━━━━━━━\u001b[0m\u001b[37m\u001b[0m \u001b[1m0s\u001b[0m 1ms/step - loss: 0.2734 - mae: 0.3634 - val_loss: 0.7070 - val_mae: 0.6349\n",
            "Epoch 86/100\n",
            "\u001b[1m117/117\u001b[0m \u001b[32m━━━━━━━━━━━━━━━━━━━━\u001b[0m\u001b[37m\u001b[0m \u001b[1m0s\u001b[0m 1ms/step - loss: 0.2957 - mae: 0.3717 - val_loss: 0.3121 - val_mae: 0.3665\n",
            "Epoch 87/100\n",
            "\u001b[1m117/117\u001b[0m \u001b[32m━━━━━━━━━━━━━━━━━━━━\u001b[0m\u001b[37m\u001b[0m \u001b[1m0s\u001b[0m 1ms/step - loss: 0.2728 - mae: 0.3581 - val_loss: 0.2768 - val_mae: 0.3592\n",
            "Epoch 88/100\n",
            "\u001b[1m117/117\u001b[0m \u001b[32m━━━━━━━━━━━━━━━━━━━━\u001b[0m\u001b[37m\u001b[0m \u001b[1m0s\u001b[0m 1ms/step - loss: 0.2613 - mae: 0.3494 - val_loss: 0.3341 - val_mae: 0.3788\n",
            "Epoch 89/100\n",
            "\u001b[1m117/117\u001b[0m \u001b[32m━━━━━━━━━━━━━━━━━━━━\u001b[0m\u001b[37m\u001b[0m \u001b[1m0s\u001b[0m 1ms/step - loss: 0.2500 - mae: 0.3448 - val_loss: 0.2827 - val_mae: 0.3578\n",
            "Epoch 90/100\n",
            "\u001b[1m117/117\u001b[0m \u001b[32m━━━━━━━━━━━━━━━━━━━━\u001b[0m\u001b[37m\u001b[0m \u001b[1m0s\u001b[0m 1ms/step - loss: 0.2427 - mae: 0.3381 - val_loss: 0.2852 - val_mae: 0.3615\n",
            "Epoch 91/100\n",
            "\u001b[1m117/117\u001b[0m \u001b[32m━━━━━━━━━━━━━━━━━━━━\u001b[0m\u001b[37m\u001b[0m \u001b[1m0s\u001b[0m 1ms/step - loss: 0.2470 - mae: 0.3437 - val_loss: 0.4355 - val_mae: 0.4457\n",
            "Epoch 92/100\n",
            "\u001b[1m117/117\u001b[0m \u001b[32m━━━━━━━━━━━━━━━━━━━━\u001b[0m\u001b[37m\u001b[0m \u001b[1m0s\u001b[0m 1ms/step - loss: 0.2782 - mae: 0.3589 - val_loss: 0.3799 - val_mae: 0.4100\n",
            "Epoch 93/100\n",
            "\u001b[1m117/117\u001b[0m \u001b[32m━━━━━━━━━━━━━━━━━━━━\u001b[0m\u001b[37m\u001b[0m \u001b[1m0s\u001b[0m 1ms/step - loss: 0.2654 - mae: 0.3507 - val_loss: 0.3368 - val_mae: 0.3885\n",
            "Epoch 94/100\n",
            "\u001b[1m117/117\u001b[0m \u001b[32m━━━━━━━━━━━━━━━━━━━━\u001b[0m\u001b[37m\u001b[0m \u001b[1m0s\u001b[0m 1ms/step - loss: 0.2557 - mae: 0.3472 - val_loss: 0.3205 - val_mae: 0.3835\n",
            "Epoch 95/100\n",
            "\u001b[1m117/117\u001b[0m \u001b[32m━━━━━━━━━━━━━━━━━━━━\u001b[0m\u001b[37m\u001b[0m \u001b[1m0s\u001b[0m 2ms/step - loss: 0.2638 - mae: 0.3518 - val_loss: 0.3997 - val_mae: 0.4410\n",
            "Epoch 96/100\n",
            "\u001b[1m117/117\u001b[0m \u001b[32m━━━━━━━━━━━━━━━━━━━━\u001b[0m\u001b[37m\u001b[0m \u001b[1m0s\u001b[0m 1ms/step - loss: 0.2617 - mae: 0.3522 - val_loss: 0.3023 - val_mae: 0.3740\n",
            "Epoch 97/100\n",
            "\u001b[1m117/117\u001b[0m \u001b[32m━━━━━━━━━━━━━━━━━━━━\u001b[0m\u001b[37m\u001b[0m \u001b[1m0s\u001b[0m 1ms/step - loss: 0.2579 - mae: 0.3468 - val_loss: 0.3120 - val_mae: 0.3670\n",
            "Epoch 98/100\n",
            "\u001b[1m117/117\u001b[0m \u001b[32m━━━━━━━━━━━━━━━━━━━━\u001b[0m\u001b[37m\u001b[0m \u001b[1m0s\u001b[0m 1ms/step - loss: 0.2482 - mae: 0.3425 - val_loss: 0.3343 - val_mae: 0.4199\n",
            "Epoch 99/100\n",
            "\u001b[1m117/117\u001b[0m \u001b[32m━━━━━━━━━━━━━━━━━━━━\u001b[0m\u001b[37m\u001b[0m \u001b[1m0s\u001b[0m 1ms/step - loss: 0.2651 - mae: 0.3535 - val_loss: 0.3186 - val_mae: 0.3700\n",
            "Epoch 100/100\n",
            "\u001b[1m117/117\u001b[0m \u001b[32m━━━━━━━━━━━━━━━━━━━━\u001b[0m\u001b[37m\u001b[0m \u001b[1m0s\u001b[0m 1ms/step - loss: 0.2508 - mae: 0.3388 - val_loss: 0.5686 - val_mae: 0.5032\n"
          ]
        }
      ],
      "source": [
        "# Compiling the model\n",
        "# https://keras.io/models/sequential/\n",
        "model.compile(loss=\"mean_squared_error\", optimizer=\"sgd\", metrics=[\"mae\"])\n",
        "\n",
        "# Training and evaluating the model\n",
        "history = model.fit(X_train, y_train, epochs=100, batch_size=128, validation_data=(X_valid, y_valid))\n",
        "# history = model.fit(X_train, y_train, epochs=30, batch_size=128, validation_split=0.2)\n"
      ]
    },
    {
      "cell_type": "code",
      "execution_count": null,
      "metadata": {
        "scrolled": true,
        "collapsed": true,
        "id": "HkXvdYadYhQM",
        "outputId": "ea4987b8-529f-4525-fb31-8bd16291d171"
      },
      "outputs": [
        {
          "data": {
            "text/plain": [
              "{'loss': [1.1064547300338745,\n",
              "  0.5445446968078613,\n",
              "  0.4645947515964508,\n",
              "  0.4268124997615814,\n",
              "  0.4032433032989502,\n",
              "  0.38779985904693604,\n",
              "  0.3713389039039612,\n",
              "  0.3695926368236542,\n",
              "  0.35966330766677856,\n",
              "  0.35547035932540894,\n",
              "  0.35039862990379333,\n",
              "  0.3467334806919098,\n",
              "  0.3518392741680145,\n",
              "  0.3398279547691345,\n",
              "  0.33315515518188477,\n",
              "  0.33410924673080444,\n",
              "  0.32723963260650635,\n",
              "  0.327926367521286,\n",
              "  0.328886479139328,\n",
              "  0.32381901144981384,\n",
              "  0.32086995244026184,\n",
              "  0.31928297877311707,\n",
              "  0.32331472635269165,\n",
              "  0.314663827419281,\n",
              "  0.30740222334861755,\n",
              "  0.31805410981178284,\n",
              "  0.3098561465740204,\n",
              "  0.3147270679473877,\n",
              "  0.3064548075199127,\n",
              "  0.3140241503715515,\n",
              "  0.30375415086746216,\n",
              "  0.3096705675125122,\n",
              "  0.2992437779903412,\n",
              "  0.3032066524028778,\n",
              "  0.3076815903186798,\n",
              "  0.3010405898094177,\n",
              "  0.29186373949050903,\n",
              "  0.30219876766204834,\n",
              "  0.29558607935905457,\n",
              "  0.29780781269073486,\n",
              "  0.30098554491996765,\n",
              "  0.29266947507858276,\n",
              "  0.291412353515625,\n",
              "  0.28986862301826477,\n",
              "  0.29314932227134705,\n",
              "  0.2937377691268921,\n",
              "  0.2881945073604584,\n",
              "  0.28980615735054016,\n",
              "  0.28450173139572144,\n",
              "  0.28861096501350403,\n",
              "  0.28615203499794006,\n",
              "  0.28435513377189636,\n",
              "  0.28076738119125366,\n",
              "  0.2848440706729889,\n",
              "  0.28344354033470154,\n",
              "  0.27716168761253357,\n",
              "  0.27929985523223877,\n",
              "  0.2806726396083832,\n",
              "  0.28239697217941284,\n",
              "  0.2748299837112427,\n",
              "  0.2776855230331421,\n",
              "  0.2777874171733856,\n",
              "  0.2751646935939789,\n",
              "  0.2769744396209717,\n",
              "  0.2746860980987549,\n",
              "  0.2746812105178833,\n",
              "  0.27092939615249634,\n",
              "  0.2738207280635834,\n",
              "  0.2745288014411926,\n",
              "  0.2700495719909668,\n",
              "  0.272198885679245,\n",
              "  0.2725403308868408,\n",
              "  0.3179611265659332,\n",
              "  0.2659217417240143,\n",
              "  0.2696525752544403,\n",
              "  0.2744644284248352,\n",
              "  0.26739105582237244,\n",
              "  0.2638531029224396,\n",
              "  0.2668053209781647,\n",
              "  0.2689903676509857,\n",
              "  0.2707735598087311,\n",
              "  0.26894375681877136,\n",
              "  0.2666618227958679,\n",
              "  0.26868703961372375,\n",
              "  0.27020782232284546,\n",
              "  0.27531641721725464,\n",
              "  0.2696540653705597,\n",
              "  0.26523011922836304,\n",
              "  0.2565958499908447,\n",
              "  0.2565326690673828,\n",
              "  0.2600313127040863,\n",
              "  0.2597139775753021,\n",
              "  0.25902217626571655,\n",
              "  0.2596069276332855,\n",
              "  0.2726122736930847,\n",
              "  0.26031437516212463,\n",
              "  0.26036491990089417,\n",
              "  0.25401708483695984,\n",
              "  0.2609351873397827,\n",
              "  0.2578973174095154],\n",
              " 'mae': [0.7742719650268555,\n",
              "  0.5433047413825989,\n",
              "  0.49203526973724365,\n",
              "  0.4700997471809387,\n",
              "  0.45410481095314026,\n",
              "  0.4454551935195923,\n",
              "  0.43383046984672546,\n",
              "  0.4330976903438568,\n",
              "  0.4266342222690582,\n",
              "  0.42436930537223816,\n",
              "  0.42016875743865967,\n",
              "  0.41805773973464966,\n",
              "  0.4217827320098877,\n",
              "  0.41272592544555664,\n",
              "  0.40884286165237427,\n",
              "  0.4087834656238556,\n",
              "  0.40334564447402954,\n",
              "  0.40663984417915344,\n",
              "  0.4052085876464844,\n",
              "  0.4017889201641083,\n",
              "  0.40022408962249756,\n",
              "  0.3995662331581116,\n",
              "  0.40054643154144287,\n",
              "  0.39509400725364685,\n",
              "  0.3902674615383148,\n",
              "  0.39780718088150024,\n",
              "  0.3920751214027405,\n",
              "  0.3940975069999695,\n",
              "  0.38922178745269775,\n",
              "  0.39309725165367126,\n",
              "  0.38632047176361084,\n",
              "  0.3904488980770111,\n",
              "  0.38178303837776184,\n",
              "  0.3858701288700104,\n",
              "  0.3886536955833435,\n",
              "  0.38298743963241577,\n",
              "  0.3774799406528473,\n",
              "  0.38478273153305054,\n",
              "  0.3801073729991913,\n",
              "  0.38039690256118774,\n",
              "  0.38267847895622253,\n",
              "  0.3776038587093353,\n",
              "  0.37590163946151733,\n",
              "  0.37405842542648315,\n",
              "  0.3759241998195648,\n",
              "  0.37793564796447754,\n",
              "  0.3740648627281189,\n",
              "  0.3747572600841522,\n",
              "  0.369556725025177,\n",
              "  0.3729414641857147,\n",
              "  0.37205615639686584,\n",
              "  0.37116047739982605,\n",
              "  0.3672962188720703,\n",
              "  0.3696175515651703,\n",
              "  0.36940276622772217,\n",
              "  0.3651561439037323,\n",
              "  0.3653372526168823,\n",
              "  0.3683716952800751,\n",
              "  0.3690340518951416,\n",
              "  0.36255595088005066,\n",
              "  0.3645145297050476,\n",
              "  0.3642759919166565,\n",
              "  0.36216437816619873,\n",
              "  0.3643314838409424,\n",
              "  0.36136963963508606,\n",
              "  0.36263370513916016,\n",
              "  0.36010485887527466,\n",
              "  0.36166730523109436,\n",
              "  0.36164382100105286,\n",
              "  0.35873910784721375,\n",
              "  0.3598710298538208,\n",
              "  0.3602965772151947,\n",
              "  0.38384002447128296,\n",
              "  0.3554198145866394,\n",
              "  0.3573821187019348,\n",
              "  0.3618979752063751,\n",
              "  0.3564620614051819,\n",
              "  0.3527144193649292,\n",
              "  0.3563571572303772,\n",
              "  0.3555845320224762,\n",
              "  0.358747273683548,\n",
              "  0.3573879599571228,\n",
              "  0.355031818151474,\n",
              "  0.35627368092536926,\n",
              "  0.3587036430835724,\n",
              "  0.36059021949768066,\n",
              "  0.3556108772754669,\n",
              "  0.35405898094177246,\n",
              "  0.3471449911594391,\n",
              "  0.3466755151748657,\n",
              "  0.34947189688682556,\n",
              "  0.3490044176578522,\n",
              "  0.34913381934165955,\n",
              "  0.34914344549179077,\n",
              "  0.3572846055030823,\n",
              "  0.34999197721481323,\n",
              "  0.34877994656562805,\n",
              "  0.3455266058444977,\n",
              "  0.3500186502933502,\n",
              "  0.3468993604183197],\n",
              " 'val_loss': [0.5992801189422607,\n",
              "  0.4921205937862396,\n",
              "  0.6144654750823975,\n",
              "  0.5667941570281982,\n",
              "  0.5599831938743591,\n",
              "  0.4488501250743866,\n",
              "  0.37720775604248047,\n",
              "  0.3712442219257355,\n",
              "  0.3530723750591278,\n",
              "  0.7125270962715149,\n",
              "  0.3628036081790924,\n",
              "  0.936622679233551,\n",
              "  0.3426501452922821,\n",
              "  0.3592678904533386,\n",
              "  0.3372378945350647,\n",
              "  0.40753430128097534,\n",
              "  0.44123852252960205,\n",
              "  0.337696373462677,\n",
              "  0.3820130527019501,\n",
              "  0.34067216515541077,\n",
              "  0.33467644453048706,\n",
              "  0.7130240201950073,\n",
              "  0.47683820128440857,\n",
              "  0.31022751331329346,\n",
              "  0.34033340215682983,\n",
              "  0.5177590250968933,\n",
              "  0.3430041968822479,\n",
              "  0.30124762654304504,\n",
              "  0.3178483247756958,\n",
              "  0.4375555217266083,\n",
              "  0.5916141867637634,\n",
              "  0.34054890275001526,\n",
              "  0.32408371567726135,\n",
              "  0.33383074402809143,\n",
              "  0.33801335096359253,\n",
              "  0.3558162748813629,\n",
              "  0.36806851625442505,\n",
              "  0.3116440773010254,\n",
              "  0.30580297112464905,\n",
              "  0.499431848526001,\n",
              "  0.3370441198348999,\n",
              "  0.6589131355285645,\n",
              "  0.3146399259567261,\n",
              "  0.5623340606689453,\n",
              "  0.30473875999450684,\n",
              "  0.30137190222740173,\n",
              "  0.33438602089881897,\n",
              "  0.2951240837574005,\n",
              "  0.3853403329849243,\n",
              "  0.33314889669418335,\n",
              "  0.35674530267715454,\n",
              "  0.30181148648262024,\n",
              "  0.5380294919013977,\n",
              "  0.37439945340156555,\n",
              "  0.38639140129089355,\n",
              "  0.6384623050689697,\n",
              "  0.29879772663116455,\n",
              "  0.5006572604179382,\n",
              "  0.3766157329082489,\n",
              "  0.3055284917354584,\n",
              "  0.4547618627548218,\n",
              "  0.32203105092048645,\n",
              "  0.3554183840751648,\n",
              "  0.49687305092811584,\n",
              "  0.5002834796905518,\n",
              "  0.3506941497325897,\n",
              "  0.36171820759773254,\n",
              "  0.5358977913856506,\n",
              "  0.28759628534317017,\n",
              "  0.28500378131866455,\n",
              "  0.4242341220378876,\n",
              "  3.578974485397339,\n",
              "  0.2878131568431854,\n",
              "  0.42114490270614624,\n",
              "  0.29518821835517883,\n",
              "  0.30209797620773315,\n",
              "  0.3045940101146698,\n",
              "  0.6341022253036499,\n",
              "  0.5193233489990234,\n",
              "  0.394491046667099,\n",
              "  0.4822135865688324,\n",
              "  0.4664565920829773,\n",
              "  0.5030232071876526,\n",
              "  0.31411126255989075,\n",
              "  0.7070395350456238,\n",
              "  0.31206950545310974,\n",
              "  0.2767598032951355,\n",
              "  0.3340582251548767,\n",
              "  0.2827480733394623,\n",
              "  0.2851938307285309,\n",
              "  0.4355243146419525,\n",
              "  0.3798777163028717,\n",
              "  0.3367798626422882,\n",
              "  0.32045111060142517,\n",
              "  0.3997340798377991,\n",
              "  0.3022756576538086,\n",
              "  0.31196656823158264,\n",
              "  0.3342883288860321,\n",
              "  0.3185935914516449,\n",
              "  0.5685592293739319],\n",
              " 'val_mae': [0.5810104012489319,\n",
              "  0.5013962984085083,\n",
              "  0.6454006433486938,\n",
              "  0.5192196369171143,\n",
              "  0.5945073366165161,\n",
              "  0.5131861567497253,\n",
              "  0.4614669382572174,\n",
              "  0.44336211681365967,\n",
              "  0.43270185589790344,\n",
              "  0.6066508889198303,\n",
              "  0.42703965306282043,\n",
              "  0.7775672674179077,\n",
              "  0.39987581968307495,\n",
              "  0.41903722286224365,\n",
              "  0.4119533598423004,\n",
              "  0.43487364053726196,\n",
              "  0.5199306607246399,\n",
              "  0.4016876518726349,\n",
              "  0.4358914792537689,\n",
              "  0.4280484914779663,\n",
              "  0.4237501919269562,\n",
              "  0.6087425947189331,\n",
              "  0.515724241733551,\n",
              "  0.39124155044555664,\n",
              "  0.42640191316604614,\n",
              "  0.5785647034645081,\n",
              "  0.40133926272392273,\n",
              "  0.3759898543357849,\n",
              "  0.3976087272167206,\n",
              "  0.4455781579017639,\n",
              "  0.6115297675132751,\n",
              "  0.4013451039791107,\n",
              "  0.38201794028282166,\n",
              "  0.3954158127307892,\n",
              "  0.4169306755065918,\n",
              "  0.4496541917324066,\n",
              "  0.41649898886680603,\n",
              "  0.384507954120636,\n",
              "  0.384634405374527,\n",
              "  0.5442253351211548,\n",
              "  0.3856780230998993,\n",
              "  0.5738204121589661,\n",
              "  0.378611296415329,\n",
              "  0.5016195178031921,\n",
              "  0.39612939953804016,\n",
              "  0.37806764245033264,\n",
              "  0.385153204202652,\n",
              "  0.3763332664966583,\n",
              "  0.4294256269931793,\n",
              "  0.41178277134895325,\n",
              "  0.4434761106967926,\n",
              "  0.3946041762828827,\n",
              "  0.49698102474212646,\n",
              "  0.4045276641845703,\n",
              "  0.4229733347892761,\n",
              "  0.5429157018661499,\n",
              "  0.37694162130355835,\n",
              "  0.563448429107666,\n",
              "  0.42893779277801514,\n",
              "  0.3799620270729065,\n",
              "  0.4616359770298004,\n",
              "  0.3773941993713379,\n",
              "  0.43672117590904236,\n",
              "  0.48183614015579224,\n",
              "  0.5658769011497498,\n",
              "  0.4333449602127075,\n",
              "  0.3969901204109192,\n",
              "  0.5131883025169373,\n",
              "  0.37097442150115967,\n",
              "  0.3722009062767029,\n",
              "  0.43029123544692993,\n",
              "  1.5654488801956177,\n",
              "  0.3610250651836395,\n",
              "  0.48671284317970276,\n",
              "  0.3921731114387512,\n",
              "  0.38940244913101196,\n",
              "  0.3781450092792511,\n",
              "  0.5351405739784241,\n",
              "  0.504909098148346,\n",
              "  0.41837477684020996,\n",
              "  0.46659696102142334,\n",
              "  0.4575839340686798,\n",
              "  0.4943050444126129,\n",
              "  0.398723304271698,\n",
              "  0.634887158870697,\n",
              "  0.3665342628955841,\n",
              "  0.3591638207435608,\n",
              "  0.3788100779056549,\n",
              "  0.35782867670059204,\n",
              "  0.36154434084892273,\n",
              "  0.4457167983055115,\n",
              "  0.40996038913726807,\n",
              "  0.3885035514831543,\n",
              "  0.383505642414093,\n",
              "  0.4410496950149536,\n",
              "  0.3739815354347229,\n",
              "  0.36696305871009827,\n",
              "  0.4198903739452362,\n",
              "  0.3699636459350586,\n",
              "  0.5031750202178955]}"
            ]
          },
          "execution_count": 28,
          "metadata": {},
          "output_type": "execute_result"
        }
      ],
      "source": [
        "history.history"
      ]
    },
    {
      "cell_type": "code",
      "execution_count": null,
      "metadata": {
        "colab": {
          "base_uri": "https://localhost:8080/",
          "height": 557
        },
        "id": "eUrPtpjbTgPQ",
        "outputId": "51c620c0-cf11-4ba2-f6c1-c8041313331a"
      },
      "outputs": [
        {
          "data": {
            "image/png": "[encoded data removed]",
            "text/plain": [
              "<Figure size 1200x800 with 1 Axes>"
            ]
          },
          "metadata": {},
          "output_type": "display_data"
        },
        {
          "name": "stdout",
          "output_type": "stream",
          "text": [
            "-----------------------------------------------------------------------\n",
            "\u001b[1m129/129\u001b[0m \u001b[32m━━━━━━━━━━━━━━━━━━━━\u001b[0m\u001b[37m\u001b[0m \u001b[1m0s\u001b[0m 846us/step - loss: 0.5497 - mae: 0.4909\n",
            "Loss                   :  0.5573840141296387\n",
            "Mean Absolute Error     :  0.494515061378479\n"
          ]
        }
      ],
      "source": [
        "# plot the learning curves\n",
        "import pandas as pd\n",
        "import matplotlib.pyplot as plt\n",
        "pd.DataFrame(history.history).plot(figsize=(12, 8))\n",
        "plt.grid(True)\n",
        "#plt.gca().set_ylim(0, 1) # set the vertical range to [0-1]\n",
        "plt.show()\n",
        "\n",
        "print(\"-----------------------------------------------------------------------\")\n",
        "# Evaluate the model\n",
        "model_evaluate = model.evaluate(X_test, y_test)\n",
        "print(\"Loss                   : \",model_evaluate[0])\n",
        "print(\"Mean Absolute Error     : \",model_evaluate[1])\n"
      ]
    },
    {
      "cell_type": "code",
      "execution_count": null,
      "metadata": {
        "colab": {
          "base_uri": "https://localhost:8080/",
          "height": 1000
        },
        "id": "1wnnS6UaXV3b",
        "outputId": "eae1b3c1-802e-43e3-dbff-e3c31df72ba8"
      },
      "outputs": [
        {
          "name": "stdout",
          "output_type": "stream",
          "text": [
            "\u001b[1m129/129\u001b[0m \u001b[32m━━━━━━━━━━━━━━━━━━━━\u001b[0m\u001b[37m\u001b[0m \u001b[1m0s\u001b[0m 821us/step\n",
            "Mean Absolute Error    :  0.4945150471748585\n",
            "Mean Squared Error     :  0.5573840698032267\n",
            "Root Mean Squared Error:  0.7465815895153234\n",
            "r2_score               :  0.5863253637697883\n",
            "-----------------------------------------------------------------------\n",
            "    Actual  Predicted\n",
            "0    2.453   2.291268\n",
            "1    1.042   0.786781\n",
            "2    1.462   1.371894\n",
            "3    1.542   0.880362\n",
            "4    3.242   1.337260\n",
            "5    1.411   1.187163\n",
            "6    2.273   1.744284\n",
            "7    2.023   2.324672\n",
            "8    1.702   0.833275\n",
            "9    3.018   2.455917\n",
            "10   1.522   1.245060\n",
            "11   3.081   3.127561\n",
            "12   4.850   4.331577\n",
            "13   1.625   2.274115\n",
            "14   2.250   2.382254\n",
            "-----------------------------------------------------------------------\n"
          ]
        }
      ],
      "source": [
        "# Comparison of the actual results with the predicted results\n",
        "predicted = model.predict(X_test)\n",
        "\n",
        "# Model evaluation\n",
        "print(\"Mean Absolute Error    : \", metrics.mean_absolute_error(y_test, predicted))\n",
        "print(\"Mean Squared Error     : \", metrics.mean_squared_error(y_test, predicted))\n",
        "print(\"Root Mean Squared Error: \", np.sqrt(metrics.mean_squared_error(y_test, predicted)))\n",
        "print(\"r2_score               : \", metrics.r2_score(y_test, predicted))\n",
        "\n",
        "print(\"-----------------------------------------------------------------------\")\n",
        "df_data = pd.DataFrame({\"Actual\": y_test.flatten(), \"Predicted\": predicted.flatten()})\n",
        "print(df_data.head(15))\n",
        "print(\"-----------------------------------------------------------------------\")"
      ]
    },
    {
      "cell_type": "code",
      "execution_count": null,
      "metadata": {
        "id": "aS2Utwt3YhQO"
      },
      "outputs": [],
      "source": []
    }
  ],
  "metadata": {
    "accelerator": "GPU",
    "colab": {
      "collapsed_sections": [
        "NdoGNlZTTYUa",
        "hu5wtVsc5AIy",
        "9QygCjekayQ8",
        "qm2UojF4MQtr",
        "lqe4mIAzjNZb",
        "3DLYVxBy0Bjy"
      ],
      "provenance": [],
      "toc_visible": true
    },
    "kernelspec": {
      "display_name": "Python 3 (ipykernel)",
      "language": "python",
      "name": "python3"
    },
    "language_info": {
      "codemirror_mode": {
        "name": "ipython",
        "version": 3
      },
      "file_extension": ".py",
      "mimetype": "text/x-python",
      "name": "python",
      "nbconvert_exporter": "python",
      "pygments_lexer": "ipython3",
      "version": "3.11.5"
    }
  },
  "nbformat": 4,
  "nbformat_minor": 0
}