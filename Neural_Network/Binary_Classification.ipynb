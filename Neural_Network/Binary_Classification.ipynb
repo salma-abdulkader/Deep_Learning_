{
  "cells": [
    {
      "cell_type": "markdown",
      "metadata": {
        "id": "3DLYVxBy0Bjy"
      },
      "source": [
        "# **Breast Cancer**"
      ]
    },
    {
      "cell_type": "code",
      "execution_count": null,
      "metadata": {
        "id": "2vsT4zCK0rAL"
      },
      "outputs": [],
      "source": [
        "# Building a Regression MLP Using the Sequential API\n",
        "import tensorflow as tf\n",
        "from tensorflow import keras\n",
        "import numpy as np\n",
        "import pandas as pd\n",
        "import matplotlib.pyplot as plt\n",
        "import seaborn as sns\n",
        "\n",
        "from sklearn.datasets import load_breast_cancer\n",
        "from sklearn.model_selection import train_test_split\n",
        "from sklearn.preprocessing import StandardScaler\n",
        "from sklearn import metrics"
      ]
    },
    {
      "cell_type": "code",
      "execution_count": null,
      "metadata": {
        "id": "xdVWLiZLYfdR",
        "outputId": "255ecc1f-da2f-49e1-ec05-e459e0f71d09"
      },
      "outputs": [
        {
          "name": "stdout",
          "output_type": "stream",
          "text": [
            "Examples =  (569, 30)  Labels =  (569,)\n",
            "-----------------------------------------------------------------------\n",
            "Example 0 : \n",
            " [1.799e+01 1.038e+01 1.228e+02 1.001e+03 1.184e-01 2.776e-01 3.001e-01\n",
            " 1.471e-01 2.419e-01 7.871e-02 1.095e+00 9.053e-01 8.589e+00 1.534e+02\n",
            " 6.399e-03 4.904e-02 5.373e-02 1.587e-02 3.003e-02 6.193e-03 2.538e+01\n",
            " 1.733e+01 1.846e+02 2.019e+03 1.622e-01 6.656e-01 7.119e-01 2.654e-01\n",
            " 4.601e-01 1.189e-01] \n",
            "Label 0 : \n",
            " 0\n",
            "-----------------------------------------------------------------------\n",
            "<class 'pandas.core.frame.DataFrame'>\n",
            "RangeIndex: 569 entries, 0 to 568\n",
            "Data columns (total 31 columns):\n",
            " #   Column                   Non-Null Count  Dtype  \n",
            "---  ------                   --------------  -----  \n",
            " 0   mean radius              569 non-null    float64\n",
            " 1   mean texture             569 non-null    float64\n",
            " 2   mean perimeter           569 non-null    float64\n",
            " 3   mean area                569 non-null    float64\n",
            " 4   mean smoothness          569 non-null    float64\n",
            " 5   mean compactness         569 non-null    float64\n",
            " 6   mean concavity           569 non-null    float64\n",
            " 7   mean concave points      569 non-null    float64\n",
            " 8   mean symmetry            569 non-null    float64\n",
            " 9   mean fractal dimension   569 non-null    float64\n",
            " 10  radius error             569 non-null    float64\n",
            " 11  texture error            569 non-null    float64\n",
            " 12  perimeter error          569 non-null    float64\n",
            " 13  area error               569 non-null    float64\n",
            " 14  smoothness error         569 non-null    float64\n",
            " 15  compactness error        569 non-null    float64\n",
            " 16  concavity error          569 non-null    float64\n",
            " 17  concave points error     569 non-null    float64\n",
            " 18  symmetry error           569 non-null    float64\n",
            " 19  fractal dimension error  569 non-null    float64\n",
            " 20  worst radius             569 non-null    float64\n",
            " 21  worst texture            569 non-null    float64\n",
            " 22  worst perimeter          569 non-null    float64\n",
            " 23  worst area               569 non-null    float64\n",
            " 24  worst smoothness         569 non-null    float64\n",
            " 25  worst compactness        569 non-null    float64\n",
            " 26  worst concavity          569 non-null    float64\n",
            " 27  worst concave points     569 non-null    float64\n",
            " 28  worst symmetry           569 non-null    float64\n",
            " 29  worst fractal dimension  569 non-null    float64\n",
            " 30  diagnosis                569 non-null    int32  \n",
            "dtypes: float64(30), int32(1)\n",
            "memory usage: 135.7 KB\n",
            "Info : \n",
            " None\n"
          ]
        }
      ],
      "source": [
        "# The Breast Cancer Dataset\n",
        "data = load_breast_cancer()\n",
        "print(\"Examples = \",data.data.shape ,\" Labels = \", data.target.shape)\n",
        "\n",
        "print(\"-----------------------------------------------------------------------\")\n",
        "print(\"Example 0 : \\n\",data.data[0],\"\\nLabel 0 : \\n\",data.target[0])\n",
        "\n",
        "print(\"-----------------------------------------------------------------------\")\n",
        "# Dataset to DataFrame\n",
        "df = pd.DataFrame(data.data, columns=data.feature_names)\n",
        "df[\"diagnosis\"] = pd.Series(data.target)\n",
        "print(\"Info : \\n\",df.info())\n"
      ]
    },
    {
      "cell_type": "code",
      "execution_count": null,
      "metadata": {
        "colab": {
          "base_uri": "https://localhost:8080/",
          "height": 451
        },
        "id": "8ayQAqiU2JUX",
        "outputId": "2c9a5622-4aa5-4e59-dac7-6c556bc8d715"
      },
      "outputs": [
        {
          "name": "stdout",
          "output_type": "stream",
          "text": [
            "diagnosis        : \n",
            " diagnosis\n",
            "1    357\n",
            "0    212\n",
            "Name: count, dtype: int64\n",
            "\n",
            "\n",
            "diagnosis\n",
            "1    0.627417\n",
            "0    0.372583\n",
            "Name: proportion, dtype: float64\n"
          ]
        },
        {
          "data": {
            "text/plain": [
              "<Axes: title={'center': 'diagnosis'}, xlabel='diagnosis'>"
            ]
          },
          "execution_count": 17,
          "metadata": {},
          "output_type": "execute_result"
        },
        {
          "data": {
            "image/png": "[encoded data removed]",
            "text/plain": [
              "<Figure size 640x480 with 1 Axes>"
            ]
          },
          "metadata": {},
          "output_type": "display_data"
        }
      ],
      "source": [
        "# Lets know how many values for malignant and for benign type of cancer\n",
        "print(\"diagnosis        : \\n\",df[\"diagnosis\"].value_counts())\n",
        "print(\"\\n\")\n",
        "print(df[\"diagnosis\"].value_counts(normalize=True))\n",
        "\n",
        "# plot.bar(title='') function is used to plot bargraph\n",
        "df[\"diagnosis\"].value_counts().plot.bar(title=\"diagnosis\")\n"
      ]
    },
    {
      "cell_type": "code",
      "execution_count": null,
      "metadata": {
        "colab": {
          "base_uri": "https://localhost:8080/"
        },
        "id": "xjL4bqx_2UfM",
        "outputId": "364d055e-7d0f-4cd9-93d7-1c573194a7d1"
      },
      "outputs": [
        {
          "name": "stdout",
          "output_type": "stream",
          "text": [
            "Number of duplicate rows :  (0, 31)\n"
          ]
        }
      ],
      "source": [
        "# Dropping the duplicate rows\n",
        "duplicate_rows = df[df.duplicated()]\n",
        "print(\"Number of duplicate rows : \",duplicate_rows.shape)\n",
        "\n",
        "# df.drop_duplicates(inplace=True)"
      ]
    },
    {
      "cell_type": "code",
      "execution_count": null,
      "metadata": {
        "colab": {
          "base_uri": "https://localhost:8080/",
          "height": 964
        },
        "id": "hkPsr7xf2aVI",
        "outputId": "0bf9fbb3-818d-40fa-9e03-ecc235dbe7ea"
      },
      "outputs": [
        {
          "name": "stdout",
          "output_type": "stream",
          "text": [
            "SUM : \n",
            " mean radius                0\n",
            "mean texture               0\n",
            "mean perimeter             0\n",
            "mean area                  0\n",
            "mean smoothness            0\n",
            "mean compactness           0\n",
            "mean concavity             0\n",
            "mean concave points        0\n",
            "mean symmetry              0\n",
            "mean fractal dimension     0\n",
            "radius error               0\n",
            "texture error              0\n",
            "perimeter error            0\n",
            "area error                 0\n",
            "smoothness error           0\n",
            "compactness error          0\n",
            "concavity error            0\n",
            "concave points error       0\n",
            "symmetry error             0\n",
            "fractal dimension error    0\n",
            "worst radius               0\n",
            "worst texture              0\n",
            "worst perimeter            0\n",
            "worst area                 0\n",
            "worst smoothness           0\n",
            "worst compactness          0\n",
            "worst concavity            0\n",
            "worst concave points       0\n",
            "worst symmetry             0\n",
            "worst fractal dimension    0\n",
            "diagnosis                  0\n",
            "dtype: int64\n"
          ]
        },
        {
          "data": {
            "text/plain": [
              "<Axes: >"
            ]
          },
          "execution_count": 19,
          "metadata": {},
          "output_type": "execute_result"
        },
        {
          "data": {
            "image/png": "[encoded data removed]",
            "text/plain": [
              "<Figure size 640x480 with 1 Axes>"
            ]
          },
          "metadata": {},
          "output_type": "display_data"
        }
      ],
      "source": [
        "# To check missing values\n",
        "print(\"SUM : \\n\",df.isnull().sum())\n",
        "sns.heatmap(df.isnull(), cbar=False, yticklabels=False, cmap=\"viridis\")\n",
        "\n",
        "# df[\"col\"] = df[\"col\"].fillna(df[\"col\"].mean())\n",
        "# df[\"col\"] = df[\"col\"].fillna(df[\"col\"].interpolate())"
      ]
    },
    {
      "cell_type": "code",
      "execution_count": null,
      "metadata": {
        "colab": {
          "base_uri": "https://localhost:8080/"
        },
        "id": "twFTBZkA3TTh",
        "outputId": "492a9312-94aa-4bda-86f4-a0236e51dc17"
      },
      "outputs": [
        {
          "name": "stdout",
          "output_type": "stream",
          "text": [
            "X :  (569, 30)  y :  (569,)\n",
            "X_train =  (455, 30)  y_train =  (455,)\n",
            "X_test  =  (114, 30)  y_test  =  (114,)\n"
          ]
        }
      ],
      "source": [
        "# Define X variables and our target(y)\n",
        "X = df.drop([\"diagnosis\"],axis=1).values\n",
        "y = df[\"diagnosis\"].values\n",
        "print(\"X : \",X.shape,\" y : \",y.shape)\n",
        "\n",
        "# Standardization\n",
        "from sklearn.preprocessing import StandardScaler\n",
        "my_scaler = StandardScaler()\n",
        "my_scaler.fit(X)\n",
        "X_scaler = my_scaler.transform(X)\n",
        "\n",
        "# Split into Input and Output Elements\n",
        "from sklearn.model_selection import train_test_split\n",
        "X_train, X_test, y_train, y_test = train_test_split(X_scaler,\n",
        "                       y, test_size= 0.20, random_state=100, stratify=y)\n",
        "\n",
        "print(\"X_train = \",X_train.shape ,\" y_train = \", y_train.shape)\n",
        "print(\"X_test  = \",X_test.shape ,\" y_test  = \", y_test.shape)\n"
      ]
    },
    {
      "cell_type": "code",
      "execution_count": null,
      "metadata": {
        "id": "jwwUt3AEYfdW",
        "outputId": "eb6f06fc-56ad-4ee8-8ad5-824482431e65"
      },
      "outputs": [
        {
          "data": {
            "text/plain": [
              "tuple"
            ]
          },
          "execution_count": 21,
          "metadata": {},
          "output_type": "execute_result"
        }
      ],
      "source": [
        "type(X_train.shape[1:])"
      ]
    },
    {
      "cell_type": "code",
      "execution_count": null,
      "metadata": {
        "id": "xhy9rhx13gPx",
        "outputId": "7952b9e6-aba6-4382-c3f4-5d5cb66cea5c"
      },
      "outputs": [
        {
          "name": "stderr",
          "output_type": "stream",
          "text": [
            "C:\\Users\\Nvidia\\anaconda3\\Lib\\site-packages\\keras\\src\\layers\\core\\dense.py:86: UserWarning: Do not pass an `input_shape`/`input_dim` argument to a layer. When using Sequential models, prefer using an `Input(shape)` object as the first layer in the model instead.\n",
            "  super().__init__(activity_regularizer=activity_regularizer, **kwargs)\n"
          ]
        }
      ],
      "source": [
        "# Define the model\n",
        "model = keras.Sequential()\n",
        "model.add(keras.layers.Dense(32,  activation=\"relu\", input_shape = X_train.shape[1:]))\n",
        "model.add(keras.layers.Dense(16, activation=\"relu\"))\n",
        "model.add(keras.layers.Dense(1, activation=\"sigmoid\"))\n",
        "\n"
      ]
    },
    {
      "cell_type": "code",
      "execution_count": null,
      "metadata": {
        "id": "OL3S7Pc43uf_",
        "outputId": "fc9b3ca8-1ce2-497a-fd71-3ab55ccaac94"
      },
      "outputs": [
        {
          "name": "stdout",
          "output_type": "stream",
          "text": [
            "Epoch 1/100\n",
            "\u001b[1m6/6\u001b[0m \u001b[32m━━━━━━━━━━━━━━━━━━━━\u001b[0m\u001b[37m\u001b[0m \u001b[1m1s\u001b[0m 41ms/step - accuracy: 0.4296 - loss: 0.8457 - val_accuracy: 0.4615 - val_loss: 0.8064\n",
            "Epoch 2/100\n",
            "\u001b[1m6/6\u001b[0m \u001b[32m━━━━━━━━━━━━━━━━━━━━\u001b[0m\u001b[37m\u001b[0m \u001b[1m0s\u001b[0m 7ms/step - accuracy: 0.5902 - loss: 0.7203 - val_accuracy: 0.5934 - val_loss: 0.6637\n",
            "Epoch 3/100\n",
            "\u001b[1m6/6\u001b[0m \u001b[32m━━━━━━━━━━━━━━━━━━━━\u001b[0m\u001b[37m\u001b[0m \u001b[1m0s\u001b[0m 7ms/step - accuracy: 0.7247 - loss: 0.5767 - val_accuracy: 0.7363 - val_loss: 0.5591\n",
            "Epoch 4/100\n",
            "\u001b[1m6/6\u001b[0m \u001b[32m━━━━━━━━━━━━━━━━━━━━\u001b[0m\u001b[37m\u001b[0m \u001b[1m0s\u001b[0m 7ms/step - accuracy: 0.8327 - loss: 0.4918 - val_accuracy: 0.8462 - val_loss: 0.4786\n",
            "Epoch 5/100\n",
            "\u001b[1m6/6\u001b[0m \u001b[32m━━━━━━━━━━━━━━━━━━━━\u001b[0m\u001b[37m\u001b[0m \u001b[1m0s\u001b[0m 7ms/step - accuracy: 0.8800 - loss: 0.4065 - val_accuracy: 0.8901 - val_loss: 0.4109\n",
            "Epoch 6/100\n",
            "\u001b[1m6/6\u001b[0m \u001b[32m━━━━━━━━━━━━━━━━━━━━\u001b[0m\u001b[37m\u001b[0m \u001b[1m0s\u001b[0m 7ms/step - accuracy: 0.9154 - loss: 0.3475 - val_accuracy: 0.9121 - val_loss: 0.3559\n",
            "Epoch 7/100\n",
            "\u001b[1m6/6\u001b[0m \u001b[32m━━━━━━━━━━━━━━━━━━━━\u001b[0m\u001b[37m\u001b[0m \u001b[1m0s\u001b[0m 6ms/step - accuracy: 0.9499 - loss: 0.2956 - val_accuracy: 0.9231 - val_loss: 0.3116\n",
            "Epoch 8/100\n",
            "\u001b[1m6/6\u001b[0m \u001b[32m━━━━━━━━━━━━━━━━━━━━\u001b[0m\u001b[37m\u001b[0m \u001b[1m0s\u001b[0m 7ms/step - accuracy: 0.9648 - loss: 0.2477 - val_accuracy: 0.9451 - val_loss: 0.2759\n",
            "Epoch 9/100\n",
            "\u001b[1m6/6\u001b[0m \u001b[32m━━━━━━━━━━━━━━━━━━━━\u001b[0m\u001b[37m\u001b[0m \u001b[1m0s\u001b[0m 6ms/step - accuracy: 0.9461 - loss: 0.2202 - val_accuracy: 0.9451 - val_loss: 0.2474\n",
            "Epoch 10/100\n",
            "\u001b[1m6/6\u001b[0m \u001b[32m━━━━━━━━━━━━━━━━━━━━\u001b[0m\u001b[37m\u001b[0m \u001b[1m0s\u001b[0m 7ms/step - accuracy: 0.9637 - loss: 0.2008 - val_accuracy: 0.9451 - val_loss: 0.2240\n",
            "Epoch 11/100\n",
            "\u001b[1m6/6\u001b[0m \u001b[32m━━━━━━━━━━━━━━━━━━━━\u001b[0m\u001b[37m\u001b[0m \u001b[1m0s\u001b[0m 7ms/step - accuracy: 0.9674 - loss: 0.1680 - val_accuracy: 0.9451 - val_loss: 0.2044\n",
            "Epoch 12/100\n",
            "\u001b[1m6/6\u001b[0m \u001b[32m━━━━━━━━━━━━━━━━━━━━\u001b[0m\u001b[37m\u001b[0m \u001b[1m0s\u001b[0m 6ms/step - accuracy: 0.9649 - loss: 0.1593 - val_accuracy: 0.9451 - val_loss: 0.1882\n",
            "Epoch 13/100\n",
            "\u001b[1m6/6\u001b[0m \u001b[32m━━━━━━━━━━━━━━━━━━━━\u001b[0m\u001b[37m\u001b[0m \u001b[1m0s\u001b[0m 6ms/step - accuracy: 0.9657 - loss: 0.1451 - val_accuracy: 0.9560 - val_loss: 0.1743\n",
            "Epoch 14/100\n",
            "\u001b[1m6/6\u001b[0m \u001b[32m━━━━━━━━━━━━━━━━━━━━\u001b[0m\u001b[37m\u001b[0m \u001b[1m0s\u001b[0m 7ms/step - accuracy: 0.9623 - loss: 0.1532 - val_accuracy: 0.9670 - val_loss: 0.1622\n",
            "Epoch 15/100\n",
            "\u001b[1m6/6\u001b[0m \u001b[32m━━━━━━━━━━━━━━━━━━━━\u001b[0m\u001b[37m\u001b[0m \u001b[1m0s\u001b[0m 7ms/step - accuracy: 0.9684 - loss: 0.1223 - val_accuracy: 0.9670 - val_loss: 0.1522\n",
            "Epoch 16/100\n",
            "\u001b[1m6/6\u001b[0m \u001b[32m━━━━━━━━━━━━━━━━━━━━\u001b[0m\u001b[37m\u001b[0m \u001b[1m0s\u001b[0m 6ms/step - accuracy: 0.9631 - loss: 0.1260 - val_accuracy: 0.9670 - val_loss: 0.1433\n",
            "Epoch 17/100\n",
            "\u001b[1m6/6\u001b[0m \u001b[32m━━━━━━━━━━━━━━━━━━━━\u001b[0m\u001b[37m\u001b[0m \u001b[1m0s\u001b[0m 7ms/step - accuracy: 0.9549 - loss: 0.1284 - val_accuracy: 0.9670 - val_loss: 0.1352\n",
            "Epoch 18/100\n",
            "\u001b[1m6/6\u001b[0m \u001b[32m━━━━━━━━━━━━━━━━━━━━\u001b[0m\u001b[37m\u001b[0m \u001b[1m0s\u001b[0m 6ms/step - accuracy: 0.9762 - loss: 0.1034 - val_accuracy: 0.9670 - val_loss: 0.1282\n",
            "Epoch 19/100\n",
            "\u001b[1m6/6\u001b[0m \u001b[32m━━━━━━━━━━━━━━━━━━━━\u001b[0m\u001b[37m\u001b[0m \u001b[1m0s\u001b[0m 7ms/step - accuracy: 0.9715 - loss: 0.1086 - val_accuracy: 0.9780 - val_loss: 0.1226\n",
            "Epoch 20/100\n",
            "\u001b[1m6/6\u001b[0m \u001b[32m━━━━━━━━━━━━━━━━━━━━\u001b[0m\u001b[37m\u001b[0m \u001b[1m0s\u001b[0m 7ms/step - accuracy: 0.9843 - loss: 0.0839 - val_accuracy: 0.9780 - val_loss: 0.1175\n",
            "Epoch 21/100\n",
            "\u001b[1m6/6\u001b[0m \u001b[32m━━━━━━━━━━━━━━━━━━━━\u001b[0m\u001b[37m\u001b[0m \u001b[1m0s\u001b[0m 6ms/step - accuracy: 0.9762 - loss: 0.0951 - val_accuracy: 0.9780 - val_loss: 0.1127\n",
            "Epoch 22/100\n",
            "\u001b[1m6/6\u001b[0m \u001b[32m━━━━━━━━━━━━━━━━━━━━\u001b[0m\u001b[37m\u001b[0m \u001b[1m0s\u001b[0m 7ms/step - accuracy: 0.9784 - loss: 0.0868 - val_accuracy: 0.9780 - val_loss: 0.1085\n",
            "Epoch 23/100\n",
            "\u001b[1m6/6\u001b[0m \u001b[32m━━━━━━━━━━━━━━━━━━━━\u001b[0m\u001b[37m\u001b[0m \u001b[1m0s\u001b[0m 7ms/step - accuracy: 0.9699 - loss: 0.1023 - val_accuracy: 0.9780 - val_loss: 0.1047\n",
            "Epoch 24/100\n",
            "\u001b[1m6/6\u001b[0m \u001b[32m━━━━━━━━━━━━━━━━━━━━\u001b[0m\u001b[37m\u001b[0m \u001b[1m0s\u001b[0m 6ms/step - accuracy: 0.9792 - loss: 0.0700 - val_accuracy: 0.9780 - val_loss: 0.1016\n",
            "Epoch 25/100\n",
            "\u001b[1m6/6\u001b[0m \u001b[32m━━━━━━━━━━━━━━━━━━━━\u001b[0m\u001b[37m\u001b[0m \u001b[1m0s\u001b[0m 7ms/step - accuracy: 0.9853 - loss: 0.0709 - val_accuracy: 0.9780 - val_loss: 0.0984\n",
            "Epoch 26/100\n",
            "\u001b[1m6/6\u001b[0m \u001b[32m━━━━━━━━━━━━━━━━━━━━\u001b[0m\u001b[37m\u001b[0m \u001b[1m0s\u001b[0m 7ms/step - accuracy: 0.9852 - loss: 0.0730 - val_accuracy: 0.9780 - val_loss: 0.0948\n",
            "Epoch 27/100\n",
            "\u001b[1m6/6\u001b[0m \u001b[32m━━━━━━━━━━━━━━━━━━━━\u001b[0m\u001b[37m\u001b[0m \u001b[1m0s\u001b[0m 7ms/step - accuracy: 0.9807 - loss: 0.0686 - val_accuracy: 0.9780 - val_loss: 0.0919\n",
            "Epoch 28/100\n",
            "\u001b[1m6/6\u001b[0m \u001b[32m━━━━━━━━━━━━━━━━━━━━\u001b[0m\u001b[37m\u001b[0m \u001b[1m0s\u001b[0m 7ms/step - accuracy: 0.9744 - loss: 0.0935 - val_accuracy: 0.9780 - val_loss: 0.0892\n",
            "Epoch 29/100\n",
            "\u001b[1m6/6\u001b[0m \u001b[32m━━━━━━━━━━━━━━━━━━━━\u001b[0m\u001b[37m\u001b[0m \u001b[1m0s\u001b[0m 7ms/step - accuracy: 0.9796 - loss: 0.0747 - val_accuracy: 0.9780 - val_loss: 0.0875\n",
            "Epoch 30/100\n",
            "\u001b[1m6/6\u001b[0m \u001b[32m━━━━━━━━━━━━━━━━━━━━\u001b[0m\u001b[37m\u001b[0m \u001b[1m0s\u001b[0m 7ms/step - accuracy: 0.9777 - loss: 0.0627 - val_accuracy: 0.9780 - val_loss: 0.0857\n",
            "Epoch 31/100\n",
            "\u001b[1m6/6\u001b[0m \u001b[32m━━━━━━━━━━━━━━━━━━━━\u001b[0m\u001b[37m\u001b[0m \u001b[1m0s\u001b[0m 7ms/step - accuracy: 0.9871 - loss: 0.0529 - val_accuracy: 0.9780 - val_loss: 0.0844\n",
            "Epoch 32/100\n",
            "\u001b[1m6/6\u001b[0m \u001b[32m━━━━━━━━━━━━━━━━━━━━\u001b[0m\u001b[37m\u001b[0m \u001b[1m0s\u001b[0m 7ms/step - accuracy: 0.9932 - loss: 0.0551 - val_accuracy: 0.9780 - val_loss: 0.0835\n",
            "Epoch 33/100\n",
            "\u001b[1m6/6\u001b[0m \u001b[32m━━━━━━━━━━━━━━━━━━━━\u001b[0m\u001b[37m\u001b[0m \u001b[1m0s\u001b[0m 7ms/step - accuracy: 0.9802 - loss: 0.0677 - val_accuracy: 0.9780 - val_loss: 0.0815\n",
            "Epoch 34/100\n",
            "\u001b[1m6/6\u001b[0m \u001b[32m━━━━━━━━━━━━━━━━━━━━\u001b[0m\u001b[37m\u001b[0m \u001b[1m0s\u001b[0m 7ms/step - accuracy: 0.9929 - loss: 0.0502 - val_accuracy: 0.9670 - val_loss: 0.0805\n",
            "Epoch 35/100\n",
            "\u001b[1m6/6\u001b[0m \u001b[32m━━━━━━━━━━━━━━━━━━━━\u001b[0m\u001b[37m\u001b[0m \u001b[1m0s\u001b[0m 7ms/step - accuracy: 0.9873 - loss: 0.0579 - val_accuracy: 0.9670 - val_loss: 0.0791\n",
            "Epoch 36/100\n",
            "\u001b[1m6/6\u001b[0m \u001b[32m━━━━━━━━━━━━━━━━━━━━\u001b[0m\u001b[37m\u001b[0m \u001b[1m0s\u001b[0m 7ms/step - accuracy: 0.9902 - loss: 0.0507 - val_accuracy: 0.9670 - val_loss: 0.0786\n",
            "Epoch 37/100\n",
            "\u001b[1m6/6\u001b[0m \u001b[32m━━━━━━━━━━━━━━━━━━━━\u001b[0m\u001b[37m\u001b[0m \u001b[1m0s\u001b[0m 7ms/step - accuracy: 0.9849 - loss: 0.0507 - val_accuracy: 0.9670 - val_loss: 0.0781\n",
            "Epoch 38/100\n",
            "\u001b[1m6/6\u001b[0m \u001b[32m━━━━━━━━━━━━━━━━━━━━\u001b[0m\u001b[37m\u001b[0m \u001b[1m0s\u001b[0m 7ms/step - accuracy: 0.9867 - loss: 0.0468 - val_accuracy: 0.9670 - val_loss: 0.0772\n",
            "Epoch 39/100\n",
            "\u001b[1m6/6\u001b[0m \u001b[32m━━━━━━━━━━━━━━━━━━━━\u001b[0m\u001b[37m\u001b[0m \u001b[1m0s\u001b[0m 7ms/step - accuracy: 0.9938 - loss: 0.0442 - val_accuracy: 0.9670 - val_loss: 0.0749\n",
            "Epoch 40/100\n",
            "\u001b[1m6/6\u001b[0m \u001b[32m━━━━━━━━━━━━━━━━━━━━\u001b[0m\u001b[37m\u001b[0m \u001b[1m0s\u001b[0m 7ms/step - accuracy: 0.9913 - loss: 0.0508 - val_accuracy: 0.9670 - val_loss: 0.0734\n",
            "Epoch 41/100\n",
            "\u001b[1m6/6\u001b[0m \u001b[32m━━━━━━━━━━━━━━━━━━━━\u001b[0m\u001b[37m\u001b[0m \u001b[1m0s\u001b[0m 7ms/step - accuracy: 0.9905 - loss: 0.0607 - val_accuracy: 0.9670 - val_loss: 0.0726\n",
            "Epoch 42/100\n",
            "\u001b[1m6/6\u001b[0m \u001b[32m━━━━━━━━━━━━━━━━━━━━\u001b[0m\u001b[37m\u001b[0m \u001b[1m0s\u001b[0m 7ms/step - accuracy: 0.9957 - loss: 0.0494 - val_accuracy: 0.9670 - val_loss: 0.0724\n",
            "Epoch 43/100\n",
            "\u001b[1m6/6\u001b[0m \u001b[32m━━━━━━━━━━━━━━━━━━━━\u001b[0m\u001b[37m\u001b[0m \u001b[1m0s\u001b[0m 7ms/step - accuracy: 0.9951 - loss: 0.0493 - val_accuracy: 0.9670 - val_loss: 0.0728\n",
            "Epoch 44/100\n",
            "\u001b[1m6/6\u001b[0m \u001b[32m━━━━━━━━━━━━━━━━━━━━\u001b[0m\u001b[37m\u001b[0m \u001b[1m0s\u001b[0m 7ms/step - accuracy: 0.9923 - loss: 0.0557 - val_accuracy: 0.9670 - val_loss: 0.0724\n",
            "Epoch 45/100\n",
            "\u001b[1m6/6\u001b[0m \u001b[32m━━━━━━━━━━━━━━━━━━━━\u001b[0m\u001b[37m\u001b[0m \u001b[1m0s\u001b[0m 6ms/step - accuracy: 0.9970 - loss: 0.0336 - val_accuracy: 0.9670 - val_loss: 0.0725\n",
            "Epoch 46/100\n",
            "\u001b[1m6/6\u001b[0m \u001b[32m━━━━━━━━━━━━━━━━━━━━\u001b[0m\u001b[37m\u001b[0m \u001b[1m0s\u001b[0m 7ms/step - accuracy: 0.9938 - loss: 0.0478 - val_accuracy: 0.9670 - val_loss: 0.0718\n",
            "Epoch 47/100\n",
            "\u001b[1m6/6\u001b[0m \u001b[32m━━━━━━━━━━━━━━━━━━━━\u001b[0m\u001b[37m\u001b[0m \u001b[1m0s\u001b[0m 6ms/step - accuracy: 0.9967 - loss: 0.0428 - val_accuracy: 0.9670 - val_loss: 0.0714\n",
            "Epoch 48/100\n",
            "\u001b[1m6/6\u001b[0m \u001b[32m━━━━━━━━━━━━━━━━━━━━\u001b[0m\u001b[37m\u001b[0m \u001b[1m0s\u001b[0m 7ms/step - accuracy: 0.9916 - loss: 0.0515 - val_accuracy: 0.9670 - val_loss: 0.0702\n",
            "Epoch 49/100\n",
            "\u001b[1m6/6\u001b[0m \u001b[32m━━━━━━━━━━━━━━━━━━━━\u001b[0m\u001b[37m\u001b[0m \u001b[1m0s\u001b[0m 7ms/step - accuracy: 0.9929 - loss: 0.0482 - val_accuracy: 0.9670 - val_loss: 0.0702\n",
            "Epoch 50/100\n",
            "\u001b[1m6/6\u001b[0m \u001b[32m━━━━━━━━━━━━━━━━━━━━\u001b[0m\u001b[37m\u001b[0m \u001b[1m0s\u001b[0m 6ms/step - accuracy: 0.9905 - loss: 0.0492 - val_accuracy: 0.9670 - val_loss: 0.0697\n",
            "Epoch 51/100\n",
            "\u001b[1m6/6\u001b[0m \u001b[32m━━━━━━━━━━━━━━━━━━━━\u001b[0m\u001b[37m\u001b[0m \u001b[1m0s\u001b[0m 6ms/step - accuracy: 0.9951 - loss: 0.0388 - val_accuracy: 0.9670 - val_loss: 0.0698\n",
            "Epoch 52/100\n",
            "\u001b[1m6/6\u001b[0m \u001b[32m━━━━━━━━━━━━━━━━━━━━\u001b[0m\u001b[37m\u001b[0m \u001b[1m0s\u001b[0m 6ms/step - accuracy: 0.9923 - loss: 0.0442 - val_accuracy: 0.9670 - val_loss: 0.0694\n",
            "Epoch 53/100\n",
            "\u001b[1m6/6\u001b[0m \u001b[32m━━━━━━━━━━━━━━━━━━━━\u001b[0m\u001b[37m\u001b[0m \u001b[1m0s\u001b[0m 6ms/step - accuracy: 0.9923 - loss: 0.0428 - val_accuracy: 0.9670 - val_loss: 0.0695\n",
            "Epoch 54/100\n",
            "\u001b[1m6/6\u001b[0m \u001b[32m━━━━━━━━━━━━━━━━━━━━\u001b[0m\u001b[37m\u001b[0m \u001b[1m0s\u001b[0m 11ms/step - accuracy: 0.9951 - loss: 0.0347 - val_accuracy: 0.9670 - val_loss: 0.0692\n",
            "Epoch 55/100\n",
            "\u001b[1m6/6\u001b[0m \u001b[32m━━━━━━━━━━━━━━━━━━━━\u001b[0m\u001b[37m\u001b[0m \u001b[1m0s\u001b[0m 7ms/step - accuracy: 0.9946 - loss: 0.0358 - val_accuracy: 0.9670 - val_loss: 0.0690\n",
            "Epoch 56/100\n",
            "\u001b[1m6/6\u001b[0m \u001b[32m━━━━━━━━━━━━━━━━━━━━\u001b[0m\u001b[37m\u001b[0m \u001b[1m0s\u001b[0m 6ms/step - accuracy: 0.9967 - loss: 0.0285 - val_accuracy: 0.9670 - val_loss: 0.0688\n",
            "Epoch 57/100\n",
            "\u001b[1m6/6\u001b[0m \u001b[32m━━━━━━━━━━━━━━━━━━━━\u001b[0m\u001b[37m\u001b[0m \u001b[1m0s\u001b[0m 6ms/step - accuracy: 0.9975 - loss: 0.0280 - val_accuracy: 0.9670 - val_loss: 0.0689\n",
            "Epoch 58/100\n",
            "\u001b[1m6/6\u001b[0m \u001b[32m━━━━━━━━━━━━━━━━━━━━\u001b[0m\u001b[37m\u001b[0m \u001b[1m0s\u001b[0m 7ms/step - accuracy: 0.9970 - loss: 0.0288 - val_accuracy: 0.9670 - val_loss: 0.0687\n",
            "Epoch 59/100\n",
            "\u001b[1m6/6\u001b[0m \u001b[32m━━━━━━━━━━━━━━━━━━━━\u001b[0m\u001b[37m\u001b[0m \u001b[1m0s\u001b[0m 6ms/step - accuracy: 0.9964 - loss: 0.0296 - val_accuracy: 0.9670 - val_loss: 0.0684\n",
            "Epoch 60/100\n",
            "\u001b[1m6/6\u001b[0m \u001b[32m━━━━━━━━━━━━━━━━━━━━\u001b[0m\u001b[37m\u001b[0m \u001b[1m0s\u001b[0m 7ms/step - accuracy: 0.9929 - loss: 0.0340 - val_accuracy: 0.9670 - val_loss: 0.0676\n",
            "Epoch 61/100\n",
            "\u001b[1m6/6\u001b[0m \u001b[32m━━━━━━━━━━━━━━━━━━━━\u001b[0m\u001b[37m\u001b[0m \u001b[1m0s\u001b[0m 7ms/step - accuracy: 0.9962 - loss: 0.0247 - val_accuracy: 0.9670 - val_loss: 0.0677\n",
            "Epoch 62/100\n",
            "\u001b[1m6/6\u001b[0m \u001b[32m━━━━━━━━━━━━━━━━━━━━\u001b[0m\u001b[37m\u001b[0m \u001b[1m0s\u001b[0m 7ms/step - accuracy: 0.9929 - loss: 0.0316 - val_accuracy: 0.9670 - val_loss: 0.0675\n",
            "Epoch 63/100\n",
            "\u001b[1m6/6\u001b[0m \u001b[32m━━━━━━━━━━━━━━━━━━━━\u001b[0m\u001b[37m\u001b[0m \u001b[1m0s\u001b[0m 7ms/step - accuracy: 0.9905 - loss: 0.0395 - val_accuracy: 0.9670 - val_loss: 0.0677\n",
            "Epoch 64/100\n",
            "\u001b[1m6/6\u001b[0m \u001b[32m━━━━━━━━━━━━━━━━━━━━\u001b[0m\u001b[37m\u001b[0m \u001b[1m0s\u001b[0m 7ms/step - accuracy: 0.9938 - loss: 0.0296 - val_accuracy: 0.9670 - val_loss: 0.0678\n",
            "Epoch 65/100\n",
            "\u001b[1m6/6\u001b[0m \u001b[32m━━━━━━━━━━━━━━━━━━━━\u001b[0m\u001b[37m\u001b[0m \u001b[1m0s\u001b[0m 6ms/step - accuracy: 0.9964 - loss: 0.0221 - val_accuracy: 0.9670 - val_loss: 0.0679\n",
            "Epoch 66/100\n",
            "\u001b[1m6/6\u001b[0m \u001b[32m━━━━━━━━━━━━━━━━━━━━\u001b[0m\u001b[37m\u001b[0m \u001b[1m0s\u001b[0m 6ms/step - accuracy: 0.9882 - loss: 0.0403 - val_accuracy: 0.9670 - val_loss: 0.0670\n",
            "Epoch 67/100\n",
            "\u001b[1m6/6\u001b[0m \u001b[32m━━━━━━━━━━━━━━━━━━━━\u001b[0m\u001b[37m\u001b[0m \u001b[1m0s\u001b[0m 7ms/step - accuracy: 0.9905 - loss: 0.0373 - val_accuracy: 0.9670 - val_loss: 0.0679\n",
            "Epoch 68/100\n",
            "\u001b[1m6/6\u001b[0m \u001b[32m━━━━━━━━━━━━━━━━━━━━\u001b[0m\u001b[37m\u001b[0m \u001b[1m0s\u001b[0m 7ms/step - accuracy: 0.9946 - loss: 0.0288 - val_accuracy: 0.9670 - val_loss: 0.0682\n",
            "Epoch 69/100\n",
            "\u001b[1m6/6\u001b[0m \u001b[32m━━━━━━━━━━━━━━━━━━━━\u001b[0m\u001b[37m\u001b[0m \u001b[1m0s\u001b[0m 7ms/step - accuracy: 0.9933 - loss: 0.0324 - val_accuracy: 0.9670 - val_loss: 0.0686\n",
            "Epoch 70/100\n",
            "\u001b[1m6/6\u001b[0m \u001b[32m━━━━━━━━━━━━━━━━━━━━\u001b[0m\u001b[37m\u001b[0m \u001b[1m0s\u001b[0m 7ms/step - accuracy: 0.9929 - loss: 0.0290 - val_accuracy: 0.9670 - val_loss: 0.0670\n",
            "Epoch 71/100\n",
            "\u001b[1m6/6\u001b[0m \u001b[32m━━━━━━━━━━━━━━━━━━━━\u001b[0m\u001b[37m\u001b[0m \u001b[1m0s\u001b[0m 8ms/step - accuracy: 0.9951 - loss: 0.0277 - val_accuracy: 0.9670 - val_loss: 0.0670\n",
            "Epoch 72/100\n",
            "\u001b[1m6/6\u001b[0m \u001b[32m━━━━━━━━━━━━━━━━━━━━\u001b[0m\u001b[37m\u001b[0m \u001b[1m0s\u001b[0m 7ms/step - accuracy: 0.9946 - loss: 0.0275 - val_accuracy: 0.9670 - val_loss: 0.0671\n",
            "Epoch 73/100\n",
            "\u001b[1m6/6\u001b[0m \u001b[32m━━━━━━━━━━━━━━━━━━━━\u001b[0m\u001b[37m\u001b[0m \u001b[1m0s\u001b[0m 7ms/step - accuracy: 0.9933 - loss: 0.0272 - val_accuracy: 0.9670 - val_loss: 0.0670\n",
            "Epoch 74/100\n",
            "\u001b[1m6/6\u001b[0m \u001b[32m━━━━━━━━━━━━━━━━━━━━\u001b[0m\u001b[37m\u001b[0m \u001b[1m0s\u001b[0m 6ms/step - accuracy: 0.9882 - loss: 0.0328 - val_accuracy: 0.9670 - val_loss: 0.0670\n",
            "Epoch 75/100\n",
            "\u001b[1m6/6\u001b[0m \u001b[32m━━━━━━━━━━━━━━━━━━━━\u001b[0m\u001b[37m\u001b[0m \u001b[1m0s\u001b[0m 6ms/step - accuracy: 0.9923 - loss: 0.0274 - val_accuracy: 0.9670 - val_loss: 0.0678\n",
            "Epoch 76/100\n",
            "\u001b[1m6/6\u001b[0m \u001b[32m━━━━━━━━━━━━━━━━━━━━\u001b[0m\u001b[37m\u001b[0m \u001b[1m0s\u001b[0m 6ms/step - accuracy: 0.9905 - loss: 0.0285 - val_accuracy: 0.9670 - val_loss: 0.0681\n",
            "Epoch 77/100\n",
            "\u001b[1m6/6\u001b[0m \u001b[32m━━━━━━━━━━━━━━━━━━━━\u001b[0m\u001b[37m\u001b[0m \u001b[1m0s\u001b[0m 6ms/step - accuracy: 0.9927 - loss: 0.0239 - val_accuracy: 0.9670 - val_loss: 0.0685\n",
            "Epoch 78/100\n",
            "\u001b[1m6/6\u001b[0m \u001b[32m━━━━━━━━━━━━━━━━━━━━\u001b[0m\u001b[37m\u001b[0m \u001b[1m0s\u001b[0m 7ms/step - accuracy: 0.9951 - loss: 0.0211 - val_accuracy: 0.9670 - val_loss: 0.0691\n",
            "Epoch 79/100\n",
            "\u001b[1m6/6\u001b[0m \u001b[32m━━━━━━━━━━━━━━━━━━━━\u001b[0m\u001b[37m\u001b[0m \u001b[1m0s\u001b[0m 6ms/step - accuracy: 0.9905 - loss: 0.0280 - val_accuracy: 0.9780 - val_loss: 0.0690\n",
            "Epoch 80/100\n",
            "\u001b[1m6/6\u001b[0m \u001b[32m━━━━━━━━━━━━━━━━━━━━\u001b[0m\u001b[37m\u001b[0m \u001b[1m0s\u001b[0m 6ms/step - accuracy: 0.9967 - loss: 0.0171 - val_accuracy: 0.9780 - val_loss: 0.0692\n",
            "Epoch 81/100\n",
            "\u001b[1m6/6\u001b[0m \u001b[32m━━━━━━━━━━━━━━━━━━━━\u001b[0m\u001b[37m\u001b[0m \u001b[1m0s\u001b[0m 7ms/step - accuracy: 0.9905 - loss: 0.0278 - val_accuracy: 0.9780 - val_loss: 0.0687\n",
            "Epoch 82/100\n",
            "\u001b[1m6/6\u001b[0m \u001b[32m━━━━━━━━━━━━━━━━━━━━\u001b[0m\u001b[37m\u001b[0m \u001b[1m0s\u001b[0m 6ms/step - accuracy: 0.9905 - loss: 0.0251 - val_accuracy: 0.9780 - val_loss: 0.0689\n",
            "Epoch 83/100\n",
            "\u001b[1m6/6\u001b[0m \u001b[32m━━━━━━━━━━━━━━━━━━━━\u001b[0m\u001b[37m\u001b[0m \u001b[1m0s\u001b[0m 6ms/step - accuracy: 0.9949 - loss: 0.0171 - val_accuracy: 0.9780 - val_loss: 0.0691\n",
            "Epoch 84/100\n",
            "\u001b[1m6/6\u001b[0m \u001b[32m━━━━━━━━━━━━━━━━━━━━\u001b[0m\u001b[37m\u001b[0m \u001b[1m0s\u001b[0m 7ms/step - accuracy: 0.9949 - loss: 0.0179 - val_accuracy: 0.9780 - val_loss: 0.0699\n",
            "Epoch 85/100\n",
            "\u001b[1m6/6\u001b[0m \u001b[32m━━━━━━━━━━━━━━━━━━━━\u001b[0m\u001b[37m\u001b[0m \u001b[1m0s\u001b[0m 7ms/step - accuracy: 0.9916 - loss: 0.0202 - val_accuracy: 0.9780 - val_loss: 0.0700\n",
            "Epoch 86/100\n",
            "\u001b[1m6/6\u001b[0m \u001b[32m━━━━━━━━━━━━━━━━━━━━\u001b[0m\u001b[37m\u001b[0m \u001b[1m0s\u001b[0m 6ms/step - accuracy: 0.9970 - loss: 0.0124 - val_accuracy: 0.9780 - val_loss: 0.0706\n",
            "Epoch 87/100\n",
            "\u001b[1m6/6\u001b[0m \u001b[32m━━━━━━━━━━━━━━━━━━━━\u001b[0m\u001b[37m\u001b[0m \u001b[1m0s\u001b[0m 6ms/step - accuracy: 0.9962 - loss: 0.0157 - val_accuracy: 0.9780 - val_loss: 0.0708\n",
            "Epoch 88/100\n",
            "\u001b[1m6/6\u001b[0m \u001b[32m━━━━━━━━━━━━━━━━━━━━\u001b[0m\u001b[37m\u001b[0m \u001b[1m0s\u001b[0m 6ms/step - accuracy: 0.9980 - loss: 0.0124 - val_accuracy: 0.9780 - val_loss: 0.0715\n",
            "Epoch 89/100\n",
            "\u001b[1m6/6\u001b[0m \u001b[32m━━━━━━━━━━━━━━━━━━━━\u001b[0m\u001b[37m\u001b[0m \u001b[1m0s\u001b[0m 7ms/step - accuracy: 0.9929 - loss: 0.0167 - val_accuracy: 0.9780 - val_loss: 0.0705\n",
            "Epoch 90/100\n",
            "\u001b[1m6/6\u001b[0m \u001b[32m━━━━━━━━━━━━━━━━━━━━\u001b[0m\u001b[37m\u001b[0m \u001b[1m0s\u001b[0m 7ms/step - accuracy: 0.9967 - loss: 0.0129 - val_accuracy: 0.9780 - val_loss: 0.0709\n",
            "Epoch 91/100\n",
            "\u001b[1m6/6\u001b[0m \u001b[32m━━━━━━━━━━━━━━━━━━━━\u001b[0m\u001b[37m\u001b[0m \u001b[1m0s\u001b[0m 7ms/step - accuracy: 0.9929 - loss: 0.0189 - val_accuracy: 0.9780 - val_loss: 0.0711\n",
            "Epoch 92/100\n",
            "\u001b[1m6/6\u001b[0m \u001b[32m━━━━━━━━━━━━━━━━━━━━\u001b[0m\u001b[37m\u001b[0m \u001b[1m0s\u001b[0m 6ms/step - accuracy: 0.9962 - loss: 0.0130 - val_accuracy: 0.9780 - val_loss: 0.0713\n",
            "Epoch 93/100\n",
            "\u001b[1m6/6\u001b[0m \u001b[32m━━━━━━━━━━━━━━━━━━━━\u001b[0m\u001b[37m\u001b[0m \u001b[1m0s\u001b[0m 7ms/step - accuracy: 0.9962 - loss: 0.0134 - val_accuracy: 0.9780 - val_loss: 0.0719\n",
            "Epoch 94/100\n",
            "\u001b[1m6/6\u001b[0m \u001b[32m━━━━━━━━━━━━━━━━━━━━\u001b[0m\u001b[37m\u001b[0m \u001b[1m0s\u001b[0m 7ms/step - accuracy: 0.9974 - loss: 0.0111 - val_accuracy: 0.9780 - val_loss: 0.0726\n",
            "Epoch 95/100\n",
            "\u001b[1m6/6\u001b[0m \u001b[32m━━━━━━━━━━━━━━━━━━━━\u001b[0m\u001b[37m\u001b[0m \u001b[1m0s\u001b[0m 7ms/step - accuracy: 0.9957 - loss: 0.0121 - val_accuracy: 0.9780 - val_loss: 0.0726\n",
            "Epoch 96/100\n",
            "\u001b[1m6/6\u001b[0m \u001b[32m━━━━━━━━━━━━━━━━━━━━\u001b[0m\u001b[37m\u001b[0m \u001b[1m0s\u001b[0m 10ms/step - accuracy: 0.9905 - loss: 0.0171 - val_accuracy: 0.9780 - val_loss: 0.0731\n",
            "Epoch 97/100\n",
            "\u001b[1m6/6\u001b[0m \u001b[32m━━━━━━━━━━━━━━━━━━━━\u001b[0m\u001b[37m\u001b[0m \u001b[1m0s\u001b[0m 7ms/step - accuracy: 0.9970 - loss: 0.0109 - val_accuracy: 0.9780 - val_loss: 0.0740\n",
            "Epoch 98/100\n",
            "\u001b[1m6/6\u001b[0m \u001b[32m━━━━━━━━━━━━━━━━━━━━\u001b[0m\u001b[37m\u001b[0m \u001b[1m0s\u001b[0m 6ms/step - accuracy: 0.9946 - loss: 0.0119 - val_accuracy: 0.9780 - val_loss: 0.0742\n",
            "Epoch 99/100\n",
            "\u001b[1m6/6\u001b[0m \u001b[32m━━━━━━━━━━━━━━━━━━━━\u001b[0m\u001b[37m\u001b[0m \u001b[1m0s\u001b[0m 6ms/step - accuracy: 0.9974 - loss: 0.0108 - val_accuracy: 0.9780 - val_loss: 0.0752\n",
            "Epoch 100/100\n",
            "\u001b[1m6/6\u001b[0m \u001b[32m━━━━━━━━━━━━━━━━━━━━\u001b[0m\u001b[37m\u001b[0m \u001b[1m0s\u001b[0m 7ms/step - accuracy: 0.9962 - loss: 0.0098 - val_accuracy: 0.9780 - val_loss: 0.0750\n"
          ]
        }
      ],
      "source": [
        "# Compiling the model\n",
        "model.compile(loss=\"binary_crossentropy\", optimizer=\"adam\", metrics=[\"accuracy\"])\n",
        "\n",
        "# Training and evaluating the model\n",
        "history = model.fit(X_train, y_train, epochs=100, batch_size=64, validation_split=0.2)"
      ]
    },
    {
      "cell_type": "code",
      "execution_count": null,
      "metadata": {
        "id": "hXqaEJsI4BTq",
        "outputId": "6889ffb0-cb22-485c-9579-b49f5338cc54"
      },
      "outputs": [
        {
          "data": {
            "image/png": "[encoded data removed]",
            "text/plain": [
              "<Figure size 1200x800 with 1 Axes>"
            ]
          },
          "metadata": {},
          "output_type": "display_data"
        },
        {
          "name": "stdout",
          "output_type": "stream",
          "text": [
            "\u001b[1m4/4\u001b[0m \u001b[32m━━━━━━━━━━━━━━━━━━━━\u001b[0m\u001b[37m\u001b[0m \u001b[1m0s\u001b[0m 2ms/step - accuracy: 0.9909 - loss: 0.0283 \n",
            "Loss     :  0.04363087937235832\n",
            "accuracy :  0.9824561476707458\n"
          ]
        }
      ],
      "source": [
        "# Plot the learning curves\n",
        "import pandas as pd\n",
        "import matplotlib.pyplot as plt\n",
        "pd.DataFrame(history.history).plot(figsize=(12, 8))\n",
        "plt.grid(True)\n",
        "plt.gca().set_ylim(0, 1) # set the vertical range to [0-1]\n",
        "plt.show()\n",
        "\n",
        "# Evaluate the model\n",
        "model_evaluate = model.evaluate(X_test, y_test)\n",
        "print(\"Loss     : \",model_evaluate[0])\n",
        "print(\"accuracy : \",model_evaluate[1])\n"
      ]
    },
    {
      "cell_type": "code",
      "execution_count": null,
      "metadata": {
        "id": "EU5ViireYfda",
        "outputId": "3b76ba1f-c416-4dae-b8ab-5e3f69ea9bec"
      },
      "outputs": [
        {
          "name": "stdout",
          "output_type": "stream",
          "text": [
            "\u001b[1m4/4\u001b[0m \u001b[32m━━━━━━━━━━━━━━━━━━━━\u001b[0m\u001b[37m\u001b[0m \u001b[1m0s\u001b[0m 1ms/step \n"
          ]
        },
        {
          "data": {
            "text/plain": [
              "array([[9.9861783e-01],\n",
              "       [2.5260992e-14],\n",
              "       [5.6395978e-03],\n",
              "       [9.9999744e-01],\n",
              "       [5.2877393e-05],\n",
              "       [9.9838811e-01],\n",
              "       [9.9785721e-01],\n",
              "       [9.9950141e-01],\n",
              "       [1.7043017e-06],\n",
              "       [1.8656733e-13],\n",
              "       [9.9275589e-01],\n",
              "       [9.6761358e-01],\n",
              "       [2.5221542e-08],\n",
              "       [9.9977815e-01],\n",
              "       [1.1963042e-06],\n",
              "       [9.9866223e-01],\n",
              "       [9.8685569e-01],\n",
              "       [9.9999988e-01],\n",
              "       [3.3758770e-04],\n",
              "       [3.4750532e-03],\n",
              "       [9.9998373e-01],\n",
              "       [3.6022237e-07],\n",
              "       [9.9988478e-01],\n",
              "       [9.9996233e-01],\n",
              "       [9.8417908e-01],\n",
              "       [1.9272561e-06],\n",
              "       [1.7820139e-05],\n",
              "       [9.9777627e-01],\n",
              "       [9.9997747e-01],\n",
              "       [9.8989624e-01],\n",
              "       [9.9870121e-01],\n",
              "       [9.9999940e-01],\n",
              "       [1.7164107e-02],\n",
              "       [9.1000009e-01],\n",
              "       [9.9996418e-01],\n",
              "       [9.9998927e-01],\n",
              "       [1.2247920e-03],\n",
              "       [9.9900830e-01],\n",
              "       [6.0057215e-04],\n",
              "       [3.5570094e-01],\n",
              "       [9.9912292e-01],\n",
              "       [5.3713005e-02],\n",
              "       [6.1570684e-04],\n",
              "       [9.9999285e-01],\n",
              "       [9.3973943e-12],\n",
              "       [9.9974036e-01],\n",
              "       [9.9998730e-01],\n",
              "       [9.9962240e-01],\n",
              "       [1.9091312e-08],\n",
              "       [1.1971976e-04],\n",
              "       [9.9094111e-01],\n",
              "       [2.4854185e-03],\n",
              "       [9.9995655e-01],\n",
              "       [9.9496961e-01],\n",
              "       [9.9999702e-01],\n",
              "       [9.9998927e-01],\n",
              "       [9.9916285e-01],\n",
              "       [9.9998325e-01],\n",
              "       [9.9996036e-01],\n",
              "       [9.9997377e-01],\n",
              "       [9.9999928e-01],\n",
              "       [3.2247299e-06],\n",
              "       [1.3872274e-04],\n",
              "       [9.9969739e-01],\n",
              "       [9.9999994e-01],\n",
              "       [9.9999750e-01],\n",
              "       [1.8562775e-02],\n",
              "       [9.9997729e-01],\n",
              "       [9.9998158e-01],\n",
              "       [9.9999952e-01],\n",
              "       [5.2750714e-08],\n",
              "       [9.9999166e-01],\n",
              "       [9.9994248e-01],\n",
              "       [9.9998617e-01],\n",
              "       [6.9759216e-07],\n",
              "       [2.0254539e-04],\n",
              "       [9.9949765e-01],\n",
              "       [9.9981612e-01],\n",
              "       [9.9558294e-01],\n",
              "       [9.9186529e-04],\n",
              "       [9.9984133e-01],\n",
              "       [9.9987805e-01],\n",
              "       [9.9976718e-01],\n",
              "       [9.9999815e-01],\n",
              "       [9.5286471e-01],\n",
              "       [4.1239394e-04],\n",
              "       [9.9999982e-01],\n",
              "       [2.3454247e-04],\n",
              "       [1.5161634e-02],\n",
              "       [9.9999988e-01],\n",
              "       [9.9993598e-01],\n",
              "       [9.9989748e-01],\n",
              "       [1.5725671e-11],\n",
              "       [9.9992722e-01],\n",
              "       [9.9999988e-01],\n",
              "       [9.9995846e-01],\n",
              "       [9.9998629e-01],\n",
              "       [9.9993801e-01],\n",
              "       [9.9999833e-01],\n",
              "       [1.8648737e-03],\n",
              "       [2.9473189e-05],\n",
              "       [9.9999255e-01],\n",
              "       [9.6531981e-01],\n",
              "       [9.9997175e-01],\n",
              "       [9.9977684e-01],\n",
              "       [9.8901886e-01],\n",
              "       [6.6574156e-01],\n",
              "       [2.0938081e-05],\n",
              "       [5.6730182e-04],\n",
              "       [9.9999613e-01],\n",
              "       [9.9981767e-01],\n",
              "       [1.3199364e-04],\n",
              "       [1.8680251e-04],\n",
              "       [2.1751812e-03]], dtype=float32)"
            ]
          },
          "execution_count": 26,
          "metadata": {},
          "output_type": "execute_result"
        }
      ],
      "source": [
        "model.predict(X_test)"
      ]
    },
    {
      "cell_type": "code",
      "execution_count": null,
      "metadata": {
        "id": "rTP5qrDbYfdc",
        "outputId": "338a427c-8809-4df5-f957-7537cd57cafa"
      },
      "outputs": [
        {
          "name": "stdout",
          "output_type": "stream",
          "text": [
            "\u001b[1m4/4\u001b[0m \u001b[32m━━━━━━━━━━━━━━━━━━━━\u001b[0m\u001b[37m\u001b[0m \u001b[1m0s\u001b[0m 1ms/step \n"
          ]
        },
        {
          "data": {
            "text/plain": [
              "[[1],\n",
              " [0],\n",
              " [0],\n",
              " [1],\n",
              " [0],\n",
              " [1],\n",
              " [1],\n",
              " [1],\n",
              " [0],\n",
              " [0],\n",
              " [1],\n",
              " [1],\n",
              " [0],\n",
              " [1],\n",
              " [0],\n",
              " [1],\n",
              " [1],\n",
              " [1],\n",
              " [0],\n",
              " [0],\n",
              " [1],\n",
              " [0],\n",
              " [1],\n",
              " [1],\n",
              " [1],\n",
              " [0],\n",
              " [0],\n",
              " [1],\n",
              " [1],\n",
              " [1],\n",
              " [1],\n",
              " [1],\n",
              " [0],\n",
              " [1],\n",
              " [1],\n",
              " [1],\n",
              " [0],\n",
              " [1],\n",
              " [0],\n",
              " [0],\n",
              " [1],\n",
              " [0],\n",
              " [0],\n",
              " [1],\n",
              " [0],\n",
              " [1],\n",
              " [1],\n",
              " [1],\n",
              " [0],\n",
              " [0],\n",
              " [1],\n",
              " [0],\n",
              " [1],\n",
              " [1],\n",
              " [1],\n",
              " [1],\n",
              " [1],\n",
              " [1],\n",
              " [1],\n",
              " [1],\n",
              " [1],\n",
              " [0],\n",
              " [0],\n",
              " [1],\n",
              " [1],\n",
              " [1],\n",
              " [0],\n",
              " [1],\n",
              " [1],\n",
              " [1],\n",
              " [0],\n",
              " [1],\n",
              " [1],\n",
              " [1],\n",
              " [0],\n",
              " [0],\n",
              " [1],\n",
              " [1],\n",
              " [1],\n",
              " [0],\n",
              " [1],\n",
              " [1],\n",
              " [1],\n",
              " [1],\n",
              " [1],\n",
              " [0],\n",
              " [1],\n",
              " [0],\n",
              " [0],\n",
              " [1],\n",
              " [1],\n",
              " [1],\n",
              " [0],\n",
              " [1],\n",
              " [1],\n",
              " [1],\n",
              " [1],\n",
              " [1],\n",
              " [1],\n",
              " [0],\n",
              " [0],\n",
              " [1],\n",
              " [1],\n",
              " [1],\n",
              " [1],\n",
              " [1],\n",
              " [1],\n",
              " [0],\n",
              " [0],\n",
              " [1],\n",
              " [1],\n",
              " [0],\n",
              " [0],\n",
              " [0]]"
            ]
          },
          "execution_count": 28,
          "metadata": {},
          "output_type": "execute_result"
        }
      ],
      "source": [
        "y_pred = (model.predict(X_test) > 0.5).astype(\"int32\").tolist()\n",
        "\n",
        "y_pred"
      ]
    },
    {
      "cell_type": "code",
      "execution_count": null,
      "metadata": {
        "id": "06DLg09r4JwW",
        "outputId": "7d668e74-3ce4-447f-c8d1-4d0b8530aaad"
      },
      "outputs": [
        {
          "name": "stdout",
          "output_type": "stream",
          "text": [
            "Classification report : \n",
            "               precision    recall  f1-score   support\n",
            "\n",
            "           0       1.00      0.95      0.98        42\n",
            "           1       0.97      1.00      0.99        72\n",
            "\n",
            "    accuracy                           0.98       114\n",
            "   macro avg       0.99      0.98      0.98       114\n",
            "weighted avg       0.98      0.98      0.98       114\n",
            "\n",
            "Confusion matrix : \n",
            "\n",
            "[[40  2]\n",
            " [ 0 72]]\n"
          ]
        },
        {
          "data": {
            "image/png": "[encoded data removed]",
            "text/plain": [
              "<Figure size 640x480 with 1 Axes>"
            ]
          },
          "metadata": {},
          "output_type": "display_data"
        },
        {
          "name": "stdout",
          "output_type": "stream",
          "text": [
            "Normalized confusion matrix : \n",
            "\n",
            "[[0.95 0.05]\n",
            " [0.   1.  ]]\n"
          ]
        },
        {
          "data": {
            "image/png": "[encoded data removed]",
            "text/plain": [
              "<Figure size 640x480 with 1 Axes>"
            ]
          },
          "metadata": {},
          "output_type": "display_data"
        }
      ],
      "source": [
        "# Confusion Matrix\n",
        "\n",
        "class_names = [\"0\", \"1\"]\n",
        "\n",
        "# Compute classification report\n",
        "from sklearn.metrics import classification_report, confusion_matrix\n",
        "print(\"Classification report : \\n\",classification_report(y_test, y_pred, target_names = class_names))\n",
        "\n",
        "# Function to draw confusion matrix\n",
        "import seaborn as sns\n",
        "def draw_confusion_matrix(true, preds, normalize=None):\n",
        "  # Compute confusion matrix\n",
        "    conf_matx = confusion_matrix(true, preds, normalize = normalize)\n",
        "    conf_matx = np.round(conf_matx, 2)\n",
        "    print(conf_matx)\n",
        "\n",
        "  # plt.subplots(figsize=(14,8))\n",
        "    sns.heatmap(conf_matx, annot=True, annot_kws={\"size\": 12},fmt=\"g\", cbar=False, cmap=\"viridis\")\n",
        "    plt.show()\n",
        "\n",
        "print(\"Confusion matrix : \\n\")\n",
        "draw_confusion_matrix(y_test, y_pred)\n",
        "\n",
        "print(\"Normalized confusion matrix : \\n\")\n",
        "draw_confusion_matrix(y_test, y_pred, \"true\")\n"
      ]
    },
    {
      "cell_type": "code",
      "execution_count": null,
      "metadata": {
        "id": "Xvml6OlvYfde"
      },
      "outputs": [],
      "source": [
        "# Make predictions\n",
        "# predicted = my_model.predict(X_new)\n",
        "\n",
        "# Save the model\n",
        "# my_model.save(\"/content/my_model.h5\")\n"
      ]
    },
    {
      "cell_type": "code",
      "execution_count": null,
      "metadata": {
        "id": "puwBJVxiYfdf"
      },
      "outputs": [],
      "source": []
    }
  ],
  "metadata": {
    "accelerator": "GPU",
    "colab": {
      "collapsed_sections": [
        "NdoGNlZTTYUa",
        "hu5wtVsc5AIy",
        "9QygCjekayQ8",
        "qm2UojF4MQtr",
        "lqe4mIAzjNZb",
        "3DLYVxBy0Bjy"
      ],
      "provenance": [],
      "toc_visible": true
    },
    "kernelspec": {
      "display_name": "Python 3 (ipykernel)",
      "language": "python",
      "name": "python3"
    },
    "language_info": {
      "codemirror_mode": {
        "name": "ipython",
        "version": 3
      },
      "file_extension": ".py",
      "mimetype": "text/x-python",
      "name": "python",
      "nbconvert_exporter": "python",
      "pygments_lexer": "ipython3",
      "version": "3.11.5"
    }
  },
  "nbformat": 4,
  "nbformat_minor": 0
}